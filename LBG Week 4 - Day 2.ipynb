{
 "cells": [
  {
   "cell_type": "markdown",
   "id": "4df93182",
   "metadata": {},
   "source": [
    "# Starter"
   ]
  },
  {
   "cell_type": "code",
   "execution_count": 18,
   "id": "77c81dfd",
   "metadata": {},
   "outputs": [
    {
     "data": {
      "text/plain": [
       "'laura'"
      ]
     },
     "execution_count": 18,
     "metadata": {},
     "output_type": "execute_result"
    }
   ],
   "source": [
    "name = 'laura'\n",
    "name"
   ]
  },
  {
   "cell_type": "code",
   "execution_count": 15,
   "id": "89d3aa04",
   "metadata": {},
   "outputs": [
    {
     "data": {
      "text/plain": [
       "'Laura'"
      ]
     },
     "execution_count": 15,
     "metadata": {},
     "output_type": "execute_result"
    }
   ],
   "source": [
    "name = 'laura'\n",
    "name.capitalize()"
   ]
  },
  {
   "cell_type": "code",
   "execution_count": 19,
   "id": "49e9b6b1",
   "metadata": {
    "scrolled": true
   },
   "outputs": [
    {
     "data": {
      "text/plain": [
       "'l'"
      ]
     },
     "execution_count": 19,
     "metadata": {},
     "output_type": "execute_result"
    }
   ],
   "source": [
    "name[0]"
   ]
  },
  {
   "cell_type": "code",
   "execution_count": 20,
   "id": "9a254a2a",
   "metadata": {},
   "outputs": [
    {
     "data": {
      "text/plain": [
       "'a'"
      ]
     },
     "execution_count": 20,
     "metadata": {},
     "output_type": "execute_result"
    }
   ],
   "source": [
    "name[-1]"
   ]
  },
  {
   "cell_type": "code",
   "execution_count": 21,
   "id": "6c701e52",
   "metadata": {},
   "outputs": [
    {
     "data": {
      "text/plain": [
       "'aura'"
      ]
     },
     "execution_count": 21,
     "metadata": {},
     "output_type": "execute_result"
    }
   ],
   "source": [
    "name[1:]"
   ]
  },
  {
   "cell_type": "code",
   "execution_count": 22,
   "id": "653bdc7d",
   "metadata": {},
   "outputs": [
    {
     "data": {
      "text/plain": [
       "'lua'"
      ]
     },
     "execution_count": 22,
     "metadata": {},
     "output_type": "execute_result"
    }
   ],
   "source": [
    "name[::2]"
   ]
  },
  {
   "cell_type": "code",
   "execution_count": 23,
   "id": "08b783fb",
   "metadata": {},
   "outputs": [
    {
     "data": {
      "text/plain": [
       "'lauralaura'"
      ]
     },
     "execution_count": 23,
     "metadata": {},
     "output_type": "execute_result"
    }
   ],
   "source": [
    "name*2"
   ]
  },
  {
   "cell_type": "code",
   "execution_count": 27,
   "id": "f21d342d",
   "metadata": {},
   "outputs": [
    {
     "data": {
      "text/html": [
       "<div>\n",
       "<style scoped>\n",
       "    .dataframe tbody tr th:only-of-type {\n",
       "        vertical-align: middle;\n",
       "    }\n",
       "\n",
       "    .dataframe tbody tr th {\n",
       "        vertical-align: top;\n",
       "    }\n",
       "\n",
       "    .dataframe thead th {\n",
       "        text-align: right;\n",
       "    }\n",
       "</style>\n",
       "<table border=\"1\" class=\"dataframe\">\n",
       "  <thead>\n",
       "    <tr style=\"text-align: right;\">\n",
       "      <th></th>\n",
       "      <th>sepal length (cm)</th>\n",
       "      <th>sepal width (cm)</th>\n",
       "      <th>petal length (cm)</th>\n",
       "      <th>petal width (cm)</th>\n",
       "      <th>target</th>\n",
       "    </tr>\n",
       "  </thead>\n",
       "  <tbody>\n",
       "    <tr>\n",
       "      <th>count</th>\n",
       "      <td>150.000000</td>\n",
       "      <td>150.000000</td>\n",
       "      <td>150.000000</td>\n",
       "      <td>150.000000</td>\n",
       "      <td>150.000000</td>\n",
       "    </tr>\n",
       "    <tr>\n",
       "      <th>mean</th>\n",
       "      <td>5.843333</td>\n",
       "      <td>3.057333</td>\n",
       "      <td>3.758000</td>\n",
       "      <td>1.199333</td>\n",
       "      <td>1.000000</td>\n",
       "    </tr>\n",
       "    <tr>\n",
       "      <th>std</th>\n",
       "      <td>0.828066</td>\n",
       "      <td>0.435866</td>\n",
       "      <td>1.765298</td>\n",
       "      <td>0.762238</td>\n",
       "      <td>0.819232</td>\n",
       "    </tr>\n",
       "    <tr>\n",
       "      <th>min</th>\n",
       "      <td>4.300000</td>\n",
       "      <td>2.000000</td>\n",
       "      <td>1.000000</td>\n",
       "      <td>0.100000</td>\n",
       "      <td>0.000000</td>\n",
       "    </tr>\n",
       "    <tr>\n",
       "      <th>25%</th>\n",
       "      <td>5.100000</td>\n",
       "      <td>2.800000</td>\n",
       "      <td>1.600000</td>\n",
       "      <td>0.300000</td>\n",
       "      <td>0.000000</td>\n",
       "    </tr>\n",
       "    <tr>\n",
       "      <th>50%</th>\n",
       "      <td>5.800000</td>\n",
       "      <td>3.000000</td>\n",
       "      <td>4.350000</td>\n",
       "      <td>1.300000</td>\n",
       "      <td>1.000000</td>\n",
       "    </tr>\n",
       "    <tr>\n",
       "      <th>75%</th>\n",
       "      <td>6.400000</td>\n",
       "      <td>3.300000</td>\n",
       "      <td>5.100000</td>\n",
       "      <td>1.800000</td>\n",
       "      <td>2.000000</td>\n",
       "    </tr>\n",
       "    <tr>\n",
       "      <th>max</th>\n",
       "      <td>7.900000</td>\n",
       "      <td>4.400000</td>\n",
       "      <td>6.900000</td>\n",
       "      <td>2.500000</td>\n",
       "      <td>2.000000</td>\n",
       "    </tr>\n",
       "  </tbody>\n",
       "</table>\n",
       "</div>"
      ],
      "text/plain": [
       "       sepal length (cm)  sepal width (cm)  petal length (cm)  \\\n",
       "count         150.000000        150.000000         150.000000   \n",
       "mean            5.843333          3.057333           3.758000   \n",
       "std             0.828066          0.435866           1.765298   \n",
       "min             4.300000          2.000000           1.000000   \n",
       "25%             5.100000          2.800000           1.600000   \n",
       "50%             5.800000          3.000000           4.350000   \n",
       "75%             6.400000          3.300000           5.100000   \n",
       "max             7.900000          4.400000           6.900000   \n",
       "\n",
       "       petal width (cm)      target  \n",
       "count        150.000000  150.000000  \n",
       "mean           1.199333    1.000000  \n",
       "std            0.762238    0.819232  \n",
       "min            0.100000    0.000000  \n",
       "25%            0.300000    0.000000  \n",
       "50%            1.300000    1.000000  \n",
       "75%            1.800000    2.000000  \n",
       "max            2.500000    2.000000  "
      ]
     },
     "execution_count": 27,
     "metadata": {},
     "output_type": "execute_result"
    }
   ],
   "source": [
    "import pandas as pd\n",
    "\n",
    "df = pd.read_csv('iris_dataset.csv')\n",
    "\n",
    "df.describe()"
   ]
  },
  {
   "cell_type": "code",
   "execution_count": 29,
   "id": "7fccb539",
   "metadata": {},
   "outputs": [
    {
     "data": {
      "text/plain": [
       "True"
      ]
     },
     "execution_count": 29,
     "metadata": {},
     "output_type": "execute_result"
    }
   ],
   "source": [
    "name.islower()"
   ]
  },
  {
   "cell_type": "code",
   "execution_count": 31,
   "id": "f646f4d0",
   "metadata": {},
   "outputs": [],
   "source": [
    "name = 'LAURA'"
   ]
  },
  {
   "cell_type": "code",
   "execution_count": 32,
   "id": "49e548b7",
   "metadata": {},
   "outputs": [
    {
     "data": {
      "text/plain": [
       "False"
      ]
     },
     "execution_count": 32,
     "metadata": {},
     "output_type": "execute_result"
    }
   ],
   "source": [
    "name.islower()"
   ]
  },
  {
   "cell_type": "code",
   "execution_count": 35,
   "id": "ba4c02c7",
   "metadata": {},
   "outputs": [
    {
     "name": "stdout",
     "output_type": "stream",
     "text": [
      "The name is uppercase\n"
     ]
    }
   ],
   "source": [
    "if name.isupper():\n",
    "    print ('The name is uppercase')"
   ]
  },
  {
   "cell_type": "code",
   "execution_count": 37,
   "id": "8c78adef",
   "metadata": {},
   "outputs": [],
   "source": [
    "if not name.isupper():\n",
    "    print ('The name is not uppercase')\n",
    "    print ('The name is lowercase')"
   ]
  },
  {
   "cell_type": "code",
   "execution_count": 38,
   "id": "440eeee8",
   "metadata": {},
   "outputs": [
    {
     "name": "stdout",
     "output_type": "stream",
     "text": [
      "Please enter your id: 6\n",
      "Try again! \n"
     ]
    }
   ],
   "source": [
    "ids = [1,2,3,4,5]\n",
    "person_id = input ('Please enter your id: ')\n",
    "\n",
    "if person_id in ids:\n",
    "    print ('Welcome! ')\n",
    "else:\n",
    "    print ('Try again! ')"
   ]
  },
  {
   "cell_type": "code",
   "execution_count": 40,
   "id": "620219be",
   "metadata": {},
   "outputs": [
    {
     "name": "stdout",
     "output_type": "stream",
     "text": [
      "Please enter your id: 6\n",
      "Try again! \n",
      "Please enter your id: 3\n",
      "Welcome! \n"
     ]
    }
   ],
   "source": [
    "ids = [1,2,3,4,5]\n",
    "\n",
    "while person_id not in ids:\n",
    "    person_id = int(input('Please enter your id: '))\n",
    "\n",
    "    if person_id in ids:\n",
    "        print ('Welcome! ')\n",
    "    else:\n",
    "        print ('Try again! ')"
   ]
  },
  {
   "cell_type": "code",
   "execution_count": 41,
   "id": "f270fe74",
   "metadata": {},
   "outputs": [
    {
     "name": "stdout",
     "output_type": "stream",
     "text": [
      "0 is less than 4\n",
      "1 is less than 4\n",
      "2 is less than 4\n",
      "3 is less than 4\n"
     ]
    }
   ],
   "source": [
    "number = 0\n",
    "while number < 4:\n",
    "    print (number, 'is less than 4')\n",
    "    number += 1\n"
   ]
  },
  {
   "cell_type": "markdown",
   "id": "3bb424b6",
   "metadata": {},
   "source": [
    "# Practical lab activity"
   ]
  },
  {
   "cell_type": "code",
   "execution_count": 43,
   "id": "85510571",
   "metadata": {},
   "outputs": [
    {
     "data": {
      "text/plain": [
       "7"
      ]
     },
     "execution_count": 43,
     "metadata": {},
     "output_type": "execute_result"
    }
   ],
   "source": [
    "ages = [90,92,94,95,96,97,98]\n",
    "len(ages)"
   ]
  },
  {
   "cell_type": "code",
   "execution_count": 45,
   "id": "e0893c68",
   "metadata": {},
   "outputs": [
    {
     "data": {
      "text/plain": [
       "90"
      ]
     },
     "execution_count": 45,
     "metadata": {},
     "output_type": "execute_result"
    }
   ],
   "source": [
    "ages[0]"
   ]
  },
  {
   "cell_type": "code",
   "execution_count": 46,
   "id": "162681cc",
   "metadata": {},
   "outputs": [
    {
     "data": {
      "text/plain": [
       "98"
      ]
     },
     "execution_count": 46,
     "metadata": {},
     "output_type": "execute_result"
    }
   ],
   "source": [
    "ages[6]"
   ]
  },
  {
   "cell_type": "code",
   "execution_count": 47,
   "id": "bd2d0ead",
   "metadata": {},
   "outputs": [
    {
     "data": {
      "text/plain": [
       "[95, 96, 97, 98]"
      ]
     },
     "execution_count": 47,
     "metadata": {},
     "output_type": "execute_result"
    }
   ],
   "source": [
    "ages[3:]"
   ]
  },
  {
   "cell_type": "code",
   "execution_count": 48,
   "id": "7916622e",
   "metadata": {},
   "outputs": [
    {
     "name": "stdout",
     "output_type": "stream",
     "text": [
      "90\n",
      "92\n",
      "94\n",
      "95\n",
      "96\n",
      "97\n",
      "98\n"
     ]
    }
   ],
   "source": [
    "for item in ages:\n",
    "    print(item)"
   ]
  },
  {
   "cell_type": "code",
   "execution_count": 53,
   "id": "82d9ae32",
   "metadata": {},
   "outputs": [
    {
     "data": {
      "text/plain": [
       "[90, 92, 94, 95, 96, 97, 98, 100]"
      ]
     },
     "execution_count": 53,
     "metadata": {},
     "output_type": "execute_result"
    }
   ],
   "source": [
    "ages.append(100)\n",
    "ages"
   ]
  },
  {
   "cell_type": "markdown",
   "id": "33c2fb71",
   "metadata": {},
   "source": [
    "## Dictionaries"
   ]
  },
  {
   "cell_type": "code",
   "execution_count": 60,
   "id": "b6e4f219",
   "metadata": {},
   "outputs": [],
   "source": [
    "books = {\n",
    "    'title': 'Hamlet',\n",
    "    'author': 'William Shakespeare',\n",
    "    'language': 'English'\n",
    "}"
   ]
  },
  {
   "cell_type": "code",
   "execution_count": 61,
   "id": "6ed333f2",
   "metadata": {},
   "outputs": [
    {
     "data": {
      "text/plain": [
       "'Hamlet'"
      ]
     },
     "execution_count": 61,
     "metadata": {},
     "output_type": "execute_result"
    }
   ],
   "source": [
    "books['title']"
   ]
  },
  {
   "cell_type": "code",
   "execution_count": 62,
   "id": "8a6770c0",
   "metadata": {},
   "outputs": [
    {
     "data": {
      "text/plain": [
       "dict_keys(['title', 'author', 'language'])"
      ]
     },
     "execution_count": 62,
     "metadata": {},
     "output_type": "execute_result"
    }
   ],
   "source": [
    "books.keys()"
   ]
  },
  {
   "cell_type": "code",
   "execution_count": 63,
   "id": "7d84702c",
   "metadata": {},
   "outputs": [
    {
     "data": {
      "text/plain": [
       "dict_values(['Hamlet', 'William Shakespeare', 'English'])"
      ]
     },
     "execution_count": 63,
     "metadata": {},
     "output_type": "execute_result"
    }
   ],
   "source": [
    "books.values()"
   ]
  },
  {
   "cell_type": "code",
   "execution_count": 66,
   "id": "486525d9",
   "metadata": {},
   "outputs": [
    {
     "data": {
      "text/plain": [
       "dict_items([('title', 'Hamlet'), ('author', 'William Shakespeare'), ('language', 'English')])"
      ]
     },
     "execution_count": 66,
     "metadata": {},
     "output_type": "execute_result"
    }
   ],
   "source": [
    "books.items()"
   ]
  },
  {
   "cell_type": "code",
   "execution_count": 67,
   "id": "9ff78935",
   "metadata": {},
   "outputs": [],
   "source": [
    "books = {\n",
    "    'title': 'King Lear',\n",
    "    'author': 'William Shakespeare',\n",
    "    'language': 'English'\n",
    "}"
   ]
  },
  {
   "cell_type": "code",
   "execution_count": 69,
   "id": "1b40e4fa",
   "metadata": {},
   "outputs": [
    {
     "data": {
      "text/plain": [
       "'King Lear'"
      ]
     },
     "execution_count": 69,
     "metadata": {},
     "output_type": "execute_result"
    }
   ],
   "source": [
    "books['title']"
   ]
  },
  {
   "cell_type": "markdown",
   "id": "ee0766ae",
   "metadata": {},
   "source": [
    "## Selection"
   ]
  },
  {
   "cell_type": "code",
   "execution_count": 70,
   "id": "74653322",
   "metadata": {},
   "outputs": [
    {
     "name": "stdout",
     "output_type": "stream",
     "text": [
      "Please enter your age: 31\n"
     ]
    }
   ],
   "source": [
    "age = int(input('Please enter your age: '))"
   ]
  },
  {
   "cell_type": "code",
   "execution_count": 71,
   "id": "535fe502",
   "metadata": {},
   "outputs": [
    {
     "name": "stdout",
     "output_type": "stream",
     "text": [
      "You are in category A\n"
     ]
    }
   ],
   "source": [
    "if age >= 18:\n",
    "    print ('You are in category A')"
   ]
  },
  {
   "cell_type": "code",
   "execution_count": 72,
   "id": "c2c33960",
   "metadata": {},
   "outputs": [
    {
     "name": "stdout",
     "output_type": "stream",
     "text": [
      "You are in category B\n"
     ]
    }
   ],
   "source": [
    "if age >= 16:\n",
    "    print ('You are in category B')"
   ]
  },
  {
   "cell_type": "code",
   "execution_count": 73,
   "id": "fd237f43",
   "metadata": {},
   "outputs": [],
   "source": [
    "if age < 16:\n",
    "    print ('You are in category C')"
   ]
  },
  {
   "cell_type": "code",
   "execution_count": 74,
   "id": "8980523b",
   "metadata": {},
   "outputs": [
    {
     "name": "stdout",
     "output_type": "stream",
     "text": [
      "You are in category A\n"
     ]
    }
   ],
   "source": [
    "if age >= 18:\n",
    "    print ('You are in category A')\n",
    "elif age >= 16:\n",
    "    print ('You are in category B')\n",
    "else:\n",
    "    print ('You are in category C')"
   ]
  },
  {
   "cell_type": "code",
   "execution_count": null,
   "id": "897c98cc",
   "metadata": {},
   "outputs": [],
   "source": []
  }
 ],
 "metadata": {
  "kernelspec": {
   "display_name": "Python 3 (ipykernel)",
   "language": "python",
   "name": "python3"
  },
  "language_info": {
   "codemirror_mode": {
    "name": "ipython",
    "version": 3
   },
   "file_extension": ".py",
   "mimetype": "text/x-python",
   "name": "python",
   "nbconvert_exporter": "python",
   "pygments_lexer": "ipython3",
   "version": "3.10.9"
  }
 },
 "nbformat": 4,
 "nbformat_minor": 5
}
