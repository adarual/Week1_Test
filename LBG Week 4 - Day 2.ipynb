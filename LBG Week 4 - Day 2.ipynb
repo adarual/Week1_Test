{
 "cells": [
  {
   "cell_type": "markdown",
   "id": "4901c808",
   "metadata": {},
   "source": [
    "# Starter"
   ]
  },
  {
   "cell_type": "code",
   "execution_count": 18,
   "id": "171e95f1",
   "metadata": {},
   "outputs": [
    {
     "data": {
      "text/plain": [
       "'laura'"
      ]
     },
     "execution_count": 18,
     "metadata": {},
     "output_type": "execute_result"
    }
   ],
   "source": [
    "name = 'laura'\n",
    "name"
   ]
  },
  {
   "cell_type": "code",
   "execution_count": 15,
   "id": "fed09138",
   "metadata": {},
   "outputs": [
    {
     "data": {
      "text/plain": [
       "'Laura'"
      ]
     },
     "execution_count": 15,
     "metadata": {},
     "output_type": "execute_result"
    }
   ],
   "source": [
    "name = 'laura'\n",
    "name.capitalize()"
   ]
  },
  {
   "cell_type": "code",
   "execution_count": 19,
   "id": "354229c3",
   "metadata": {
    "scrolled": true
   },
   "outputs": [
    {
     "data": {
      "text/plain": [
       "'l'"
      ]
     },
     "execution_count": 19,
     "metadata": {},
     "output_type": "execute_result"
    }
   ],
   "source": [
    "name[0]"
   ]
  },
  {
   "cell_type": "code",
   "execution_count": 20,
   "id": "a37757c4",
   "metadata": {},
   "outputs": [
    {
     "data": {
      "text/plain": [
       "'a'"
      ]
     },
     "execution_count": 20,
     "metadata": {},
     "output_type": "execute_result"
    }
   ],
   "source": [
    "name[-1]"
   ]
  },
  {
   "cell_type": "code",
   "execution_count": 21,
   "id": "c8cf1667",
   "metadata": {},
   "outputs": [
    {
     "data": {
      "text/plain": [
       "'aura'"
      ]
     },
     "execution_count": 21,
     "metadata": {},
     "output_type": "execute_result"
    }
   ],
   "source": [
    "name[1:]"
   ]
  },
  {
   "cell_type": "code",
   "execution_count": 22,
   "id": "7349ddbb",
   "metadata": {},
   "outputs": [
    {
     "data": {
      "text/plain": [
       "'lua'"
      ]
     },
     "execution_count": 22,
     "metadata": {},
     "output_type": "execute_result"
    }
   ],
   "source": [
    "name[::2]"
   ]
  },
  {
   "cell_type": "code",
   "execution_count": 23,
   "id": "7a2ee772",
   "metadata": {},
   "outputs": [
    {
     "data": {
      "text/plain": [
       "'lauralaura'"
      ]
     },
     "execution_count": 23,
     "metadata": {},
     "output_type": "execute_result"
    }
   ],
   "source": [
    "name*2"
   ]
  },
  {
   "cell_type": "code",
   "execution_count": 27,
   "id": "9ecabf97",
   "metadata": {},
   "outputs": [
    {
     "data": {
      "text/html": [
       "<div>\n",
       "<style scoped>\n",
       "    .dataframe tbody tr th:only-of-type {\n",
       "        vertical-align: middle;\n",
       "    }\n",
       "\n",
       "    .dataframe tbody tr th {\n",
       "        vertical-align: top;\n",
       "    }\n",
       "\n",
       "    .dataframe thead th {\n",
       "        text-align: right;\n",
       "    }\n",
       "</style>\n",
       "<table border=\"1\" class=\"dataframe\">\n",
       "  <thead>\n",
       "    <tr style=\"text-align: right;\">\n",
       "      <th></th>\n",
       "      <th>sepal length (cm)</th>\n",
       "      <th>sepal width (cm)</th>\n",
       "      <th>petal length (cm)</th>\n",
       "      <th>petal width (cm)</th>\n",
       "      <th>target</th>\n",
       "    </tr>\n",
       "  </thead>\n",
       "  <tbody>\n",
       "    <tr>\n",
       "      <th>count</th>\n",
       "      <td>150.000000</td>\n",
       "      <td>150.000000</td>\n",
       "      <td>150.000000</td>\n",
       "      <td>150.000000</td>\n",
       "      <td>150.000000</td>\n",
       "    </tr>\n",
       "    <tr>\n",
       "      <th>mean</th>\n",
       "      <td>5.843333</td>\n",
       "      <td>3.057333</td>\n",
       "      <td>3.758000</td>\n",
       "      <td>1.199333</td>\n",
       "      <td>1.000000</td>\n",
       "    </tr>\n",
       "    <tr>\n",
       "      <th>std</th>\n",
       "      <td>0.828066</td>\n",
       "      <td>0.435866</td>\n",
       "      <td>1.765298</td>\n",
       "      <td>0.762238</td>\n",
       "      <td>0.819232</td>\n",
       "    </tr>\n",
       "    <tr>\n",
       "      <th>min</th>\n",
       "      <td>4.300000</td>\n",
       "      <td>2.000000</td>\n",
       "      <td>1.000000</td>\n",
       "      <td>0.100000</td>\n",
       "      <td>0.000000</td>\n",
       "    </tr>\n",
       "    <tr>\n",
       "      <th>25%</th>\n",
       "      <td>5.100000</td>\n",
       "      <td>2.800000</td>\n",
       "      <td>1.600000</td>\n",
       "      <td>0.300000</td>\n",
       "      <td>0.000000</td>\n",
       "    </tr>\n",
       "    <tr>\n",
       "      <th>50%</th>\n",
       "      <td>5.800000</td>\n",
       "      <td>3.000000</td>\n",
       "      <td>4.350000</td>\n",
       "      <td>1.300000</td>\n",
       "      <td>1.000000</td>\n",
       "    </tr>\n",
       "    <tr>\n",
       "      <th>75%</th>\n",
       "      <td>6.400000</td>\n",
       "      <td>3.300000</td>\n",
       "      <td>5.100000</td>\n",
       "      <td>1.800000</td>\n",
       "      <td>2.000000</td>\n",
       "    </tr>\n",
       "    <tr>\n",
       "      <th>max</th>\n",
       "      <td>7.900000</td>\n",
       "      <td>4.400000</td>\n",
       "      <td>6.900000</td>\n",
       "      <td>2.500000</td>\n",
       "      <td>2.000000</td>\n",
       "    </tr>\n",
       "  </tbody>\n",
       "</table>\n",
       "</div>"
      ],
      "text/plain": [
       "       sepal length (cm)  sepal width (cm)  petal length (cm)  \\\n",
       "count         150.000000        150.000000         150.000000   \n",
       "mean            5.843333          3.057333           3.758000   \n",
       "std             0.828066          0.435866           1.765298   \n",
       "min             4.300000          2.000000           1.000000   \n",
       "25%             5.100000          2.800000           1.600000   \n",
       "50%             5.800000          3.000000           4.350000   \n",
       "75%             6.400000          3.300000           5.100000   \n",
       "max             7.900000          4.400000           6.900000   \n",
       "\n",
       "       petal width (cm)      target  \n",
       "count        150.000000  150.000000  \n",
       "mean           1.199333    1.000000  \n",
       "std            0.762238    0.819232  \n",
       "min            0.100000    0.000000  \n",
       "25%            0.300000    0.000000  \n",
       "50%            1.300000    1.000000  \n",
       "75%            1.800000    2.000000  \n",
       "max            2.500000    2.000000  "
      ]
     },
     "execution_count": 27,
     "metadata": {},
     "output_type": "execute_result"
    }
   ],
   "source": [
    "import pandas as pd\n",
    "\n",
    "df = pd.read_csv('iris_dataset.csv')\n",
    "\n",
    "df.describe()"
   ]
  },
  {
   "cell_type": "code",
   "execution_count": 29,
   "id": "126660d8",
   "metadata": {},
   "outputs": [
    {
     "data": {
      "text/plain": [
       "True"
      ]
     },
     "execution_count": 29,
     "metadata": {},
     "output_type": "execute_result"
    }
   ],
   "source": [
    "name.islower()"
   ]
  },
  {
   "cell_type": "code",
   "execution_count": 31,
   "id": "372e736c",
   "metadata": {},
   "outputs": [],
   "source": [
    "name = 'LAURA'"
   ]
  },
  {
   "cell_type": "code",
   "execution_count": 32,
   "id": "44c7e8d4",
   "metadata": {},
   "outputs": [
    {
     "data": {
      "text/plain": [
       "False"
      ]
     },
     "execution_count": 32,
     "metadata": {},
     "output_type": "execute_result"
    }
   ],
   "source": [
    "name.islower()"
   ]
  },
  {
   "cell_type": "code",
   "execution_count": 35,
   "id": "8ae9f870",
   "metadata": {},
   "outputs": [
    {
     "name": "stdout",
     "output_type": "stream",
     "text": [
      "The name is uppercase\n"
     ]
    }
   ],
   "source": [
    "if name.isupper():\n",
    "    print ('The name is uppercase')"
   ]
  },
  {
   "cell_type": "code",
   "execution_count": 37,
   "id": "0204d32e",
   "metadata": {},
   "outputs": [],
   "source": [
    "if not name.isupper():\n",
    "    print ('The name is not uppercase')\n",
    "    print ('The name is lowercase')"
   ]
  },
  {
   "cell_type": "code",
   "execution_count": 38,
   "id": "d7fb08bd",
   "metadata": {},
   "outputs": [
    {
     "name": "stdout",
     "output_type": "stream",
     "text": [
      "Please enter your id: 6\n",
      "Try again! \n"
     ]
    }
   ],
   "source": [
    "ids = [1,2,3,4,5]\n",
    "person_id = input ('Please enter your id: ')\n",
    "\n",
    "if person_id in ids:\n",
    "    print ('Welcome! ')\n",
    "else:\n",
    "    print ('Try again! ')"
   ]
  },
  {
   "cell_type": "code",
   "execution_count": 40,
   "id": "5517f87d",
   "metadata": {},
   "outputs": [
    {
     "name": "stdout",
     "output_type": "stream",
     "text": [
      "Please enter your id: 6\n",
      "Try again! \n",
      "Please enter your id: 3\n",
      "Welcome! \n"
     ]
    }
   ],
   "source": [
    "ids = [1,2,3,4,5]\n",
    "\n",
    "while person_id not in ids:\n",
    "    person_id = int(input('Please enter your id: '))\n",
    "\n",
    "    if person_id in ids:\n",
    "        print ('Welcome! ')\n",
    "    else:\n",
    "        print ('Try again! ')"
   ]
  },
  {
   "cell_type": "code",
   "execution_count": 41,
   "id": "e2a41d25",
   "metadata": {},
   "outputs": [
    {
     "name": "stdout",
     "output_type": "stream",
     "text": [
      "0 is less than 4\n",
      "1 is less than 4\n",
      "2 is less than 4\n",
      "3 is less than 4\n"
     ]
    }
   ],
   "source": [
    "number = 0\n",
    "while number < 4:\n",
    "    print (number, 'is less than 4')\n",
    "    number += 1\n"
   ]
  },
  {
   "cell_type": "markdown",
   "id": "a9686bb6",
   "metadata": {},
   "source": [
    "# Practical lab activity"
   ]
  },
  {
   "cell_type": "code",
   "execution_count": 43,
   "id": "f04c00c4",
   "metadata": {},
   "outputs": [
    {
     "data": {
      "text/plain": [
       "7"
      ]
     },
     "execution_count": 43,
     "metadata": {},
     "output_type": "execute_result"
    }
   ],
   "source": [
    "ages = [90,92,94,95,96,97,98]\n",
    "len(ages)"
   ]
  },
  {
   "cell_type": "code",
   "execution_count": 45,
   "id": "db426053",
   "metadata": {},
   "outputs": [
    {
     "data": {
      "text/plain": [
       "90"
      ]
     },
     "execution_count": 45,
     "metadata": {},
     "output_type": "execute_result"
    }
   ],
   "source": [
    "ages[0]"
   ]
  },
  {
   "cell_type": "code",
   "execution_count": 46,
   "id": "427da141",
   "metadata": {},
   "outputs": [
    {
     "data": {
      "text/plain": [
       "98"
      ]
     },
     "execution_count": 46,
     "metadata": {},
     "output_type": "execute_result"
    }
   ],
   "source": [
    "ages[6]"
   ]
  },
  {
   "cell_type": "code",
   "execution_count": 47,
   "id": "bbd9c39d",
   "metadata": {},
   "outputs": [
    {
     "data": {
      "text/plain": [
       "[95, 96, 97, 98]"
      ]
     },
     "execution_count": 47,
     "metadata": {},
     "output_type": "execute_result"
    }
   ],
   "source": [
    "ages[3:]"
   ]
  },
  {
   "cell_type": "code",
   "execution_count": 48,
   "id": "4535722d",
   "metadata": {},
   "outputs": [
    {
     "name": "stdout",
     "output_type": "stream",
     "text": [
      "90\n",
      "92\n",
      "94\n",
      "95\n",
      "96\n",
      "97\n",
      "98\n"
     ]
    }
   ],
   "source": [
    "for item in ages:\n",
    "    print(item)"
   ]
  },
  {
   "cell_type": "code",
   "execution_count": 53,
   "id": "a4ee405e",
   "metadata": {},
   "outputs": [
    {
     "data": {
      "text/plain": [
       "[90, 92, 94, 95, 96, 97, 98, 100]"
      ]
     },
     "execution_count": 53,
     "metadata": {},
     "output_type": "execute_result"
    }
   ],
   "source": [
    "ages.append(100)\n",
    "ages"
   ]
  },
  {
   "cell_type": "markdown",
   "id": "d5ebd30d",
   "metadata": {},
   "source": [
    "## Dictionaries"
   ]
  },
  {
   "cell_type": "code",
   "execution_count": 60,
   "id": "60ecbdc4",
   "metadata": {},
   "outputs": [],
   "source": [
    "books = {\n",
    "    'title': 'Hamlet',\n",
    "    'author': 'William Shakespeare',\n",
    "    'language': 'English'\n",
    "}"
   ]
  },
  {
   "cell_type": "code",
   "execution_count": 61,
   "id": "2ca64e93",
   "metadata": {},
   "outputs": [
    {
     "data": {
      "text/plain": [
       "'Hamlet'"
      ]
     },
     "execution_count": 61,
     "metadata": {},
     "output_type": "execute_result"
    }
   ],
   "source": [
    "books['title']"
   ]
  },
  {
   "cell_type": "code",
   "execution_count": 62,
   "id": "2b6d6325",
   "metadata": {},
   "outputs": [
    {
     "data": {
      "text/plain": [
       "dict_keys(['title', 'author', 'language'])"
      ]
     },
     "execution_count": 62,
     "metadata": {},
     "output_type": "execute_result"
    }
   ],
   "source": [
    "books.keys()"
   ]
  },
  {
   "cell_type": "code",
   "execution_count": 63,
   "id": "9618ce6e",
   "metadata": {},
   "outputs": [
    {
     "data": {
      "text/plain": [
       "dict_values(['Hamlet', 'William Shakespeare', 'English'])"
      ]
     },
     "execution_count": 63,
     "metadata": {},
     "output_type": "execute_result"
    }
   ],
   "source": [
    "books.values()"
   ]
  },
  {
   "cell_type": "code",
   "execution_count": 66,
   "id": "058abc95",
   "metadata": {},
   "outputs": [
    {
     "data": {
      "text/plain": [
       "dict_items([('title', 'Hamlet'), ('author', 'William Shakespeare'), ('language', 'English')])"
      ]
     },
     "execution_count": 66,
     "metadata": {},
     "output_type": "execute_result"
    }
   ],
   "source": [
    "books.items()"
   ]
  },
  {
   "cell_type": "code",
   "execution_count": 67,
   "id": "23d67655",
   "metadata": {},
   "outputs": [],
   "source": [
    "books = {\n",
    "    'title': 'King Lear',\n",
    "    'author': 'William Shakespeare',\n",
    "    'language': 'English'\n",
    "}"
   ]
  },
  {
   "cell_type": "code",
   "execution_count": 69,
   "id": "0979e601",
   "metadata": {},
   "outputs": [
    {
     "data": {
      "text/plain": [
       "'King Lear'"
      ]
     },
     "execution_count": 69,
     "metadata": {},
     "output_type": "execute_result"
    }
   ],
   "source": [
    "books['title']"
   ]
  },
  {
   "cell_type": "markdown",
   "id": "1e13f601",
   "metadata": {},
   "source": [
    "## Selection"
   ]
  },
  {
   "cell_type": "code",
   "execution_count": 70,
   "id": "24f6d25c",
   "metadata": {},
   "outputs": [
    {
     "name": "stdout",
     "output_type": "stream",
     "text": [
      "Please enter your age: 31\n"
     ]
    }
   ],
   "source": [
    "age = int(input('Please enter your age: '))"
   ]
  },
  {
   "cell_type": "code",
   "execution_count": 71,
   "id": "397c0780",
   "metadata": {},
   "outputs": [
    {
     "name": "stdout",
     "output_type": "stream",
     "text": [
      "You are in category A\n"
     ]
    }
   ],
   "source": [
    "if age >= 18:\n",
    "    print ('You are in category A')"
   ]
  },
  {
   "cell_type": "code",
   "execution_count": 72,
   "id": "f47157ae",
   "metadata": {},
   "outputs": [
    {
     "name": "stdout",
     "output_type": "stream",
     "text": [
      "You are in category B\n"
     ]
    }
   ],
   "source": [
    "if age >= 16:\n",
    "    print ('You are in category B')"
   ]
  },
  {
   "cell_type": "code",
   "execution_count": 73,
   "id": "c5705ce4",
   "metadata": {},
   "outputs": [],
   "source": [
    "if age < 16:\n",
    "    print ('You are in category C')"
   ]
  },
  {
   "cell_type": "code",
   "execution_count": 74,
   "id": "eb73fe98",
   "metadata": {},
   "outputs": [
    {
     "name": "stdout",
     "output_type": "stream",
     "text": [
      "You are in category A\n"
     ]
    }
   ],
   "source": [
    "if age >= 18:\n",
    "    print ('You are in category A')\n",
    "elif age >= 16:\n",
    "    print ('You are in category B')\n",
    "else:\n",
    "    print ('You are in category C')"
   ]
  },
  {
   "cell_type": "code",
   "execution_count": null,
   "id": "67f324c3",
   "metadata": {},
   "outputs": [],
   "source": []
  },
  {
   "cell_type": "markdown",
   "id": "818ef6b4",
   "metadata": {},
   "source": [
    "# Numpy"
   ]
  },
  {
   "cell_type": "code",
   "execution_count": 75,
   "id": "ded7d2c5",
   "metadata": {},
   "outputs": [],
   "source": [
    "import numpy as np"
   ]
  },
  {
   "cell_type": "code",
   "execution_count": 76,
   "id": "20d743d5",
   "metadata": {},
   "outputs": [],
   "source": [
    "payments = np.array([6.99, 12.40, 75.00, 1.55])"
   ]
  },
  {
   "cell_type": "code",
   "execution_count": 77,
   "id": "51d6e48c",
   "metadata": {},
   "outputs": [
    {
     "name": "stdout",
     "output_type": "stream",
     "text": [
      "[ 6.99 12.4  75.    1.55]\n"
     ]
    }
   ],
   "source": [
    "print(payments)"
   ]
  },
  {
   "cell_type": "code",
   "execution_count": 78,
   "id": "49732342",
   "metadata": {},
   "outputs": [
    {
     "data": {
      "text/plain": [
       "array([ 6.99, 12.4 , 75.  ,  1.55])"
      ]
     },
     "execution_count": 78,
     "metadata": {},
     "output_type": "execute_result"
    }
   ],
   "source": [
    "payments"
   ]
  },
  {
   "cell_type": "code",
   "execution_count": 81,
   "id": "87a94841",
   "metadata": {},
   "outputs": [
    {
     "name": "stdout",
     "output_type": "stream",
     "text": [
      "[3 3 5 7 9]\n"
     ]
    }
   ],
   "source": [
    "arr = np.array([3, 3, 5, 7, 9])\n",
    "\n",
    "print(arr)"
   ]
  },
  {
   "cell_type": "code",
   "execution_count": 84,
   "id": "8c26ea21",
   "metadata": {},
   "outputs": [
    {
     "name": "stdout",
     "output_type": "stream",
     "text": [
      "[[3 3 5 7]\n",
      " [2 4 6 8]\n",
      " [3 4 5 6]]\n"
     ]
    }
   ],
   "source": [
    "arr2 = np.array([[3, 3, 5, 7], [2, 4, 6, 8], [3, 4, 5, 6]])\n",
    "\n",
    "print(arr2)"
   ]
  },
  {
   "cell_type": "code",
   "execution_count": 85,
   "id": "e50892f4",
   "metadata": {},
   "outputs": [
    {
     "data": {
      "text/plain": [
       "2"
      ]
     },
     "execution_count": 85,
     "metadata": {},
     "output_type": "execute_result"
    }
   ],
   "source": [
    "arr2.ndim"
   ]
  },
  {
   "cell_type": "code",
   "execution_count": 86,
   "id": "90f157bb",
   "metadata": {},
   "outputs": [
    {
     "data": {
      "text/plain": [
       "(3, 4)"
      ]
     },
     "execution_count": 86,
     "metadata": {},
     "output_type": "execute_result"
    }
   ],
   "source": [
    "arr2.shape"
   ]
  },
  {
   "cell_type": "code",
   "execution_count": 87,
   "id": "e652ff7e",
   "metadata": {},
   "outputs": [
    {
     "data": {
      "text/plain": [
       "dtype('int32')"
      ]
     },
     "execution_count": 87,
     "metadata": {},
     "output_type": "execute_result"
    }
   ],
   "source": [
    "arr2.dtype"
   ]
  },
  {
   "cell_type": "code",
   "execution_count": null,
   "id": "ac00472c",
   "metadata": {},
   "outputs": [],
   "source": []
  }
 ],
 "metadata": {
  "kernelspec": {
   "display_name": "Python 3 (ipykernel)",
   "language": "python",
   "name": "python3"
  },
  "language_info": {
   "codemirror_mode": {
    "name": "ipython",
    "version": 3
   },
   "file_extension": ".py",
   "mimetype": "text/x-python",
   "name": "python",
   "nbconvert_exporter": "python",
   "pygments_lexer": "ipython3",
   "version": "3.10.9"
  }
 },
 "nbformat": 4,
 "nbformat_minor": 5
}
