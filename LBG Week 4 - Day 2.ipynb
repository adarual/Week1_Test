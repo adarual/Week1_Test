{
 "cells": [
  {
   "cell_type": "markdown",
   "id": "4901c808",
   "metadata": {},
   "source": [
    "# Starter"
   ]
  },
  {
   "cell_type": "code",
   "execution_count": 18,
   "id": "171e95f1",
   "metadata": {},
   "outputs": [
    {
     "data": {
      "text/plain": [
       "'laura'"
      ]
     },
     "execution_count": 18,
     "metadata": {},
     "output_type": "execute_result"
    }
   ],
   "source": [
    "name = 'laura'\n",
    "name"
   ]
  },
  {
   "cell_type": "code",
   "execution_count": 15,
   "id": "fed09138",
   "metadata": {},
   "outputs": [
    {
     "data": {
      "text/plain": [
       "'Laura'"
      ]
     },
     "execution_count": 15,
     "metadata": {},
     "output_type": "execute_result"
    }
   ],
   "source": [
    "name = 'laura'\n",
    "name.capitalize()"
   ]
  },
  {
   "cell_type": "code",
   "execution_count": 19,
   "id": "354229c3",
   "metadata": {
    "scrolled": true
   },
   "outputs": [
    {
     "data": {
      "text/plain": [
       "'l'"
      ]
     },
     "execution_count": 19,
     "metadata": {},
     "output_type": "execute_result"
    }
   ],
   "source": [
    "name[0]"
   ]
  },
  {
   "cell_type": "code",
   "execution_count": 20,
   "id": "a37757c4",
   "metadata": {},
   "outputs": [
    {
     "data": {
      "text/plain": [
       "'a'"
      ]
     },
     "execution_count": 20,
     "metadata": {},
     "output_type": "execute_result"
    }
   ],
   "source": [
    "name[-1]"
   ]
  },
  {
   "cell_type": "code",
   "execution_count": 21,
   "id": "c8cf1667",
   "metadata": {},
   "outputs": [
    {
     "data": {
      "text/plain": [
       "'aura'"
      ]
     },
     "execution_count": 21,
     "metadata": {},
     "output_type": "execute_result"
    }
   ],
   "source": [
    "name[1:]"
   ]
  },
  {
   "cell_type": "code",
   "execution_count": 22,
   "id": "7349ddbb",
   "metadata": {},
   "outputs": [
    {
     "data": {
      "text/plain": [
       "'lua'"
      ]
     },
     "execution_count": 22,
     "metadata": {},
     "output_type": "execute_result"
    }
   ],
   "source": [
    "name[::2]"
   ]
  },
  {
   "cell_type": "code",
   "execution_count": 23,
   "id": "7a2ee772",
   "metadata": {},
   "outputs": [
    {
     "data": {
      "text/plain": [
       "'lauralaura'"
      ]
     },
     "execution_count": 23,
     "metadata": {},
     "output_type": "execute_result"
    }
   ],
   "source": [
    "name*2"
   ]
  },
  {
   "cell_type": "code",
   "execution_count": 27,
   "id": "9ecabf97",
   "metadata": {},
   "outputs": [
    {
     "data": {
      "text/html": [
       "<div>\n",
       "<style scoped>\n",
       "    .dataframe tbody tr th:only-of-type {\n",
       "        vertical-align: middle;\n",
       "    }\n",
       "\n",
       "    .dataframe tbody tr th {\n",
       "        vertical-align: top;\n",
       "    }\n",
       "\n",
       "    .dataframe thead th {\n",
       "        text-align: right;\n",
       "    }\n",
       "</style>\n",
       "<table border=\"1\" class=\"dataframe\">\n",
       "  <thead>\n",
       "    <tr style=\"text-align: right;\">\n",
       "      <th></th>\n",
       "      <th>sepal length (cm)</th>\n",
       "      <th>sepal width (cm)</th>\n",
       "      <th>petal length (cm)</th>\n",
       "      <th>petal width (cm)</th>\n",
       "      <th>target</th>\n",
       "    </tr>\n",
       "  </thead>\n",
       "  <tbody>\n",
       "    <tr>\n",
       "      <th>count</th>\n",
       "      <td>150.000000</td>\n",
       "      <td>150.000000</td>\n",
       "      <td>150.000000</td>\n",
       "      <td>150.000000</td>\n",
       "      <td>150.000000</td>\n",
       "    </tr>\n",
       "    <tr>\n",
       "      <th>mean</th>\n",
       "      <td>5.843333</td>\n",
       "      <td>3.057333</td>\n",
       "      <td>3.758000</td>\n",
       "      <td>1.199333</td>\n",
       "      <td>1.000000</td>\n",
       "    </tr>\n",
       "    <tr>\n",
       "      <th>std</th>\n",
       "      <td>0.828066</td>\n",
       "      <td>0.435866</td>\n",
       "      <td>1.765298</td>\n",
       "      <td>0.762238</td>\n",
       "      <td>0.819232</td>\n",
       "    </tr>\n",
       "    <tr>\n",
       "      <th>min</th>\n",
       "      <td>4.300000</td>\n",
       "      <td>2.000000</td>\n",
       "      <td>1.000000</td>\n",
       "      <td>0.100000</td>\n",
       "      <td>0.000000</td>\n",
       "    </tr>\n",
       "    <tr>\n",
       "      <th>25%</th>\n",
       "      <td>5.100000</td>\n",
       "      <td>2.800000</td>\n",
       "      <td>1.600000</td>\n",
       "      <td>0.300000</td>\n",
       "      <td>0.000000</td>\n",
       "    </tr>\n",
       "    <tr>\n",
       "      <th>50%</th>\n",
       "      <td>5.800000</td>\n",
       "      <td>3.000000</td>\n",
       "      <td>4.350000</td>\n",
       "      <td>1.300000</td>\n",
       "      <td>1.000000</td>\n",
       "    </tr>\n",
       "    <tr>\n",
       "      <th>75%</th>\n",
       "      <td>6.400000</td>\n",
       "      <td>3.300000</td>\n",
       "      <td>5.100000</td>\n",
       "      <td>1.800000</td>\n",
       "      <td>2.000000</td>\n",
       "    </tr>\n",
       "    <tr>\n",
       "      <th>max</th>\n",
       "      <td>7.900000</td>\n",
       "      <td>4.400000</td>\n",
       "      <td>6.900000</td>\n",
       "      <td>2.500000</td>\n",
       "      <td>2.000000</td>\n",
       "    </tr>\n",
       "  </tbody>\n",
       "</table>\n",
       "</div>"
      ],
      "text/plain": [
       "       sepal length (cm)  sepal width (cm)  petal length (cm)  \\\n",
       "count         150.000000        150.000000         150.000000   \n",
       "mean            5.843333          3.057333           3.758000   \n",
       "std             0.828066          0.435866           1.765298   \n",
       "min             4.300000          2.000000           1.000000   \n",
       "25%             5.100000          2.800000           1.600000   \n",
       "50%             5.800000          3.000000           4.350000   \n",
       "75%             6.400000          3.300000           5.100000   \n",
       "max             7.900000          4.400000           6.900000   \n",
       "\n",
       "       petal width (cm)      target  \n",
       "count        150.000000  150.000000  \n",
       "mean           1.199333    1.000000  \n",
       "std            0.762238    0.819232  \n",
       "min            0.100000    0.000000  \n",
       "25%            0.300000    0.000000  \n",
       "50%            1.300000    1.000000  \n",
       "75%            1.800000    2.000000  \n",
       "max            2.500000    2.000000  "
      ]
     },
     "execution_count": 27,
     "metadata": {},
     "output_type": "execute_result"
    }
   ],
   "source": [
    "import pandas as pd\n",
    "\n",
    "df = pd.read_csv('iris_dataset.csv')\n",
    "\n",
    "df.describe()"
   ]
  },
  {
   "cell_type": "code",
   "execution_count": 29,
   "id": "126660d8",
   "metadata": {},
   "outputs": [
    {
     "data": {
      "text/plain": [
       "True"
      ]
     },
     "execution_count": 29,
     "metadata": {},
     "output_type": "execute_result"
    }
   ],
   "source": [
    "name.islower()"
   ]
  },
  {
   "cell_type": "code",
   "execution_count": 31,
   "id": "372e736c",
   "metadata": {},
   "outputs": [],
   "source": [
    "name = 'LAURA'"
   ]
  },
  {
   "cell_type": "code",
   "execution_count": 32,
   "id": "44c7e8d4",
   "metadata": {},
   "outputs": [
    {
     "data": {
      "text/plain": [
       "False"
      ]
     },
     "execution_count": 32,
     "metadata": {},
     "output_type": "execute_result"
    }
   ],
   "source": [
    "name.islower()"
   ]
  },
  {
   "cell_type": "code",
   "execution_count": 35,
   "id": "8ae9f870",
   "metadata": {},
   "outputs": [
    {
     "name": "stdout",
     "output_type": "stream",
     "text": [
      "The name is uppercase\n"
     ]
    }
   ],
   "source": [
    "if name.isupper():\n",
    "    print ('The name is uppercase')"
   ]
  },
  {
   "cell_type": "code",
   "execution_count": 37,
   "id": "0204d32e",
   "metadata": {},
   "outputs": [],
   "source": [
    "if not name.isupper():\n",
    "    print ('The name is not uppercase')\n",
    "    print ('The name is lowercase')"
   ]
  },
  {
   "cell_type": "code",
   "execution_count": 38,
   "id": "d7fb08bd",
   "metadata": {},
   "outputs": [
    {
     "name": "stdout",
     "output_type": "stream",
     "text": [
      "Please enter your id: 6\n",
      "Try again! \n"
     ]
    }
   ],
   "source": [
    "ids = [1,2,3,4,5]\n",
    "person_id = input ('Please enter your id: ')\n",
    "\n",
    "if person_id in ids:\n",
    "    print ('Welcome! ')\n",
    "else:\n",
    "    print ('Try again! ')"
   ]
  },
  {
   "cell_type": "code",
   "execution_count": 40,
   "id": "5517f87d",
   "metadata": {},
   "outputs": [
    {
     "name": "stdout",
     "output_type": "stream",
     "text": [
      "Please enter your id: 6\n",
      "Try again! \n",
      "Please enter your id: 3\n",
      "Welcome! \n"
     ]
    }
   ],
   "source": [
    "ids = [1,2,3,4,5]\n",
    "\n",
    "while person_id not in ids:\n",
    "    person_id = int(input('Please enter your id: '))\n",
    "\n",
    "    if person_id in ids:\n",
    "        print ('Welcome! ')\n",
    "    else:\n",
    "        print ('Try again! ')"
   ]
  },
  {
   "cell_type": "code",
   "execution_count": 41,
   "id": "e2a41d25",
   "metadata": {},
   "outputs": [
    {
     "name": "stdout",
     "output_type": "stream",
     "text": [
      "0 is less than 4\n",
      "1 is less than 4\n",
      "2 is less than 4\n",
      "3 is less than 4\n"
     ]
    }
   ],
   "source": [
    "number = 0\n",
    "while number < 4:\n",
    "    print (number, 'is less than 4')\n",
    "    number += 1\n"
   ]
  },
  {
   "cell_type": "markdown",
   "id": "a9686bb6",
   "metadata": {},
   "source": [
    "# Practical lab activity"
   ]
  },
  {
   "cell_type": "code",
   "execution_count": 43,
   "id": "f04c00c4",
   "metadata": {},
   "outputs": [
    {
     "data": {
      "text/plain": [
       "7"
      ]
     },
     "execution_count": 43,
     "metadata": {},
     "output_type": "execute_result"
    }
   ],
   "source": [
    "ages = [90,92,94,95,96,97,98]\n",
    "len(ages)"
   ]
  },
  {
   "cell_type": "code",
   "execution_count": 45,
   "id": "db426053",
   "metadata": {},
   "outputs": [
    {
     "data": {
      "text/plain": [
       "90"
      ]
     },
     "execution_count": 45,
     "metadata": {},
     "output_type": "execute_result"
    }
   ],
   "source": [
    "ages[0]"
   ]
  },
  {
   "cell_type": "code",
   "execution_count": 46,
   "id": "427da141",
   "metadata": {},
   "outputs": [
    {
     "data": {
      "text/plain": [
       "98"
      ]
     },
     "execution_count": 46,
     "metadata": {},
     "output_type": "execute_result"
    }
   ],
   "source": [
    "ages[6]"
   ]
  },
  {
   "cell_type": "code",
   "execution_count": 47,
   "id": "bbd9c39d",
   "metadata": {},
   "outputs": [
    {
     "data": {
      "text/plain": [
       "[95, 96, 97, 98]"
      ]
     },
     "execution_count": 47,
     "metadata": {},
     "output_type": "execute_result"
    }
   ],
   "source": [
    "ages[3:]"
   ]
  },
  {
   "cell_type": "code",
   "execution_count": 48,
   "id": "4535722d",
   "metadata": {},
   "outputs": [
    {
     "name": "stdout",
     "output_type": "stream",
     "text": [
      "90\n",
      "92\n",
      "94\n",
      "95\n",
      "96\n",
      "97\n",
      "98\n"
     ]
    }
   ],
   "source": [
    "for item in ages:\n",
    "    print(item)"
   ]
  },
  {
   "cell_type": "code",
   "execution_count": 53,
   "id": "a4ee405e",
   "metadata": {},
   "outputs": [
    {
     "data": {
      "text/plain": [
       "[90, 92, 94, 95, 96, 97, 98, 100]"
      ]
     },
     "execution_count": 53,
     "metadata": {},
     "output_type": "execute_result"
    }
   ],
   "source": [
    "ages.append(100)\n",
    "ages"
   ]
  },
  {
   "cell_type": "markdown",
   "id": "d5ebd30d",
   "metadata": {},
   "source": [
    "## Dictionaries"
   ]
  },
  {
   "cell_type": "code",
   "execution_count": 60,
   "id": "60ecbdc4",
   "metadata": {},
   "outputs": [],
   "source": [
    "books = {\n",
    "    'title': 'Hamlet',\n",
    "    'author': 'William Shakespeare',\n",
    "    'language': 'English'\n",
    "}"
   ]
  },
  {
   "cell_type": "code",
   "execution_count": 61,
   "id": "2ca64e93",
   "metadata": {},
   "outputs": [
    {
     "data": {
      "text/plain": [
       "'Hamlet'"
      ]
     },
     "execution_count": 61,
     "metadata": {},
     "output_type": "execute_result"
    }
   ],
   "source": [
    "books['title']"
   ]
  },
  {
   "cell_type": "code",
   "execution_count": 62,
   "id": "2b6d6325",
   "metadata": {},
   "outputs": [
    {
     "data": {
      "text/plain": [
       "dict_keys(['title', 'author', 'language'])"
      ]
     },
     "execution_count": 62,
     "metadata": {},
     "output_type": "execute_result"
    }
   ],
   "source": [
    "books.keys()"
   ]
  },
  {
   "cell_type": "code",
   "execution_count": 63,
   "id": "9618ce6e",
   "metadata": {},
   "outputs": [
    {
     "data": {
      "text/plain": [
       "dict_values(['Hamlet', 'William Shakespeare', 'English'])"
      ]
     },
     "execution_count": 63,
     "metadata": {},
     "output_type": "execute_result"
    }
   ],
   "source": [
    "books.values()"
   ]
  },
  {
   "cell_type": "code",
   "execution_count": 66,
   "id": "058abc95",
   "metadata": {},
   "outputs": [
    {
     "data": {
      "text/plain": [
       "dict_items([('title', 'Hamlet'), ('author', 'William Shakespeare'), ('language', 'English')])"
      ]
     },
     "execution_count": 66,
     "metadata": {},
     "output_type": "execute_result"
    }
   ],
   "source": [
    "books.items()"
   ]
  },
  {
   "cell_type": "code",
   "execution_count": 67,
   "id": "23d67655",
   "metadata": {},
   "outputs": [],
   "source": [
    "books = {\n",
    "    'title': 'King Lear',\n",
    "    'author': 'William Shakespeare',\n",
    "    'language': 'English'\n",
    "}"
   ]
  },
  {
   "cell_type": "code",
   "execution_count": 69,
   "id": "0979e601",
   "metadata": {},
   "outputs": [
    {
     "data": {
      "text/plain": [
       "'King Lear'"
      ]
     },
     "execution_count": 69,
     "metadata": {},
     "output_type": "execute_result"
    }
   ],
   "source": [
    "books['title']"
   ]
  },
  {
   "cell_type": "markdown",
   "id": "1e13f601",
   "metadata": {},
   "source": [
    "## Selection"
   ]
  },
  {
   "cell_type": "code",
   "execution_count": 70,
   "id": "24f6d25c",
   "metadata": {},
   "outputs": [
    {
     "name": "stdout",
     "output_type": "stream",
     "text": [
      "Please enter your age: 31\n"
     ]
    }
   ],
   "source": [
    "age = int(input('Please enter your age: '))"
   ]
  },
  {
   "cell_type": "code",
   "execution_count": 71,
   "id": "397c0780",
   "metadata": {},
   "outputs": [
    {
     "name": "stdout",
     "output_type": "stream",
     "text": [
      "You are in category A\n"
     ]
    }
   ],
   "source": [
    "if age >= 18:\n",
    "    print ('You are in category A')"
   ]
  },
  {
   "cell_type": "code",
   "execution_count": 72,
   "id": "f47157ae",
   "metadata": {},
   "outputs": [
    {
     "name": "stdout",
     "output_type": "stream",
     "text": [
      "You are in category B\n"
     ]
    }
   ],
   "source": [
    "if age >= 16:\n",
    "    print ('You are in category B')"
   ]
  },
  {
   "cell_type": "code",
   "execution_count": 73,
   "id": "c5705ce4",
   "metadata": {},
   "outputs": [],
   "source": [
    "if age < 16:\n",
    "    print ('You are in category C')"
   ]
  },
  {
   "cell_type": "code",
   "execution_count": 74,
   "id": "eb73fe98",
   "metadata": {},
   "outputs": [
    {
     "name": "stdout",
     "output_type": "stream",
     "text": [
      "You are in category A\n"
     ]
    }
   ],
   "source": [
    "if age >= 18:\n",
    "    print ('You are in category A')\n",
    "elif age >= 16:\n",
    "    print ('You are in category B')\n",
    "else:\n",
    "    print ('You are in category C')"
   ]
  },
  {
   "cell_type": "code",
   "execution_count": null,
   "id": "67f324c3",
   "metadata": {},
   "outputs": [],
   "source": []
  },
  {
   "cell_type": "markdown",
   "id": "818ef6b4",
   "metadata": {},
   "source": [
    "# Numpy"
   ]
  },
  {
   "cell_type": "markdown",
   "id": "349581b0",
   "metadata": {},
   "source": [
    "## Practical activity"
   ]
  },
  {
   "cell_type": "code",
   "execution_count": 10,
   "id": "dcbf4dab",
   "metadata": {},
   "outputs": [],
   "source": [
    "import numpy as np\n",
    "\n",
    "x = np.arange(10)\n",
    "y = np.array([[12, 5, 2, 4],\n",
    "               [7, 6, 8, 8],\n",
    "               [1, 6, 7, 7]])"
   ]
  },
  {
   "cell_type": "code",
   "execution_count": 12,
   "id": "1f456af5",
   "metadata": {},
   "outputs": [
    {
     "name": "stdout",
     "output_type": "stream",
     "text": [
      "first_5_elements of x: [0 1 2 3 4]\n"
     ]
    }
   ],
   "source": [
    "first_5_elements = x[:5]\n",
    "print('first_5_elements of x:', first_5_elements)"
   ]
  },
  {
   "cell_type": "code",
   "execution_count": 13,
   "id": "5a489650",
   "metadata": {},
   "outputs": [
    {
     "name": "stdout",
     "output_type": "stream",
     "text": [
      "first column of y: [12  7  1]\n"
     ]
    }
   ],
   "source": [
    "first_column = y[:,0]\n",
    "print('first column of y:', first_column)"
   ]
  },
  {
   "cell_type": "code",
   "execution_count": 14,
   "id": "9e9dd4fa",
   "metadata": {},
   "outputs": [
    {
     "name": "stdout",
     "output_type": "stream",
     "text": [
      "first row of y: [12  5  2  4]\n"
     ]
    }
   ],
   "source": [
    "first_row = y[0,:]\n",
    "print('first row of y:', first_row)"
   ]
  },
  {
   "cell_type": "code",
   "execution_count": 15,
   "id": "2a36b9fa",
   "metadata": {},
   "outputs": [
    {
     "name": "stdout",
     "output_type": "stream",
     "text": [
      "Original row (z):\n",
      "[1 2 3 4]\n",
      "\n",
      "Transposed column (z_column):\n",
      "[[1]\n",
      " [2]\n",
      " [3]\n",
      " [4]]\n"
     ]
    }
   ],
   "source": [
    "z = np.array([1, 2, 3, 4])\n",
    "\n",
    "z_column = z.reshape(-1, 1)\n",
    "\n",
    "print('Original row (z):')\n",
    "print(z)\n",
    "print('\\nTransposed column (z_column):')\n",
    "print(z_column)"
   ]
  },
  {
   "cell_type": "code",
   "execution_count": 16,
   "id": "52a613ab",
   "metadata": {},
   "outputs": [
    {
     "data": {
      "text/plain": [
       "array([[1, 2, 3, 4]])"
      ]
     },
     "execution_count": 16,
     "metadata": {},
     "output_type": "execute_result"
    }
   ],
   "source": [
    "z_column.reshape(1,-1)"
   ]
  },
  {
   "cell_type": "markdown",
   "id": "49d35d3f",
   "metadata": {},
   "source": [
    "## Practical lab"
   ]
  },
  {
   "cell_type": "code",
   "execution_count": 12,
   "id": "d08071a9",
   "metadata": {},
   "outputs": [],
   "source": [
    "import pandas as pd"
   ]
  },
  {
   "cell_type": "code",
   "execution_count": 13,
   "id": "56b2e868",
   "metadata": {},
   "outputs": [],
   "source": [
    "import numpy as np"
   ]
  },
  {
   "cell_type": "code",
   "execution_count": 19,
   "id": "127345aa",
   "metadata": {},
   "outputs": [],
   "source": [
    "df1 = pd.read_csv('Data/mortgage_applicants.csv')"
   ]
  },
  {
   "cell_type": "code",
   "execution_count": 21,
   "id": "2e38067a",
   "metadata": {},
   "outputs": [],
   "source": [
    "df2 = pd.read_excel('Data/mortgage_applicants.xlsx')"
   ]
  },
  {
   "cell_type": "code",
   "execution_count": 23,
   "id": "58fcf013",
   "metadata": {},
   "outputs": [],
   "source": [
    "df3 = pd.read_json('Data/weather.json', orient = 'split')"
   ]
  },
  {
   "cell_type": "code",
   "execution_count": 24,
   "id": "32f1feab",
   "metadata": {},
   "outputs": [
    {
     "data": {
      "text/html": [
       "<div>\n",
       "<style scoped>\n",
       "    .dataframe tbody tr th:only-of-type {\n",
       "        vertical-align: middle;\n",
       "    }\n",
       "\n",
       "    .dataframe tbody tr th {\n",
       "        vertical-align: top;\n",
       "    }\n",
       "\n",
       "    .dataframe thead th {\n",
       "        text-align: right;\n",
       "    }\n",
       "</style>\n",
       "<table border=\"1\" class=\"dataframe\">\n",
       "  <thead>\n",
       "    <tr style=\"text-align: right;\">\n",
       "      <th></th>\n",
       "      <th>Unnamed: 0</th>\n",
       "      <th>ID</th>\n",
       "      <th>Income</th>\n",
       "      <th>Term</th>\n",
       "      <th>Balance</th>\n",
       "      <th>Debt</th>\n",
       "      <th>Score</th>\n",
       "      <th>Default</th>\n",
       "    </tr>\n",
       "  </thead>\n",
       "  <tbody>\n",
       "    <tr>\n",
       "      <th>0</th>\n",
       "      <td>0</td>\n",
       "      <td>567</td>\n",
       "      <td>17626</td>\n",
       "      <td>10 Years</td>\n",
       "      <td>1381</td>\n",
       "      <td>293</td>\n",
       "      <td>228.0</td>\n",
       "      <td>False</td>\n",
       "    </tr>\n",
       "    <tr>\n",
       "      <th>1</th>\n",
       "      <td>1</td>\n",
       "      <td>523</td>\n",
       "      <td>18959</td>\n",
       "      <td>20 Years</td>\n",
       "      <td>883</td>\n",
       "      <td>1012</td>\n",
       "      <td>187.0</td>\n",
       "      <td>False</td>\n",
       "    </tr>\n",
       "    <tr>\n",
       "      <th>2</th>\n",
       "      <td>2</td>\n",
       "      <td>544</td>\n",
       "      <td>20560</td>\n",
       "      <td>10 Years</td>\n",
       "      <td>684</td>\n",
       "      <td>898</td>\n",
       "      <td>86.0</td>\n",
       "      <td>False</td>\n",
       "    </tr>\n",
       "    <tr>\n",
       "      <th>3</th>\n",
       "      <td>3</td>\n",
       "      <td>370</td>\n",
       "      <td>21894</td>\n",
       "      <td>10 Years</td>\n",
       "      <td>748</td>\n",
       "      <td>85</td>\n",
       "      <td>NaN</td>\n",
       "      <td>False</td>\n",
       "    </tr>\n",
       "    <tr>\n",
       "      <th>4</th>\n",
       "      <td>4</td>\n",
       "      <td>756</td>\n",
       "      <td>24430</td>\n",
       "      <td>10 Years</td>\n",
       "      <td>1224</td>\n",
       "      <td>59</td>\n",
       "      <td>504.0</td>\n",
       "      <td>False</td>\n",
       "    </tr>\n",
       "    <tr>\n",
       "      <th>...</th>\n",
       "      <td>...</td>\n",
       "      <td>...</td>\n",
       "      <td>...</td>\n",
       "      <td>...</td>\n",
       "      <td>...</td>\n",
       "      <td>...</td>\n",
       "      <td>...</td>\n",
       "      <td>...</td>\n",
       "    </tr>\n",
       "    <tr>\n",
       "      <th>851</th>\n",
       "      <td>851</td>\n",
       "      <td>71</td>\n",
       "      <td>30191</td>\n",
       "      <td>20 Years</td>\n",
       "      <td>1319</td>\n",
       "      <td>3880</td>\n",
       "      <td>55.0</td>\n",
       "      <td>True</td>\n",
       "    </tr>\n",
       "    <tr>\n",
       "      <th>852</th>\n",
       "      <td>852</td>\n",
       "      <td>932</td>\n",
       "      <td>41669</td>\n",
       "      <td>20 Years</td>\n",
       "      <td>1385</td>\n",
       "      <td>32</td>\n",
       "      <td>780.0</td>\n",
       "      <td>False</td>\n",
       "    </tr>\n",
       "    <tr>\n",
       "      <th>853</th>\n",
       "      <td>853</td>\n",
       "      <td>39</td>\n",
       "      <td>36816</td>\n",
       "      <td>20 Years</td>\n",
       "      <td>1868</td>\n",
       "      <td>3123</td>\n",
       "      <td>366.0</td>\n",
       "      <td>True</td>\n",
       "    </tr>\n",
       "    <tr>\n",
       "      <th>854</th>\n",
       "      <td>854</td>\n",
       "      <td>283</td>\n",
       "      <td>42145</td>\n",
       "      <td>20 Years</td>\n",
       "      <td>1447</td>\n",
       "      <td>2498</td>\n",
       "      <td>422.0</td>\n",
       "      <td>False</td>\n",
       "    </tr>\n",
       "    <tr>\n",
       "      <th>855</th>\n",
       "      <td>855</td>\n",
       "      <td>847</td>\n",
       "      <td>30594</td>\n",
       "      <td>20 Years</td>\n",
       "      <td>1216</td>\n",
       "      <td>2473</td>\n",
       "      <td>179.0</td>\n",
       "      <td>True</td>\n",
       "    </tr>\n",
       "  </tbody>\n",
       "</table>\n",
       "<p>856 rows × 8 columns</p>\n",
       "</div>"
      ],
      "text/plain": [
       "     Unnamed: 0   ID  Income      Term  Balance  Debt  Score  Default\n",
       "0             0  567   17626  10 Years     1381   293  228.0    False\n",
       "1             1  523   18959  20 Years      883  1012  187.0    False\n",
       "2             2  544   20560  10 Years      684   898   86.0    False\n",
       "3             3  370   21894  10 Years      748    85    NaN    False\n",
       "4             4  756   24430  10 Years     1224    59  504.0    False\n",
       "..          ...  ...     ...       ...      ...   ...    ...      ...\n",
       "851         851   71   30191  20 Years     1319  3880   55.0     True\n",
       "852         852  932   41669  20 Years     1385    32  780.0    False\n",
       "853         853   39   36816  20 Years     1868  3123  366.0     True\n",
       "854         854  283   42145  20 Years     1447  2498  422.0    False\n",
       "855         855  847   30594  20 Years     1216  2473  179.0     True\n",
       "\n",
       "[856 rows x 8 columns]"
      ]
     },
     "execution_count": 24,
     "metadata": {},
     "output_type": "execute_result"
    }
   ],
   "source": [
    "df1"
   ]
  },
  {
   "cell_type": "code",
   "execution_count": 25,
   "id": "3b28bfe7",
   "metadata": {},
   "outputs": [
    {
     "data": {
      "text/html": [
       "<div>\n",
       "<style scoped>\n",
       "    .dataframe tbody tr th:only-of-type {\n",
       "        vertical-align: middle;\n",
       "    }\n",
       "\n",
       "    .dataframe tbody tr th {\n",
       "        vertical-align: top;\n",
       "    }\n",
       "\n",
       "    .dataframe thead th {\n",
       "        text-align: right;\n",
       "    }\n",
       "</style>\n",
       "<table border=\"1\" class=\"dataframe\">\n",
       "  <thead>\n",
       "    <tr style=\"text-align: right;\">\n",
       "      <th></th>\n",
       "      <th>Unnamed: 0</th>\n",
       "      <th>ID</th>\n",
       "      <th>Income</th>\n",
       "      <th>Term</th>\n",
       "      <th>Balance</th>\n",
       "      <th>Debt</th>\n",
       "      <th>Score</th>\n",
       "      <th>Default</th>\n",
       "    </tr>\n",
       "  </thead>\n",
       "  <tbody>\n",
       "    <tr>\n",
       "      <th>0</th>\n",
       "      <td>0</td>\n",
       "      <td>567</td>\n",
       "      <td>17626</td>\n",
       "      <td>10 Years</td>\n",
       "      <td>1381</td>\n",
       "      <td>293</td>\n",
       "      <td>228.0</td>\n",
       "      <td>False</td>\n",
       "    </tr>\n",
       "    <tr>\n",
       "      <th>1</th>\n",
       "      <td>1</td>\n",
       "      <td>523</td>\n",
       "      <td>18959</td>\n",
       "      <td>20 Years</td>\n",
       "      <td>883</td>\n",
       "      <td>1012</td>\n",
       "      <td>187.0</td>\n",
       "      <td>False</td>\n",
       "    </tr>\n",
       "    <tr>\n",
       "      <th>2</th>\n",
       "      <td>2</td>\n",
       "      <td>544</td>\n",
       "      <td>20560</td>\n",
       "      <td>10 Years</td>\n",
       "      <td>684</td>\n",
       "      <td>898</td>\n",
       "      <td>86.0</td>\n",
       "      <td>False</td>\n",
       "    </tr>\n",
       "    <tr>\n",
       "      <th>3</th>\n",
       "      <td>3</td>\n",
       "      <td>370</td>\n",
       "      <td>21894</td>\n",
       "      <td>10 Years</td>\n",
       "      <td>748</td>\n",
       "      <td>85</td>\n",
       "      <td>NaN</td>\n",
       "      <td>False</td>\n",
       "    </tr>\n",
       "    <tr>\n",
       "      <th>4</th>\n",
       "      <td>4</td>\n",
       "      <td>756</td>\n",
       "      <td>24430</td>\n",
       "      <td>10 Years</td>\n",
       "      <td>1224</td>\n",
       "      <td>59</td>\n",
       "      <td>504.0</td>\n",
       "      <td>False</td>\n",
       "    </tr>\n",
       "    <tr>\n",
       "      <th>...</th>\n",
       "      <td>...</td>\n",
       "      <td>...</td>\n",
       "      <td>...</td>\n",
       "      <td>...</td>\n",
       "      <td>...</td>\n",
       "      <td>...</td>\n",
       "      <td>...</td>\n",
       "      <td>...</td>\n",
       "    </tr>\n",
       "    <tr>\n",
       "      <th>851</th>\n",
       "      <td>851</td>\n",
       "      <td>71</td>\n",
       "      <td>30191</td>\n",
       "      <td>20 Years</td>\n",
       "      <td>1319</td>\n",
       "      <td>3880</td>\n",
       "      <td>55.0</td>\n",
       "      <td>True</td>\n",
       "    </tr>\n",
       "    <tr>\n",
       "      <th>852</th>\n",
       "      <td>852</td>\n",
       "      <td>932</td>\n",
       "      <td>41669</td>\n",
       "      <td>20 Years</td>\n",
       "      <td>1385</td>\n",
       "      <td>32</td>\n",
       "      <td>780.0</td>\n",
       "      <td>False</td>\n",
       "    </tr>\n",
       "    <tr>\n",
       "      <th>853</th>\n",
       "      <td>853</td>\n",
       "      <td>39</td>\n",
       "      <td>36816</td>\n",
       "      <td>20 Years</td>\n",
       "      <td>1868</td>\n",
       "      <td>3123</td>\n",
       "      <td>366.0</td>\n",
       "      <td>True</td>\n",
       "    </tr>\n",
       "    <tr>\n",
       "      <th>854</th>\n",
       "      <td>854</td>\n",
       "      <td>283</td>\n",
       "      <td>42145</td>\n",
       "      <td>20 Years</td>\n",
       "      <td>1447</td>\n",
       "      <td>2498</td>\n",
       "      <td>422.0</td>\n",
       "      <td>False</td>\n",
       "    </tr>\n",
       "    <tr>\n",
       "      <th>855</th>\n",
       "      <td>855</td>\n",
       "      <td>847</td>\n",
       "      <td>30594</td>\n",
       "      <td>20 Years</td>\n",
       "      <td>1216</td>\n",
       "      <td>2473</td>\n",
       "      <td>179.0</td>\n",
       "      <td>True</td>\n",
       "    </tr>\n",
       "  </tbody>\n",
       "</table>\n",
       "<p>856 rows × 8 columns</p>\n",
       "</div>"
      ],
      "text/plain": [
       "     Unnamed: 0   ID  Income      Term  Balance  Debt  Score  Default\n",
       "0             0  567   17626  10 Years     1381   293  228.0    False\n",
       "1             1  523   18959  20 Years      883  1012  187.0    False\n",
       "2             2  544   20560  10 Years      684   898   86.0    False\n",
       "3             3  370   21894  10 Years      748    85    NaN    False\n",
       "4             4  756   24430  10 Years     1224    59  504.0    False\n",
       "..          ...  ...     ...       ...      ...   ...    ...      ...\n",
       "851         851   71   30191  20 Years     1319  3880   55.0     True\n",
       "852         852  932   41669  20 Years     1385    32  780.0    False\n",
       "853         853   39   36816  20 Years     1868  3123  366.0     True\n",
       "854         854  283   42145  20 Years     1447  2498  422.0    False\n",
       "855         855  847   30594  20 Years     1216  2473  179.0     True\n",
       "\n",
       "[856 rows x 8 columns]"
      ]
     },
     "execution_count": 25,
     "metadata": {},
     "output_type": "execute_result"
    }
   ],
   "source": [
    "df2"
   ]
  },
  {
   "cell_type": "code",
   "execution_count": 26,
   "id": "ec6fcf86",
   "metadata": {},
   "outputs": [
    {
     "data": {
      "text/html": [
       "<div>\n",
       "<style scoped>\n",
       "    .dataframe tbody tr th:only-of-type {\n",
       "        vertical-align: middle;\n",
       "    }\n",
       "\n",
       "    .dataframe tbody tr th {\n",
       "        vertical-align: top;\n",
       "    }\n",
       "\n",
       "    .dataframe thead th {\n",
       "        text-align: right;\n",
       "    }\n",
       "</style>\n",
       "<table border=\"1\" class=\"dataframe\">\n",
       "  <thead>\n",
       "    <tr style=\"text-align: right;\">\n",
       "      <th></th>\n",
       "      <th>temp</th>\n",
       "      <th>humidity</th>\n",
       "      <th>sun_hrs</th>\n",
       "    </tr>\n",
       "  </thead>\n",
       "  <tbody>\n",
       "    <tr>\n",
       "      <th>2023-07-15</th>\n",
       "      <td>15.68</td>\n",
       "      <td>73.18</td>\n",
       "      <td>6.40</td>\n",
       "    </tr>\n",
       "    <tr>\n",
       "      <th>2023-07-16</th>\n",
       "      <td>25.16</td>\n",
       "      <td>83.88</td>\n",
       "      <td>8.06</td>\n",
       "    </tr>\n",
       "    <tr>\n",
       "      <th>2023-07-17</th>\n",
       "      <td>13.26</td>\n",
       "      <td>80.05</td>\n",
       "      <td>4.89</td>\n",
       "    </tr>\n",
       "    <tr>\n",
       "      <th>2023-07-18</th>\n",
       "      <td>24.63</td>\n",
       "      <td>82.37</td>\n",
       "      <td>9.13</td>\n",
       "    </tr>\n",
       "    <tr>\n",
       "      <th>2023-07-19</th>\n",
       "      <td>12.78</td>\n",
       "      <td>83.10</td>\n",
       "      <td>17.10</td>\n",
       "    </tr>\n",
       "    <tr>\n",
       "      <th>2023-07-20</th>\n",
       "      <td>23.52</td>\n",
       "      <td>85.35</td>\n",
       "      <td>0.72</td>\n",
       "    </tr>\n",
       "    <tr>\n",
       "      <th>2023-07-21</th>\n",
       "      <td>17.80</td>\n",
       "      <td>85.64</td>\n",
       "      <td>5.79</td>\n",
       "    </tr>\n",
       "    <tr>\n",
       "      <th>2023-07-22</th>\n",
       "      <td>24.98</td>\n",
       "      <td>76.81</td>\n",
       "      <td>10.95</td>\n",
       "    </tr>\n",
       "    <tr>\n",
       "      <th>2023-07-23</th>\n",
       "      <td>23.48</td>\n",
       "      <td>80.86</td>\n",
       "      <td>3.77</td>\n",
       "    </tr>\n",
       "    <tr>\n",
       "      <th>2023-07-24</th>\n",
       "      <td>23.30</td>\n",
       "      <td>79.96</td>\n",
       "      <td>14.62</td>\n",
       "    </tr>\n",
       "  </tbody>\n",
       "</table>\n",
       "</div>"
      ],
      "text/plain": [
       "             temp  humidity  sun_hrs\n",
       "2023-07-15  15.68     73.18     6.40\n",
       "2023-07-16  25.16     83.88     8.06\n",
       "2023-07-17  13.26     80.05     4.89\n",
       "2023-07-18  24.63     82.37     9.13\n",
       "2023-07-19  12.78     83.10    17.10\n",
       "2023-07-20  23.52     85.35     0.72\n",
       "2023-07-21  17.80     85.64     5.79\n",
       "2023-07-22  24.98     76.81    10.95\n",
       "2023-07-23  23.48     80.86     3.77\n",
       "2023-07-24  23.30     79.96    14.62"
      ]
     },
     "execution_count": 26,
     "metadata": {},
     "output_type": "execute_result"
    }
   ],
   "source": [
    "df3"
   ]
  },
  {
   "cell_type": "code",
   "execution_count": null,
   "id": "a5370dc8",
   "metadata": {},
   "outputs": [],
   "source": []
  }
 ],
 "metadata": {
  "kernelspec": {
   "display_name": "Python 3 (ipykernel)",
   "language": "python",
   "name": "python3"
  },
  "language_info": {
   "codemirror_mode": {
    "name": "ipython",
    "version": 3
   },
   "file_extension": ".py",
   "mimetype": "text/x-python",
   "name": "python",
   "nbconvert_exporter": "python",
   "pygments_lexer": "ipython3",
   "version": "3.10.9"
  }
 },
 "nbformat": 4,
 "nbformat_minor": 5
}
