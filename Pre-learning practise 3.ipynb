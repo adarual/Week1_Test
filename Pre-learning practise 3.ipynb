{
 "cells": [
  {
   "cell_type": "markdown",
   "id": "e5e0bc45",
   "metadata": {},
   "source": [
    "## Lists, Sets and Dictionaries"
   ]
  },
  {
   "cell_type": "markdown",
   "id": "59c82f43",
   "metadata": {},
   "source": [
    "### Lists:"
   ]
  },
  {
   "cell_type": "code",
   "execution_count": 38,
   "id": "250fa106",
   "metadata": {},
   "outputs": [],
   "source": [
    "a = []"
   ]
  },
  {
   "cell_type": "code",
   "execution_count": 39,
   "id": "f822ca09",
   "metadata": {},
   "outputs": [],
   "source": [
    "b = [1, \"string\", True, 2.3]"
   ]
  },
  {
   "cell_type": "code",
   "execution_count": 40,
   "id": "b7cd6155",
   "metadata": {},
   "outputs": [
    {
     "data": {
      "text/plain": [
       "1"
      ]
     },
     "execution_count": 40,
     "metadata": {},
     "output_type": "execute_result"
    }
   ],
   "source": [
    "b[0]"
   ]
  },
  {
   "cell_type": "code",
   "execution_count": 41,
   "id": "3756b143",
   "metadata": {},
   "outputs": [
    {
     "data": {
      "text/plain": [
       "2.3"
      ]
     },
     "execution_count": 41,
     "metadata": {},
     "output_type": "execute_result"
    }
   ],
   "source": [
    "b[-1]"
   ]
  },
  {
   "cell_type": "code",
   "execution_count": 42,
   "id": "2365869b",
   "metadata": {},
   "outputs": [
    {
     "data": {
      "text/plain": [
       "'string'"
      ]
     },
     "execution_count": 42,
     "metadata": {},
     "output_type": "execute_result"
    }
   ],
   "source": [
    "b[1]"
   ]
  },
  {
   "cell_type": "code",
   "execution_count": 43,
   "id": "76f31cc8",
   "metadata": {},
   "outputs": [
    {
     "data": {
      "text/plain": [
       "True"
      ]
     },
     "execution_count": 43,
     "metadata": {},
     "output_type": "execute_result"
    }
   ],
   "source": [
    "b[2]"
   ]
  },
  {
   "cell_type": "code",
   "execution_count": 44,
   "id": "0abca161",
   "metadata": {},
   "outputs": [
    {
     "data": {
      "text/plain": [
       "1"
      ]
     },
     "execution_count": 44,
     "metadata": {},
     "output_type": "execute_result"
    }
   ],
   "source": [
    "b[-4]"
   ]
  },
  {
   "cell_type": "code",
   "execution_count": 45,
   "id": "0ea2f5b7",
   "metadata": {},
   "outputs": [
    {
     "data": {
      "text/plain": [
       "['string', True, 2.3]"
      ]
     },
     "execution_count": 45,
     "metadata": {},
     "output_type": "execute_result"
    }
   ],
   "source": [
    "b[-3:]  #Everything starting from -3 till the end of the list"
   ]
  },
  {
   "cell_type": "code",
   "execution_count": 46,
   "id": "ce04beee",
   "metadata": {},
   "outputs": [
    {
     "data": {
      "text/plain": [
       "['string', True, 2.3]"
      ]
     },
     "execution_count": 46,
     "metadata": {},
     "output_type": "execute_result"
    }
   ],
   "source": [
    "b[1:]"
   ]
  },
  {
   "cell_type": "code",
   "execution_count": 47,
   "id": "ec058099",
   "metadata": {},
   "outputs": [],
   "source": [
    "b.append(\"test\")  #We use append to add an additional item to the list"
   ]
  },
  {
   "cell_type": "code",
   "execution_count": 48,
   "id": "c9290685",
   "metadata": {},
   "outputs": [
    {
     "data": {
      "text/plain": [
       "[1, 'string', True, 2.3, 'test']"
      ]
     },
     "execution_count": 48,
     "metadata": {},
     "output_type": "execute_result"
    }
   ],
   "source": [
    "b"
   ]
  },
  {
   "cell_type": "code",
   "execution_count": 49,
   "id": "eac56043",
   "metadata": {},
   "outputs": [],
   "source": [
    "b.append(\"5\")"
   ]
  },
  {
   "cell_type": "code",
   "execution_count": 50,
   "id": "5deef76d",
   "metadata": {},
   "outputs": [
    {
     "data": {
      "text/plain": [
       "[1, 'string', True, 2.3, 'test', '5']"
      ]
     },
     "execution_count": 50,
     "metadata": {},
     "output_type": "execute_result"
    }
   ],
   "source": [
    "b"
   ]
  },
  {
   "cell_type": "code",
   "execution_count": 51,
   "id": "4c4a2d0d",
   "metadata": {},
   "outputs": [],
   "source": [
    "b.insert(2, \"myinsert\")  #We use 'insert' to add anything in an specific position"
   ]
  },
  {
   "cell_type": "code",
   "execution_count": 52,
   "id": "108a9dca",
   "metadata": {},
   "outputs": [
    {
     "data": {
      "text/plain": [
       "[1, 'string', 'myinsert', True, 2.3, 'test', '5']"
      ]
     },
     "execution_count": 52,
     "metadata": {},
     "output_type": "execute_result"
    }
   ],
   "source": [
    "b"
   ]
  },
  {
   "cell_type": "code",
   "execution_count": 53,
   "id": "65efde11",
   "metadata": {},
   "outputs": [
    {
     "data": {
      "text/plain": [
       "0"
      ]
     },
     "execution_count": 53,
     "metadata": {},
     "output_type": "execute_result"
    }
   ],
   "source": [
    "len(a)  #We use 'len' to determine the lengh of the string"
   ]
  },
  {
   "cell_type": "code",
   "execution_count": 54,
   "id": "0ade96e6",
   "metadata": {},
   "outputs": [
    {
     "data": {
      "text/plain": [
       "7"
      ]
     },
     "execution_count": 54,
     "metadata": {},
     "output_type": "execute_result"
    }
   ],
   "source": [
    "len(b)"
   ]
  },
  {
   "cell_type": "code",
   "execution_count": 57,
   "id": "2ca81da0",
   "metadata": {},
   "outputs": [],
   "source": [
    "b[1:2] = [2]  #For replacing the word 'string' for a number 2."
   ]
  },
  {
   "cell_type": "code",
   "execution_count": 58,
   "id": "5959ad42",
   "metadata": {},
   "outputs": [
    {
     "data": {
      "text/plain": [
       "[1, 2, 'myinsert', True, 2.3, 'test', '5']"
      ]
     },
     "execution_count": 58,
     "metadata": {},
     "output_type": "execute_result"
    }
   ],
   "source": [
    "b"
   ]
  },
  {
   "cell_type": "code",
   "execution_count": 59,
   "id": "e43494e4",
   "metadata": {},
   "outputs": [],
   "source": [
    "b[1:2] = [\"False\"]  #For replacing the number 2 for the word 'false'"
   ]
  },
  {
   "cell_type": "code",
   "execution_count": 60,
   "id": "862c2250",
   "metadata": {},
   "outputs": [
    {
     "data": {
      "text/plain": [
       "[1, 'False', 'myinsert', True, 2.3, 'test', '5']"
      ]
     },
     "execution_count": 60,
     "metadata": {},
     "output_type": "execute_result"
    }
   ],
   "source": [
    "b"
   ]
  },
  {
   "cell_type": "code",
   "execution_count": 61,
   "id": "031ddbfa",
   "metadata": {},
   "outputs": [],
   "source": [
    "b[4:5] = [\"string\", 4]  #For replacing number 2.3 for the word 'string' and a number 4"
   ]
  },
  {
   "cell_type": "code",
   "execution_count": 62,
   "id": "9eb0ebf7",
   "metadata": {},
   "outputs": [
    {
     "data": {
      "text/plain": [
       "[1, 'False', 'myinsert', True, 'string', 4, 'test', '5']"
      ]
     },
     "execution_count": 62,
     "metadata": {},
     "output_type": "execute_result"
    }
   ],
   "source": [
    "b"
   ]
  },
  {
   "cell_type": "code",
   "execution_count": 65,
   "id": "d67ca97c",
   "metadata": {},
   "outputs": [],
   "source": [
    "b[4:6] = []  #We can use the replace method with an empty list for deleting items"
   ]
  },
  {
   "cell_type": "code",
   "execution_count": 66,
   "id": "f59abbec",
   "metadata": {},
   "outputs": [
    {
     "data": {
      "text/plain": [
       "[1, 'False', 'myinsert', True, '5']"
      ]
     },
     "execution_count": 66,
     "metadata": {},
     "output_type": "execute_result"
    }
   ],
   "source": [
    "b"
   ]
  },
  {
   "cell_type": "code",
   "execution_count": 67,
   "id": "6930155c",
   "metadata": {},
   "outputs": [],
   "source": [
    "del(b[1])  #We can delete items with this method too"
   ]
  },
  {
   "cell_type": "code",
   "execution_count": 68,
   "id": "eb632e6f",
   "metadata": {},
   "outputs": [
    {
     "data": {
      "text/plain": [
       "[1, 'myinsert', True, '5']"
      ]
     },
     "execution_count": 68,
     "metadata": {},
     "output_type": "execute_result"
    }
   ],
   "source": [
    "b"
   ]
  },
  {
   "cell_type": "code",
   "execution_count": 69,
   "id": "06452e66",
   "metadata": {},
   "outputs": [],
   "source": [
    "c = [a, b]"
   ]
  },
  {
   "cell_type": "code",
   "execution_count": 72,
   "id": "cc9fa745",
   "metadata": {},
   "outputs": [
    {
     "data": {
      "text/plain": [
       "[]"
      ]
     },
     "execution_count": 72,
     "metadata": {},
     "output_type": "execute_result"
    }
   ],
   "source": [
    "c[0]  #I'm calling item 0 from the list c, which is a."
   ]
  },
  {
   "cell_type": "code",
   "execution_count": 73,
   "id": "64429f5f",
   "metadata": {},
   "outputs": [
    {
     "data": {
      "text/plain": [
       "[1, 'myinsert', True, '5']"
      ]
     },
     "execution_count": 73,
     "metadata": {},
     "output_type": "execute_result"
    }
   ],
   "source": [
    "c[1]  #I'm calling item 1 from the list c, which is b."
   ]
  },
  {
   "cell_type": "code",
   "execution_count": 75,
   "id": "f6976966",
   "metadata": {},
   "outputs": [
    {
     "data": {
      "text/plain": [
       "[[], [1, 'myinsert', True, '5']]"
      ]
     },
     "execution_count": 75,
     "metadata": {},
     "output_type": "execute_result"
    }
   ],
   "source": [
    "c  #I'm calling list c."
   ]
  },
  {
   "cell_type": "code",
   "execution_count": 77,
   "id": "8a5b8b7c",
   "metadata": {},
   "outputs": [
    {
     "data": {
      "text/plain": [
       "True"
      ]
     },
     "execution_count": 77,
     "metadata": {},
     "output_type": "execute_result"
    }
   ],
   "source": [
    "c[1][2]  #I'm calling item 1 from list c, and then item 2 from list b (item 1 in list c)."
   ]
  },
  {
   "cell_type": "code",
   "execution_count": 78,
   "id": "50336a6a",
   "metadata": {},
   "outputs": [
    {
     "data": {
      "text/plain": [
       "[[], [1, 'myinsert', True, '5'], [...]]"
      ]
     },
     "execution_count": 78,
     "metadata": {},
     "output_type": "execute_result"
    }
   ],
   "source": [
    "c.append(c)  #I have append c to c list, so it will repet itself so on and so on\n",
    "c"
   ]
  },
  {
   "cell_type": "code",
   "execution_count": 79,
   "id": "a02e467f",
   "metadata": {},
   "outputs": [
    {
     "data": {
      "text/plain": [
       "[[], [1, 'myinsert', True, '5'], [...]]"
      ]
     },
     "execution_count": 79,
     "metadata": {},
     "output_type": "execute_result"
    }
   ],
   "source": [
    "c[2]  #Now I'm calling item 2 of c list, which is c list it self."
   ]
  },
  {
   "cell_type": "code",
   "execution_count": 80,
   "id": "96c56df1",
   "metadata": {},
   "outputs": [
    {
     "data": {
      "text/plain": [
       "[]"
      ]
     },
     "execution_count": 80,
     "metadata": {},
     "output_type": "execute_result"
    }
   ],
   "source": [
    "c[2][0]  #Now I have called item in position 2 of c list, and then item 0 from item 2 (c list)."
   ]
  },
  {
   "cell_type": "code",
   "execution_count": 81,
   "id": "3ae0de36",
   "metadata": {},
   "outputs": [
    {
     "data": {
      "text/plain": [
       "'myinsert'"
      ]
     },
     "execution_count": 81,
     "metadata": {},
     "output_type": "execute_result"
    }
   ],
   "source": [
    "c[2][1][1]"
   ]
  },
  {
   "cell_type": "markdown",
   "id": "d60f0464",
   "metadata": {},
   "source": [
    "### Sets:"
   ]
  },
  {
   "cell_type": "code",
   "execution_count": 82,
   "id": "3228f888",
   "metadata": {},
   "outputs": [
    {
     "data": {
      "text/plain": [
       "[1, 'myinsert', True, '5']"
      ]
     },
     "execution_count": 82,
     "metadata": {},
     "output_type": "execute_result"
    }
   ],
   "source": [
    "b  #Here I'm just calling b"
   ]
  },
  {
   "cell_type": "code",
   "execution_count": 83,
   "id": "780c3e57",
   "metadata": {},
   "outputs": [],
   "source": [
    "b.append(1) "
   ]
  },
  {
   "cell_type": "code",
   "execution_count": 85,
   "id": "a3f863c2",
   "metadata": {},
   "outputs": [],
   "source": [
    "b.append(1)"
   ]
  },
  {
   "cell_type": "code",
   "execution_count": 86,
   "id": "4e852baa",
   "metadata": {},
   "outputs": [],
   "source": [
    "b.append(1)"
   ]
  },
  {
   "cell_type": "code",
   "execution_count": 87,
   "id": "7f72f601",
   "metadata": {},
   "outputs": [
    {
     "data": {
      "text/plain": [
       "[1, 'myinsert', True, '5', 1, 1, 1]"
      ]
     },
     "execution_count": 87,
     "metadata": {},
     "output_type": "execute_result"
    }
   ],
   "source": [
    "b  #I have called b after adding multiple identical values"
   ]
  },
  {
   "cell_type": "code",
   "execution_count": null,
   "id": "28158a76",
   "metadata": {},
   "outputs": [],
   "source": [
    "#Now we are going to mantain an unorder collection of only unique numbers with Python Sets"
   ]
  },
  {
   "cell_type": "code",
   "execution_count": 88,
   "id": "877adff2",
   "metadata": {},
   "outputs": [],
   "source": [
    "a = set()  #For this we can use the 'set' word"
   ]
  },
  {
   "cell_type": "code",
   "execution_count": 89,
   "id": "8def0a3d",
   "metadata": {},
   "outputs": [],
   "source": [
    "b = {1,\"string\", 2.3, 1, 1, True}  #Or we can use these curly brackets"
   ]
  },
  {
   "cell_type": "code",
   "execution_count": 90,
   "id": "3a62f755",
   "metadata": {},
   "outputs": [
    {
     "data": {
      "text/plain": [
       "{1, 2.3, 'string'}"
      ]
     },
     "execution_count": 90,
     "metadata": {},
     "output_type": "execute_result"
    }
   ],
   "source": [
    "b  #Now when we call b we notice that all the items are unique and that it didn't mantain the order."
   ]
  },
  {
   "cell_type": "code",
   "execution_count": 91,
   "id": "043b9650",
   "metadata": {},
   "outputs": [],
   "source": [
    "#We can also see that the item true has dissapeard, because true is iqual to 1."
   ]
  },
  {
   "cell_type": "code",
   "execution_count": null,
   "id": "a8a14c26",
   "metadata": {},
   "outputs": [],
   "source": []
  }
 ],
 "metadata": {
  "kernelspec": {
   "display_name": "Python 3 (ipykernel)",
   "language": "python",
   "name": "python3"
  },
  "language_info": {
   "codemirror_mode": {
    "name": "ipython",
    "version": 3
   },
   "file_extension": ".py",
   "mimetype": "text/x-python",
   "name": "python",
   "nbconvert_exporter": "python",
   "pygments_lexer": "ipython3",
   "version": "3.10.9"
  }
 },
 "nbformat": 4,
 "nbformat_minor": 5
}
