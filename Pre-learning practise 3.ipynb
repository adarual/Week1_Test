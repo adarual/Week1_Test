{
 "cells": [
  {
   "cell_type": "markdown",
   "id": "235f7240",
   "metadata": {},
   "source": [
    "## Lists, Sets and Dictionaries"
   ]
  },
  {
   "cell_type": "code",
   "execution_count": 38,
   "id": "684922af",
   "metadata": {},
   "outputs": [],
   "source": [
    "a = []"
   ]
  },
  {
   "cell_type": "code",
   "execution_count": 39,
   "id": "3582be05",
   "metadata": {},
   "outputs": [],
   "source": [
    "b = [1, \"string\", True, 2.3]"
   ]
  },
  {
   "cell_type": "code",
   "execution_count": 40,
   "id": "6fa7adac",
   "metadata": {},
   "outputs": [
    {
     "data": {
      "text/plain": [
       "1"
      ]
     },
     "execution_count": 40,
     "metadata": {},
     "output_type": "execute_result"
    }
   ],
   "source": [
    "b[0]"
   ]
  },
  {
   "cell_type": "code",
   "execution_count": 41,
   "id": "b1f29e9e",
   "metadata": {},
   "outputs": [
    {
     "data": {
      "text/plain": [
       "2.3"
      ]
     },
     "execution_count": 41,
     "metadata": {},
     "output_type": "execute_result"
    }
   ],
   "source": [
    "b[-1]"
   ]
  },
  {
   "cell_type": "code",
   "execution_count": 42,
   "id": "deeca41e",
   "metadata": {},
   "outputs": [
    {
     "data": {
      "text/plain": [
       "'string'"
      ]
     },
     "execution_count": 42,
     "metadata": {},
     "output_type": "execute_result"
    }
   ],
   "source": [
    "b[1]"
   ]
  },
  {
   "cell_type": "code",
   "execution_count": 43,
   "id": "166a5b38",
   "metadata": {},
   "outputs": [
    {
     "data": {
      "text/plain": [
       "True"
      ]
     },
     "execution_count": 43,
     "metadata": {},
     "output_type": "execute_result"
    }
   ],
   "source": [
    "b[2]"
   ]
  },
  {
   "cell_type": "code",
   "execution_count": 44,
   "id": "ed21759a",
   "metadata": {},
   "outputs": [
    {
     "data": {
      "text/plain": [
       "1"
      ]
     },
     "execution_count": 44,
     "metadata": {},
     "output_type": "execute_result"
    }
   ],
   "source": [
    "b[-4]"
   ]
  },
  {
   "cell_type": "code",
   "execution_count": 45,
   "id": "cf150f7c",
   "metadata": {},
   "outputs": [
    {
     "data": {
      "text/plain": [
       "['string', True, 2.3]"
      ]
     },
     "execution_count": 45,
     "metadata": {},
     "output_type": "execute_result"
    }
   ],
   "source": [
    "b[-3:]  #Everything starting from -3 till the end of the list"
   ]
  },
  {
   "cell_type": "code",
   "execution_count": 46,
   "id": "0d8cc852",
   "metadata": {},
   "outputs": [
    {
     "data": {
      "text/plain": [
       "['string', True, 2.3]"
      ]
     },
     "execution_count": 46,
     "metadata": {},
     "output_type": "execute_result"
    }
   ],
   "source": [
    "b[1:]"
   ]
  },
  {
   "cell_type": "code",
   "execution_count": 47,
   "id": "5f8e0354",
   "metadata": {},
   "outputs": [],
   "source": [
    "b.append(\"test\")  #We use append to add an additional item to the list"
   ]
  },
  {
   "cell_type": "code",
   "execution_count": 48,
   "id": "8f52a4d8",
   "metadata": {},
   "outputs": [
    {
     "data": {
      "text/plain": [
       "[1, 'string', True, 2.3, 'test']"
      ]
     },
     "execution_count": 48,
     "metadata": {},
     "output_type": "execute_result"
    }
   ],
   "source": [
    "b"
   ]
  },
  {
   "cell_type": "code",
   "execution_count": 49,
   "id": "1ba0ad44",
   "metadata": {},
   "outputs": [],
   "source": [
    "b.append(\"5\")"
   ]
  },
  {
   "cell_type": "code",
   "execution_count": 50,
   "id": "669f51c5",
   "metadata": {},
   "outputs": [
    {
     "data": {
      "text/plain": [
       "[1, 'string', True, 2.3, 'test', '5']"
      ]
     },
     "execution_count": 50,
     "metadata": {},
     "output_type": "execute_result"
    }
   ],
   "source": [
    "b"
   ]
  },
  {
   "cell_type": "code",
   "execution_count": 51,
   "id": "1e27b1de",
   "metadata": {},
   "outputs": [],
   "source": [
    "b.insert(2, \"myinsert\")  #We use 'insert' to add anything in an specific position"
   ]
  },
  {
   "cell_type": "code",
   "execution_count": 52,
   "id": "5cf0554f",
   "metadata": {},
   "outputs": [
    {
     "data": {
      "text/plain": [
       "[1, 'string', 'myinsert', True, 2.3, 'test', '5']"
      ]
     },
     "execution_count": 52,
     "metadata": {},
     "output_type": "execute_result"
    }
   ],
   "source": [
    "b"
   ]
  },
  {
   "cell_type": "code",
   "execution_count": 53,
   "id": "b7dcfe08",
   "metadata": {},
   "outputs": [
    {
     "data": {
      "text/plain": [
       "0"
      ]
     },
     "execution_count": 53,
     "metadata": {},
     "output_type": "execute_result"
    }
   ],
   "source": [
    "len(a)  #We use 'len' to determine the lengh of the string"
   ]
  },
  {
   "cell_type": "code",
   "execution_count": 54,
   "id": "3fb09761",
   "metadata": {},
   "outputs": [
    {
     "data": {
      "text/plain": [
       "7"
      ]
     },
     "execution_count": 54,
     "metadata": {},
     "output_type": "execute_result"
    }
   ],
   "source": [
    "len(b)"
   ]
  },
  {
   "cell_type": "code",
   "execution_count": 57,
   "id": "cd5930a6",
   "metadata": {},
   "outputs": [],
   "source": [
    "b[1:2] = [2]  #For replacing the word 'string' for a number 2."
   ]
  },
  {
   "cell_type": "code",
   "execution_count": 58,
   "id": "21fe5ac7",
   "metadata": {},
   "outputs": [
    {
     "data": {
      "text/plain": [
       "[1, 2, 'myinsert', True, 2.3, 'test', '5']"
      ]
     },
     "execution_count": 58,
     "metadata": {},
     "output_type": "execute_result"
    }
   ],
   "source": [
    "b"
   ]
  },
  {
   "cell_type": "code",
   "execution_count": 59,
   "id": "7656e2e5",
   "metadata": {},
   "outputs": [],
   "source": [
    "b[1:2] = [\"False\"]  #For replacing the number 2 for the word 'false'"
   ]
  },
  {
   "cell_type": "code",
   "execution_count": 60,
   "id": "91c6536f",
   "metadata": {},
   "outputs": [
    {
     "data": {
      "text/plain": [
       "[1, 'False', 'myinsert', True, 2.3, 'test', '5']"
      ]
     },
     "execution_count": 60,
     "metadata": {},
     "output_type": "execute_result"
    }
   ],
   "source": [
    "b"
   ]
  },
  {
   "cell_type": "code",
   "execution_count": 61,
   "id": "73f3d769",
   "metadata": {},
   "outputs": [],
   "source": [
    "b[4:5] = [\"string\", 4]  #For replacing number 2.3 for the word 'string' and a number 4"
   ]
  },
  {
   "cell_type": "code",
   "execution_count": 62,
   "id": "e9dc7428",
   "metadata": {},
   "outputs": [
    {
     "data": {
      "text/plain": [
       "[1, 'False', 'myinsert', True, 'string', 4, 'test', '5']"
      ]
     },
     "execution_count": 62,
     "metadata": {},
     "output_type": "execute_result"
    }
   ],
   "source": [
    "b"
   ]
  },
  {
   "cell_type": "code",
   "execution_count": 65,
   "id": "eb5b94c9",
   "metadata": {},
   "outputs": [],
   "source": [
    "b[4:6] = []  #We can use the replace method with an empty list for deleting items"
   ]
  },
  {
   "cell_type": "code",
   "execution_count": 66,
   "id": "f44d12a5",
   "metadata": {},
   "outputs": [
    {
     "data": {
      "text/plain": [
       "[1, 'False', 'myinsert', True, '5']"
      ]
     },
     "execution_count": 66,
     "metadata": {},
     "output_type": "execute_result"
    }
   ],
   "source": [
    "b"
   ]
  },
  {
   "cell_type": "code",
   "execution_count": 67,
   "id": "346e0e7c",
   "metadata": {},
   "outputs": [],
   "source": [
    "del(b[1])  #We can delete items with this method too"
   ]
  },
  {
   "cell_type": "code",
   "execution_count": 68,
   "id": "a0dddb2f",
   "metadata": {},
   "outputs": [
    {
     "data": {
      "text/plain": [
       "[1, 'myinsert', True, '5']"
      ]
     },
     "execution_count": 68,
     "metadata": {},
     "output_type": "execute_result"
    }
   ],
   "source": [
    "b"
   ]
  },
  {
   "cell_type": "code",
   "execution_count": null,
   "id": "62252713",
   "metadata": {},
   "outputs": [],
   "source": []
  }
 ],
 "metadata": {
  "kernelspec": {
   "display_name": "Python 3 (ipykernel)",
   "language": "python",
   "name": "python3"
  },
  "language_info": {
   "codemirror_mode": {
    "name": "ipython",
    "version": 3
   },
   "file_extension": ".py",
   "mimetype": "text/x-python",
   "name": "python",
   "nbconvert_exporter": "python",
   "pygments_lexer": "ipython3",
   "version": "3.10.9"
  }
 },
 "nbformat": 4,
 "nbformat_minor": 5
}
