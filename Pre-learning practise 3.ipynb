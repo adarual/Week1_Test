{
 "cells": [
  {
   "cell_type": "markdown",
   "id": "33fd35c3",
   "metadata": {},
   "source": [
    "## Lists, Sets and Dictionaries"
   ]
  },
  {
   "cell_type": "code",
   "execution_count": 38,
   "id": "07484810",
   "metadata": {},
   "outputs": [],
   "source": [
    "a = []"
   ]
  },
  {
   "cell_type": "code",
   "execution_count": 39,
   "id": "e69ca433",
   "metadata": {},
   "outputs": [],
   "source": [
    "b = [1, \"string\", True, 2.3]"
   ]
  },
  {
   "cell_type": "code",
   "execution_count": 40,
   "id": "99b77a4b",
   "metadata": {},
   "outputs": [
    {
     "data": {
      "text/plain": [
       "1"
      ]
     },
     "execution_count": 40,
     "metadata": {},
     "output_type": "execute_result"
    }
   ],
   "source": [
    "b[0]"
   ]
  },
  {
   "cell_type": "code",
   "execution_count": 41,
   "id": "980cc40e",
   "metadata": {},
   "outputs": [
    {
     "data": {
      "text/plain": [
       "2.3"
      ]
     },
     "execution_count": 41,
     "metadata": {},
     "output_type": "execute_result"
    }
   ],
   "source": [
    "b[-1]"
   ]
  },
  {
   "cell_type": "code",
   "execution_count": 42,
   "id": "804ce083",
   "metadata": {},
   "outputs": [
    {
     "data": {
      "text/plain": [
       "'string'"
      ]
     },
     "execution_count": 42,
     "metadata": {},
     "output_type": "execute_result"
    }
   ],
   "source": [
    "b[1]"
   ]
  },
  {
   "cell_type": "code",
   "execution_count": 43,
   "id": "bf1b6bd7",
   "metadata": {},
   "outputs": [
    {
     "data": {
      "text/plain": [
       "True"
      ]
     },
     "execution_count": 43,
     "metadata": {},
     "output_type": "execute_result"
    }
   ],
   "source": [
    "b[2]"
   ]
  },
  {
   "cell_type": "code",
   "execution_count": 44,
   "id": "f9422885",
   "metadata": {},
   "outputs": [
    {
     "data": {
      "text/plain": [
       "1"
      ]
     },
     "execution_count": 44,
     "metadata": {},
     "output_type": "execute_result"
    }
   ],
   "source": [
    "b[-4]"
   ]
  },
  {
   "cell_type": "code",
   "execution_count": 45,
   "id": "000ce911",
   "metadata": {},
   "outputs": [
    {
     "data": {
      "text/plain": [
       "['string', True, 2.3]"
      ]
     },
     "execution_count": 45,
     "metadata": {},
     "output_type": "execute_result"
    }
   ],
   "source": [
    "b[-3:]  #Everything starting from -3 till the end of the list"
   ]
  },
  {
   "cell_type": "code",
   "execution_count": 46,
   "id": "47265c9f",
   "metadata": {},
   "outputs": [
    {
     "data": {
      "text/plain": [
       "['string', True, 2.3]"
      ]
     },
     "execution_count": 46,
     "metadata": {},
     "output_type": "execute_result"
    }
   ],
   "source": [
    "b[1:]"
   ]
  },
  {
   "cell_type": "code",
   "execution_count": 47,
   "id": "8c27b269",
   "metadata": {},
   "outputs": [],
   "source": [
    "b.append(\"test\")  #We use append to add an additional item to the list"
   ]
  },
  {
   "cell_type": "code",
   "execution_count": 48,
   "id": "eda78a60",
   "metadata": {},
   "outputs": [
    {
     "data": {
      "text/plain": [
       "[1, 'string', True, 2.3, 'test']"
      ]
     },
     "execution_count": 48,
     "metadata": {},
     "output_type": "execute_result"
    }
   ],
   "source": [
    "b"
   ]
  },
  {
   "cell_type": "code",
   "execution_count": 49,
   "id": "31332e00",
   "metadata": {},
   "outputs": [],
   "source": [
    "b.append(\"5\")"
   ]
  },
  {
   "cell_type": "code",
   "execution_count": 50,
   "id": "f69772f6",
   "metadata": {},
   "outputs": [
    {
     "data": {
      "text/plain": [
       "[1, 'string', True, 2.3, 'test', '5']"
      ]
     },
     "execution_count": 50,
     "metadata": {},
     "output_type": "execute_result"
    }
   ],
   "source": [
    "b"
   ]
  },
  {
   "cell_type": "code",
   "execution_count": 51,
   "id": "d17b3055",
   "metadata": {},
   "outputs": [],
   "source": [
    "b.insert(2, \"myinsert\")  #We use 'insert' to add anything in an specific position"
   ]
  },
  {
   "cell_type": "code",
   "execution_count": 52,
   "id": "14599232",
   "metadata": {},
   "outputs": [
    {
     "data": {
      "text/plain": [
       "[1, 'string', 'myinsert', True, 2.3, 'test', '5']"
      ]
     },
     "execution_count": 52,
     "metadata": {},
     "output_type": "execute_result"
    }
   ],
   "source": [
    "b"
   ]
  },
  {
   "cell_type": "code",
   "execution_count": 53,
   "id": "f3e6480a",
   "metadata": {},
   "outputs": [
    {
     "data": {
      "text/plain": [
       "0"
      ]
     },
     "execution_count": 53,
     "metadata": {},
     "output_type": "execute_result"
    }
   ],
   "source": [
    "len(a)  #We use 'len' to determine the lengh of the string"
   ]
  },
  {
   "cell_type": "code",
   "execution_count": 54,
   "id": "55ff3481",
   "metadata": {},
   "outputs": [
    {
     "data": {
      "text/plain": [
       "7"
      ]
     },
     "execution_count": 54,
     "metadata": {},
     "output_type": "execute_result"
    }
   ],
   "source": [
    "len(b)"
   ]
  },
  {
   "cell_type": "code",
   "execution_count": 57,
   "id": "0f32090a",
   "metadata": {},
   "outputs": [],
   "source": [
    "b[1:2] = [2]  #For replacing the word 'string' for a number 2."
   ]
  },
  {
   "cell_type": "code",
   "execution_count": 58,
   "id": "87b8daa6",
   "metadata": {},
   "outputs": [
    {
     "data": {
      "text/plain": [
       "[1, 2, 'myinsert', True, 2.3, 'test', '5']"
      ]
     },
     "execution_count": 58,
     "metadata": {},
     "output_type": "execute_result"
    }
   ],
   "source": [
    "b"
   ]
  },
  {
   "cell_type": "code",
   "execution_count": 59,
   "id": "f050d7f4",
   "metadata": {},
   "outputs": [],
   "source": [
    "b[1:2] = [\"False\"]  #For replacing the number 2 for the word 'false'"
   ]
  },
  {
   "cell_type": "code",
   "execution_count": 60,
   "id": "03a6b140",
   "metadata": {},
   "outputs": [
    {
     "data": {
      "text/plain": [
       "[1, 'False', 'myinsert', True, 2.3, 'test', '5']"
      ]
     },
     "execution_count": 60,
     "metadata": {},
     "output_type": "execute_result"
    }
   ],
   "source": [
    "b"
   ]
  },
  {
   "cell_type": "code",
   "execution_count": 61,
   "id": "a62c547d",
   "metadata": {},
   "outputs": [],
   "source": [
    "b[4:5] = [\"string\", 4]  #For replacing number 2.3 for the word 'string' and a number 4"
   ]
  },
  {
   "cell_type": "code",
   "execution_count": 62,
   "id": "ccba2ee4",
   "metadata": {},
   "outputs": [
    {
     "data": {
      "text/plain": [
       "[1, 'False', 'myinsert', True, 'string', 4, 'test', '5']"
      ]
     },
     "execution_count": 62,
     "metadata": {},
     "output_type": "execute_result"
    }
   ],
   "source": [
    "b"
   ]
  },
  {
   "cell_type": "code",
   "execution_count": null,
   "id": "cc9198f2",
   "metadata": {},
   "outputs": [],
   "source": []
  }
 ],
 "metadata": {
  "kernelspec": {
   "display_name": "Python 3 (ipykernel)",
   "language": "python",
   "name": "python3"
  },
  "language_info": {
   "codemirror_mode": {
    "name": "ipython",
    "version": 3
   },
   "file_extension": ".py",
   "mimetype": "text/x-python",
   "name": "python",
   "nbconvert_exporter": "python",
   "pygments_lexer": "ipython3",
   "version": "3.10.9"
  }
 },
 "nbformat": 4,
 "nbformat_minor": 5
}
