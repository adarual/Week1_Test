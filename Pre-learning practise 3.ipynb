{
 "cells": [
  {
   "cell_type": "markdown",
   "id": "d14a7115",
   "metadata": {},
   "source": [
    "## Lists, Sets and Dictionaries"
   ]
  },
  {
   "cell_type": "code",
   "execution_count": 38,
   "id": "a02a21e8",
   "metadata": {},
   "outputs": [],
   "source": [
    "a = []"
   ]
  },
  {
   "cell_type": "code",
   "execution_count": 39,
   "id": "ab72b480",
   "metadata": {},
   "outputs": [],
   "source": [
    "b = [1, \"string\", True, 2.3]"
   ]
  },
  {
   "cell_type": "code",
   "execution_count": 40,
   "id": "46c3737f",
   "metadata": {},
   "outputs": [
    {
     "data": {
      "text/plain": [
       "1"
      ]
     },
     "execution_count": 40,
     "metadata": {},
     "output_type": "execute_result"
    }
   ],
   "source": [
    "b[0]"
   ]
  },
  {
   "cell_type": "code",
   "execution_count": 41,
   "id": "c473c302",
   "metadata": {},
   "outputs": [
    {
     "data": {
      "text/plain": [
       "2.3"
      ]
     },
     "execution_count": 41,
     "metadata": {},
     "output_type": "execute_result"
    }
   ],
   "source": [
    "b[-1]"
   ]
  },
  {
   "cell_type": "code",
   "execution_count": 42,
   "id": "1acdcf2e",
   "metadata": {},
   "outputs": [
    {
     "data": {
      "text/plain": [
       "'string'"
      ]
     },
     "execution_count": 42,
     "metadata": {},
     "output_type": "execute_result"
    }
   ],
   "source": [
    "b[1]"
   ]
  },
  {
   "cell_type": "code",
   "execution_count": 43,
   "id": "2750c4fd",
   "metadata": {},
   "outputs": [
    {
     "data": {
      "text/plain": [
       "True"
      ]
     },
     "execution_count": 43,
     "metadata": {},
     "output_type": "execute_result"
    }
   ],
   "source": [
    "b[2]"
   ]
  },
  {
   "cell_type": "code",
   "execution_count": 44,
   "id": "4768ce1c",
   "metadata": {},
   "outputs": [
    {
     "data": {
      "text/plain": [
       "1"
      ]
     },
     "execution_count": 44,
     "metadata": {},
     "output_type": "execute_result"
    }
   ],
   "source": [
    "b[-4]"
   ]
  },
  {
   "cell_type": "code",
   "execution_count": 45,
   "id": "98366bab",
   "metadata": {},
   "outputs": [
    {
     "data": {
      "text/plain": [
       "['string', True, 2.3]"
      ]
     },
     "execution_count": 45,
     "metadata": {},
     "output_type": "execute_result"
    }
   ],
   "source": [
    "b[-3:]  #Everything starting from -3 till the end of the list"
   ]
  },
  {
   "cell_type": "code",
   "execution_count": 46,
   "id": "3730da70",
   "metadata": {},
   "outputs": [
    {
     "data": {
      "text/plain": [
       "['string', True, 2.3]"
      ]
     },
     "execution_count": 46,
     "metadata": {},
     "output_type": "execute_result"
    }
   ],
   "source": [
    "b[1:]"
   ]
  },
  {
   "cell_type": "code",
   "execution_count": 47,
   "id": "b68930ae",
   "metadata": {},
   "outputs": [],
   "source": [
    "b.append(\"test\")  #We use append to add an additional item to the list"
   ]
  },
  {
   "cell_type": "code",
   "execution_count": 48,
   "id": "9328bbc6",
   "metadata": {},
   "outputs": [
    {
     "data": {
      "text/plain": [
       "[1, 'string', True, 2.3, 'test']"
      ]
     },
     "execution_count": 48,
     "metadata": {},
     "output_type": "execute_result"
    }
   ],
   "source": [
    "b"
   ]
  },
  {
   "cell_type": "code",
   "execution_count": 49,
   "id": "905f407e",
   "metadata": {},
   "outputs": [],
   "source": [
    "b.append(\"5\")"
   ]
  },
  {
   "cell_type": "code",
   "execution_count": 50,
   "id": "e448bfb5",
   "metadata": {},
   "outputs": [
    {
     "data": {
      "text/plain": [
       "[1, 'string', True, 2.3, 'test', '5']"
      ]
     },
     "execution_count": 50,
     "metadata": {},
     "output_type": "execute_result"
    }
   ],
   "source": [
    "b"
   ]
  },
  {
   "cell_type": "code",
   "execution_count": 51,
   "id": "f80dd95b",
   "metadata": {},
   "outputs": [],
   "source": [
    "b.insert(2, \"myinsert\")  #We use 'insert' to add anything in an specific position"
   ]
  },
  {
   "cell_type": "code",
   "execution_count": 52,
   "id": "fa11b66f",
   "metadata": {},
   "outputs": [
    {
     "data": {
      "text/plain": [
       "[1, 'string', 'myinsert', True, 2.3, 'test', '5']"
      ]
     },
     "execution_count": 52,
     "metadata": {},
     "output_type": "execute_result"
    }
   ],
   "source": [
    "b"
   ]
  },
  {
   "cell_type": "code",
   "execution_count": 53,
   "id": "a88f97ec",
   "metadata": {},
   "outputs": [
    {
     "data": {
      "text/plain": [
       "0"
      ]
     },
     "execution_count": 53,
     "metadata": {},
     "output_type": "execute_result"
    }
   ],
   "source": [
    "len(a)  #We use 'len' to determine the lengh of the string"
   ]
  },
  {
   "cell_type": "code",
   "execution_count": 54,
   "id": "642f1c4e",
   "metadata": {},
   "outputs": [
    {
     "data": {
      "text/plain": [
       "7"
      ]
     },
     "execution_count": 54,
     "metadata": {},
     "output_type": "execute_result"
    }
   ],
   "source": [
    "len(b)"
   ]
  },
  {
   "cell_type": "code",
   "execution_count": 57,
   "id": "e460260a",
   "metadata": {},
   "outputs": [],
   "source": [
    "b[1:2] = [2]  #For replacing the word 'string' for a number 2."
   ]
  },
  {
   "cell_type": "code",
   "execution_count": 58,
   "id": "5f615beb",
   "metadata": {},
   "outputs": [
    {
     "data": {
      "text/plain": [
       "[1, 2, 'myinsert', True, 2.3, 'test', '5']"
      ]
     },
     "execution_count": 58,
     "metadata": {},
     "output_type": "execute_result"
    }
   ],
   "source": [
    "b"
   ]
  },
  {
   "cell_type": "code",
   "execution_count": 59,
   "id": "941a18ae",
   "metadata": {},
   "outputs": [],
   "source": [
    "b[1:2] = [\"False\"]  #For replacing the number 2 for the word 'false'"
   ]
  },
  {
   "cell_type": "code",
   "execution_count": 60,
   "id": "8da76955",
   "metadata": {},
   "outputs": [
    {
     "data": {
      "text/plain": [
       "[1, 'False', 'myinsert', True, 2.3, 'test', '5']"
      ]
     },
     "execution_count": 60,
     "metadata": {},
     "output_type": "execute_result"
    }
   ],
   "source": [
    "b"
   ]
  },
  {
   "cell_type": "code",
   "execution_count": 61,
   "id": "72572d51",
   "metadata": {},
   "outputs": [],
   "source": [
    "b[4:5] = [\"string\", 4]  #For replacing number 2.3 for the word 'string' and a number 4"
   ]
  },
  {
   "cell_type": "code",
   "execution_count": 62,
   "id": "599a61d7",
   "metadata": {},
   "outputs": [
    {
     "data": {
      "text/plain": [
       "[1, 'False', 'myinsert', True, 'string', 4, 'test', '5']"
      ]
     },
     "execution_count": 62,
     "metadata": {},
     "output_type": "execute_result"
    }
   ],
   "source": [
    "b"
   ]
  },
  {
   "cell_type": "code",
   "execution_count": 65,
   "id": "8d534945",
   "metadata": {},
   "outputs": [],
   "source": [
    "b[4:6] = []  #We can use the replace method with an empty list for deleting items"
   ]
  },
  {
   "cell_type": "code",
   "execution_count": 66,
   "id": "292fd939",
   "metadata": {},
   "outputs": [
    {
     "data": {
      "text/plain": [
       "[1, 'False', 'myinsert', True, '5']"
      ]
     },
     "execution_count": 66,
     "metadata": {},
     "output_type": "execute_result"
    }
   ],
   "source": [
    "b"
   ]
  },
  {
   "cell_type": "code",
   "execution_count": 67,
   "id": "99c35963",
   "metadata": {},
   "outputs": [],
   "source": [
    "del(b[1])  #We can delete items with this method too"
   ]
  },
  {
   "cell_type": "code",
   "execution_count": 68,
   "id": "42b9bbc1",
   "metadata": {},
   "outputs": [
    {
     "data": {
      "text/plain": [
       "[1, 'myinsert', True, '5']"
      ]
     },
     "execution_count": 68,
     "metadata": {},
     "output_type": "execute_result"
    }
   ],
   "source": [
    "b"
   ]
  },
  {
   "cell_type": "code",
   "execution_count": 69,
   "id": "546a68e9",
   "metadata": {},
   "outputs": [],
   "source": [
    "c = [a, b]"
   ]
  },
  {
   "cell_type": "code",
   "execution_count": 72,
   "id": "5e2e74eb",
   "metadata": {},
   "outputs": [
    {
     "data": {
      "text/plain": [
       "[]"
      ]
     },
     "execution_count": 72,
     "metadata": {},
     "output_type": "execute_result"
    }
   ],
   "source": [
    "c[0]  #I'm calling item 0 from the list c, which is a."
   ]
  },
  {
   "cell_type": "code",
   "execution_count": 73,
   "id": "504fddb0",
   "metadata": {},
   "outputs": [
    {
     "data": {
      "text/plain": [
       "[1, 'myinsert', True, '5']"
      ]
     },
     "execution_count": 73,
     "metadata": {},
     "output_type": "execute_result"
    }
   ],
   "source": [
    "c[1]  #I'm calling item 1 from the list c, which is b."
   ]
  },
  {
   "cell_type": "code",
   "execution_count": 75,
   "id": "bccd1c01",
   "metadata": {},
   "outputs": [
    {
     "data": {
      "text/plain": [
       "[[], [1, 'myinsert', True, '5']]"
      ]
     },
     "execution_count": 75,
     "metadata": {},
     "output_type": "execute_result"
    }
   ],
   "source": [
    "c  #I'm calling list c."
   ]
  },
  {
   "cell_type": "code",
   "execution_count": 77,
   "id": "790f9edc",
   "metadata": {},
   "outputs": [
    {
     "data": {
      "text/plain": [
       "True"
      ]
     },
     "execution_count": 77,
     "metadata": {},
     "output_type": "execute_result"
    }
   ],
   "source": [
    "c[1][2]  #I'm calling item 1 from list c, and then item 2 from list b (item 1 in list c)."
   ]
  },
  {
   "cell_type": "code",
   "execution_count": null,
   "id": "56bf205c",
   "metadata": {},
   "outputs": [],
   "source": []
  }
 ],
 "metadata": {
  "kernelspec": {
   "display_name": "Python 3 (ipykernel)",
   "language": "python",
   "name": "python3"
  },
  "language_info": {
   "codemirror_mode": {
    "name": "ipython",
    "version": 3
   },
   "file_extension": ".py",
   "mimetype": "text/x-python",
   "name": "python",
   "nbconvert_exporter": "python",
   "pygments_lexer": "ipython3",
   "version": "3.10.9"
  }
 },
 "nbformat": 4,
 "nbformat_minor": 5
}
