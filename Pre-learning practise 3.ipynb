{
 "cells": [
  {
   "cell_type": "markdown",
   "id": "f7b1aa1a",
   "metadata": {},
   "source": [
    "## Lists, Sets and Dictionaries"
   ]
  },
  {
   "cell_type": "markdown",
   "id": "5bee086b",
   "metadata": {},
   "source": [
    "### Lists:"
   ]
  },
  {
   "cell_type": "code",
   "execution_count": 38,
   "id": "7d1b9afe",
   "metadata": {},
   "outputs": [],
   "source": [
    "a = []"
   ]
  },
  {
   "cell_type": "code",
   "execution_count": 39,
   "id": "4e92cf3e",
   "metadata": {},
   "outputs": [],
   "source": [
    "b = [1, \"string\", True, 2.3]"
   ]
  },
  {
   "cell_type": "code",
   "execution_count": 40,
   "id": "217c083e",
   "metadata": {},
   "outputs": [
    {
     "data": {
      "text/plain": [
       "1"
      ]
     },
     "execution_count": 40,
     "metadata": {},
     "output_type": "execute_result"
    }
   ],
   "source": [
    "b[0]"
   ]
  },
  {
   "cell_type": "code",
   "execution_count": 41,
   "id": "bc35105f",
   "metadata": {},
   "outputs": [
    {
     "data": {
      "text/plain": [
       "2.3"
      ]
     },
     "execution_count": 41,
     "metadata": {},
     "output_type": "execute_result"
    }
   ],
   "source": [
    "b[-1]"
   ]
  },
  {
   "cell_type": "code",
   "execution_count": 42,
   "id": "40313273",
   "metadata": {},
   "outputs": [
    {
     "data": {
      "text/plain": [
       "'string'"
      ]
     },
     "execution_count": 42,
     "metadata": {},
     "output_type": "execute_result"
    }
   ],
   "source": [
    "b[1]"
   ]
  },
  {
   "cell_type": "code",
   "execution_count": 43,
   "id": "8ecf02a6",
   "metadata": {},
   "outputs": [
    {
     "data": {
      "text/plain": [
       "True"
      ]
     },
     "execution_count": 43,
     "metadata": {},
     "output_type": "execute_result"
    }
   ],
   "source": [
    "b[2]"
   ]
  },
  {
   "cell_type": "code",
   "execution_count": 44,
   "id": "e44eeec4",
   "metadata": {},
   "outputs": [
    {
     "data": {
      "text/plain": [
       "1"
      ]
     },
     "execution_count": 44,
     "metadata": {},
     "output_type": "execute_result"
    }
   ],
   "source": [
    "b[-4]"
   ]
  },
  {
   "cell_type": "code",
   "execution_count": 45,
   "id": "68e0471c",
   "metadata": {},
   "outputs": [
    {
     "data": {
      "text/plain": [
       "['string', True, 2.3]"
      ]
     },
     "execution_count": 45,
     "metadata": {},
     "output_type": "execute_result"
    }
   ],
   "source": [
    "b[-3:]  #Everything starting from -3 till the end of the list"
   ]
  },
  {
   "cell_type": "code",
   "execution_count": 46,
   "id": "32c66fc6",
   "metadata": {},
   "outputs": [
    {
     "data": {
      "text/plain": [
       "['string', True, 2.3]"
      ]
     },
     "execution_count": 46,
     "metadata": {},
     "output_type": "execute_result"
    }
   ],
   "source": [
    "b[1:]"
   ]
  },
  {
   "cell_type": "code",
   "execution_count": 47,
   "id": "a0decf06",
   "metadata": {},
   "outputs": [],
   "source": [
    "b.append(\"test\")  #We use append to add an additional item to the list"
   ]
  },
  {
   "cell_type": "code",
   "execution_count": 48,
   "id": "19fe2b6b",
   "metadata": {},
   "outputs": [
    {
     "data": {
      "text/plain": [
       "[1, 'string', True, 2.3, 'test']"
      ]
     },
     "execution_count": 48,
     "metadata": {},
     "output_type": "execute_result"
    }
   ],
   "source": [
    "b"
   ]
  },
  {
   "cell_type": "code",
   "execution_count": 49,
   "id": "abb5b770",
   "metadata": {},
   "outputs": [],
   "source": [
    "b.append(\"5\")"
   ]
  },
  {
   "cell_type": "code",
   "execution_count": 50,
   "id": "86f3dc98",
   "metadata": {},
   "outputs": [
    {
     "data": {
      "text/plain": [
       "[1, 'string', True, 2.3, 'test', '5']"
      ]
     },
     "execution_count": 50,
     "metadata": {},
     "output_type": "execute_result"
    }
   ],
   "source": [
    "b"
   ]
  },
  {
   "cell_type": "code",
   "execution_count": 51,
   "id": "79205816",
   "metadata": {},
   "outputs": [],
   "source": [
    "b.insert(2, \"myinsert\")  #We use 'insert' to add anything in an specific position"
   ]
  },
  {
   "cell_type": "code",
   "execution_count": 52,
   "id": "64258642",
   "metadata": {},
   "outputs": [
    {
     "data": {
      "text/plain": [
       "[1, 'string', 'myinsert', True, 2.3, 'test', '5']"
      ]
     },
     "execution_count": 52,
     "metadata": {},
     "output_type": "execute_result"
    }
   ],
   "source": [
    "b"
   ]
  },
  {
   "cell_type": "code",
   "execution_count": 53,
   "id": "9db06453",
   "metadata": {},
   "outputs": [
    {
     "data": {
      "text/plain": [
       "0"
      ]
     },
     "execution_count": 53,
     "metadata": {},
     "output_type": "execute_result"
    }
   ],
   "source": [
    "len(a)  #We use 'len' to determine the lengh of the string"
   ]
  },
  {
   "cell_type": "code",
   "execution_count": 54,
   "id": "61f841ce",
   "metadata": {},
   "outputs": [
    {
     "data": {
      "text/plain": [
       "7"
      ]
     },
     "execution_count": 54,
     "metadata": {},
     "output_type": "execute_result"
    }
   ],
   "source": [
    "len(b)"
   ]
  },
  {
   "cell_type": "code",
   "execution_count": 57,
   "id": "30d4e4fb",
   "metadata": {},
   "outputs": [],
   "source": [
    "b[1:2] = [2]  #For replacing the word 'string' for a number 2."
   ]
  },
  {
   "cell_type": "code",
   "execution_count": 58,
   "id": "f2ff3237",
   "metadata": {},
   "outputs": [
    {
     "data": {
      "text/plain": [
       "[1, 2, 'myinsert', True, 2.3, 'test', '5']"
      ]
     },
     "execution_count": 58,
     "metadata": {},
     "output_type": "execute_result"
    }
   ],
   "source": [
    "b"
   ]
  },
  {
   "cell_type": "code",
   "execution_count": 59,
   "id": "8c89fc52",
   "metadata": {},
   "outputs": [],
   "source": [
    "b[1:2] = [\"False\"]  #For replacing the number 2 for the word 'false'"
   ]
  },
  {
   "cell_type": "code",
   "execution_count": 60,
   "id": "f5117d41",
   "metadata": {},
   "outputs": [
    {
     "data": {
      "text/plain": [
       "[1, 'False', 'myinsert', True, 2.3, 'test', '5']"
      ]
     },
     "execution_count": 60,
     "metadata": {},
     "output_type": "execute_result"
    }
   ],
   "source": [
    "b"
   ]
  },
  {
   "cell_type": "code",
   "execution_count": 61,
   "id": "ef741569",
   "metadata": {},
   "outputs": [],
   "source": [
    "b[4:5] = [\"string\", 4]  #For replacing number 2.3 for the word 'string' and a number 4"
   ]
  },
  {
   "cell_type": "code",
   "execution_count": 62,
   "id": "55fd9dc5",
   "metadata": {},
   "outputs": [
    {
     "data": {
      "text/plain": [
       "[1, 'False', 'myinsert', True, 'string', 4, 'test', '5']"
      ]
     },
     "execution_count": 62,
     "metadata": {},
     "output_type": "execute_result"
    }
   ],
   "source": [
    "b"
   ]
  },
  {
   "cell_type": "code",
   "execution_count": 65,
   "id": "5393ef33",
   "metadata": {},
   "outputs": [],
   "source": [
    "b[4:6] = []  #We can use the replace method with an empty list for deleting items"
   ]
  },
  {
   "cell_type": "code",
   "execution_count": 66,
   "id": "073d317b",
   "metadata": {},
   "outputs": [
    {
     "data": {
      "text/plain": [
       "[1, 'False', 'myinsert', True, '5']"
      ]
     },
     "execution_count": 66,
     "metadata": {},
     "output_type": "execute_result"
    }
   ],
   "source": [
    "b"
   ]
  },
  {
   "cell_type": "code",
   "execution_count": 67,
   "id": "bb5d1b16",
   "metadata": {},
   "outputs": [],
   "source": [
    "del(b[1])  #We can delete items with this method too"
   ]
  },
  {
   "cell_type": "code",
   "execution_count": 68,
   "id": "d477177d",
   "metadata": {},
   "outputs": [
    {
     "data": {
      "text/plain": [
       "[1, 'myinsert', True, '5']"
      ]
     },
     "execution_count": 68,
     "metadata": {},
     "output_type": "execute_result"
    }
   ],
   "source": [
    "b"
   ]
  },
  {
   "cell_type": "code",
   "execution_count": 69,
   "id": "3dc6c5cd",
   "metadata": {},
   "outputs": [],
   "source": [
    "c = [a, b]"
   ]
  },
  {
   "cell_type": "code",
   "execution_count": 72,
   "id": "034c1641",
   "metadata": {},
   "outputs": [
    {
     "data": {
      "text/plain": [
       "[]"
      ]
     },
     "execution_count": 72,
     "metadata": {},
     "output_type": "execute_result"
    }
   ],
   "source": [
    "c[0]  #I'm calling item 0 from the list c, which is a."
   ]
  },
  {
   "cell_type": "code",
   "execution_count": 73,
   "id": "3da21dea",
   "metadata": {},
   "outputs": [
    {
     "data": {
      "text/plain": [
       "[1, 'myinsert', True, '5']"
      ]
     },
     "execution_count": 73,
     "metadata": {},
     "output_type": "execute_result"
    }
   ],
   "source": [
    "c[1]  #I'm calling item 1 from the list c, which is b."
   ]
  },
  {
   "cell_type": "code",
   "execution_count": 75,
   "id": "810c12c6",
   "metadata": {},
   "outputs": [
    {
     "data": {
      "text/plain": [
       "[[], [1, 'myinsert', True, '5']]"
      ]
     },
     "execution_count": 75,
     "metadata": {},
     "output_type": "execute_result"
    }
   ],
   "source": [
    "c  #I'm calling list c."
   ]
  },
  {
   "cell_type": "code",
   "execution_count": 77,
   "id": "e34aec01",
   "metadata": {},
   "outputs": [
    {
     "data": {
      "text/plain": [
       "True"
      ]
     },
     "execution_count": 77,
     "metadata": {},
     "output_type": "execute_result"
    }
   ],
   "source": [
    "c[1][2]  #I'm calling item 1 from list c, and then item 2 from list b (item 1 in list c)."
   ]
  },
  {
   "cell_type": "code",
   "execution_count": 78,
   "id": "526668ff",
   "metadata": {},
   "outputs": [
    {
     "data": {
      "text/plain": [
       "[[], [1, 'myinsert', True, '5'], [...]]"
      ]
     },
     "execution_count": 78,
     "metadata": {},
     "output_type": "execute_result"
    }
   ],
   "source": [
    "c.append(c)  #I have append c to c list, so it will repet itself so on and so on\n",
    "c"
   ]
  },
  {
   "cell_type": "code",
   "execution_count": 79,
   "id": "e0fc8a5d",
   "metadata": {},
   "outputs": [
    {
     "data": {
      "text/plain": [
       "[[], [1, 'myinsert', True, '5'], [...]]"
      ]
     },
     "execution_count": 79,
     "metadata": {},
     "output_type": "execute_result"
    }
   ],
   "source": [
    "c[2]  #Now I'm calling item 2 of c list, which is c list it self."
   ]
  },
  {
   "cell_type": "code",
   "execution_count": 80,
   "id": "a7706eea",
   "metadata": {},
   "outputs": [
    {
     "data": {
      "text/plain": [
       "[]"
      ]
     },
     "execution_count": 80,
     "metadata": {},
     "output_type": "execute_result"
    }
   ],
   "source": [
    "c[2][0]  #Now I have called item in position 2 of c list, and then item 0 from item 2 (c list)."
   ]
  },
  {
   "cell_type": "code",
   "execution_count": 81,
   "id": "f0310b16",
   "metadata": {},
   "outputs": [
    {
     "data": {
      "text/plain": [
       "'myinsert'"
      ]
     },
     "execution_count": 81,
     "metadata": {},
     "output_type": "execute_result"
    }
   ],
   "source": [
    "c[2][1][1]"
   ]
  },
  {
   "cell_type": "markdown",
   "id": "bd41323d",
   "metadata": {},
   "source": [
    "### Sets:"
   ]
  },
  {
   "cell_type": "code",
   "execution_count": 82,
   "id": "1f89ae95",
   "metadata": {},
   "outputs": [
    {
     "data": {
      "text/plain": [
       "[1, 'myinsert', True, '5']"
      ]
     },
     "execution_count": 82,
     "metadata": {},
     "output_type": "execute_result"
    }
   ],
   "source": [
    "b  #Here I'm just calling b"
   ]
  },
  {
   "cell_type": "code",
   "execution_count": 83,
   "id": "ffba6cf8",
   "metadata": {},
   "outputs": [],
   "source": [
    "b.append(1) "
   ]
  },
  {
   "cell_type": "code",
   "execution_count": 85,
   "id": "9c3c8933",
   "metadata": {},
   "outputs": [],
   "source": [
    "b.append(1)"
   ]
  },
  {
   "cell_type": "code",
   "execution_count": 86,
   "id": "bb449b80",
   "metadata": {},
   "outputs": [],
   "source": [
    "b.append(1)"
   ]
  },
  {
   "cell_type": "code",
   "execution_count": 87,
   "id": "c069b897",
   "metadata": {},
   "outputs": [
    {
     "data": {
      "text/plain": [
       "[1, 'myinsert', True, '5', 1, 1, 1]"
      ]
     },
     "execution_count": 87,
     "metadata": {},
     "output_type": "execute_result"
    }
   ],
   "source": [
    "b  #I have called b after adding multiple identical values"
   ]
  },
  {
   "cell_type": "code",
   "execution_count": null,
   "id": "321a2e37",
   "metadata": {},
   "outputs": [],
   "source": [
    "#Now we are going to mantain an unorder collection of only unique numbers with Python Sets"
   ]
  },
  {
   "cell_type": "code",
   "execution_count": 88,
   "id": "b155abcb",
   "metadata": {},
   "outputs": [],
   "source": [
    "a = set()  #For this we can use the 'set' word"
   ]
  },
  {
   "cell_type": "code",
   "execution_count": 89,
   "id": "c9a3f293",
   "metadata": {},
   "outputs": [],
   "source": [
    "b = {1,\"string\", 2.3, 1, 1, True}  #Or we can use these curly brackets"
   ]
  },
  {
   "cell_type": "code",
   "execution_count": 90,
   "id": "280148c2",
   "metadata": {},
   "outputs": [
    {
     "data": {
      "text/plain": [
       "{1, 2.3, 'string'}"
      ]
     },
     "execution_count": 90,
     "metadata": {},
     "output_type": "execute_result"
    }
   ],
   "source": [
    "b"
   ]
  },
  {
   "cell_type": "code",
   "execution_count": null,
   "id": "3d37b809",
   "metadata": {},
   "outputs": [],
   "source": []
  }
 ],
 "metadata": {
  "kernelspec": {
   "display_name": "Python 3 (ipykernel)",
   "language": "python",
   "name": "python3"
  },
  "language_info": {
   "codemirror_mode": {
    "name": "ipython",
    "version": 3
   },
   "file_extension": ".py",
   "mimetype": "text/x-python",
   "name": "python",
   "nbconvert_exporter": "python",
   "pygments_lexer": "ipython3",
   "version": "3.10.9"
  }
 },
 "nbformat": 4,
 "nbformat_minor": 5
}
