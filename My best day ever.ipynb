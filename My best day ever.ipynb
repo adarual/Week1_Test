{
 "cells": [
  {
   "cell_type": "markdown",
   "id": "8820cdca",
   "metadata": {},
   "source": [
    "# My report title:\n",
    "\n",
    "## Contents\n",
    "\n",
    "* Course intro\n",
    "* Python intro\n",
    "\n",
    "__This is a cell which proints hello world!\n"
   ]
  },
  {
   "cell_type": "code",
   "execution_count": 3,
   "id": "005ef4cc",
   "metadata": {},
   "outputs": [
    {
     "name": "stdout",
     "output_type": "stream",
     "text": [
      "hello world, again\n"
     ]
    }
   ],
   "source": [
    "print ('hello world, again') "
   ]
  },
  {
   "cell_type": "code",
   "execution_count": 5,
   "id": "56d08236",
   "metadata": {},
   "outputs": [
    {
     "name": "stdout",
     "output_type": "stream",
     "text": [
      "Hi!\n"
     ]
    }
   ],
   "source": [
    "print ('Hi!')"
   ]
  },
  {
   "cell_type": "code",
   "execution_count": 6,
   "id": "594e1c4e",
   "metadata": {},
   "outputs": [
    {
     "data": {
      "text/plain": [
       "'Hola amigos'"
      ]
     },
     "execution_count": 6,
     "metadata": {},
     "output_type": "execute_result"
    }
   ],
   "source": [
    "'Hola amigos'"
   ]
  },
  {
   "cell_type": "code",
   "execution_count": 8,
   "id": "1d884383",
   "metadata": {},
   "outputs": [
    {
     "data": {
      "text/plain": [
       "'HOLA AMIGOS'"
      ]
     },
     "execution_count": 8,
     "metadata": {},
     "output_type": "execute_result"
    }
   ],
   "source": [
    "'Hola amigos'.upper()"
   ]
  },
  {
   "cell_type": "code",
   "execution_count": 10,
   "id": "630fa164",
   "metadata": {},
   "outputs": [
    {
     "name": "stdout",
     "output_type": "stream",
     "text": [
      "HOLA AMIGOS!\n"
     ]
    }
   ],
   "source": [
    "print ('hola amigos!'.upper())"
   ]
  },
  {
   "cell_type": "code",
   "execution_count": 11,
   "id": "9b6c0591",
   "metadata": {},
   "outputs": [],
   "source": [
    "name = 'Laura'"
   ]
  },
  {
   "cell_type": "code",
   "execution_count": 12,
   "id": "02f18d21",
   "metadata": {},
   "outputs": [
    {
     "data": {
      "text/plain": [
       "1858183933424"
      ]
     },
     "execution_count": 12,
     "metadata": {},
     "output_type": "execute_result"
    }
   ],
   "source": [
    "id(name)"
   ]
  },
  {
   "cell_type": "code",
   "execution_count": null,
   "id": "bee07cf6",
   "metadata": {},
   "outputs": [],
   "source": []
  }
 ],
 "metadata": {
  "kernelspec": {
   "display_name": "Python 3 (ipykernel)",
   "language": "python",
   "name": "python3"
  },
  "language_info": {
   "codemirror_mode": {
    "name": "ipython",
    "version": 3
   },
   "file_extension": ".py",
   "mimetype": "text/x-python",
   "name": "python",
   "nbconvert_exporter": "python",
   "pygments_lexer": "ipython3",
   "version": "3.10.9"
  }
 },
 "nbformat": 4,
 "nbformat_minor": 5
}
