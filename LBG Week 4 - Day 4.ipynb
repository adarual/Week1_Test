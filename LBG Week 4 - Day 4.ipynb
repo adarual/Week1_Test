{
 "cells": [
  {
   "cell_type": "markdown",
   "id": "54829b30",
   "metadata": {},
   "source": [
    "# Measures"
   ]
  },
  {
   "cell_type": "markdown",
   "id": "81aa46e8",
   "metadata": {},
   "source": [
    "### Example:"
   ]
  },
  {
   "cell_type": "code",
   "execution_count": 1,
   "id": "08270327",
   "metadata": {},
   "outputs": [],
   "source": [
    "import pandas as pd"
   ]
  },
  {
   "cell_type": "code",
   "execution_count": 14,
   "id": "8976bc63",
   "metadata": {},
   "outputs": [],
   "source": [
    "data = pd.Series([2,5,4,5,3])"
   ]
  },
  {
   "cell_type": "code",
   "execution_count": 15,
   "id": "140e9324",
   "metadata": {},
   "outputs": [
    {
     "data": {
      "text/plain": [
       "0    2\n",
       "1    5\n",
       "2    4\n",
       "3    5\n",
       "4    3\n",
       "dtype: int64"
      ]
     },
     "execution_count": 15,
     "metadata": {},
     "output_type": "execute_result"
    }
   ],
   "source": [
    "data"
   ]
  },
  {
   "cell_type": "code",
   "execution_count": 16,
   "id": "5e125227",
   "metadata": {},
   "outputs": [
    {
     "data": {
      "text/plain": [
       "3.8"
      ]
     },
     "execution_count": 16,
     "metadata": {},
     "output_type": "execute_result"
    }
   ],
   "source": [
    "data.mean()"
   ]
  },
  {
   "cell_type": "code",
   "execution_count": 17,
   "id": "781bd43e",
   "metadata": {},
   "outputs": [
    {
     "data": {
      "text/plain": [
       "0    5\n",
       "dtype: int64"
      ]
     },
     "execution_count": 17,
     "metadata": {},
     "output_type": "execute_result"
    }
   ],
   "source": [
    "data.mode()"
   ]
  },
  {
   "cell_type": "code",
   "execution_count": 18,
   "id": "7767b5dd",
   "metadata": {},
   "outputs": [
    {
     "data": {
      "text/plain": [
       "4.0"
      ]
     },
     "execution_count": 18,
     "metadata": {},
     "output_type": "execute_result"
    }
   ],
   "source": [
    "data.median()"
   ]
  },
  {
   "cell_type": "code",
   "execution_count": 19,
   "id": "15c5257f",
   "metadata": {},
   "outputs": [
    {
     "data": {
      "text/plain": [
       "5"
      ]
     },
     "execution_count": 19,
     "metadata": {},
     "output_type": "execute_result"
    }
   ],
   "source": [
    "data.max()"
   ]
  },
  {
   "cell_type": "code",
   "execution_count": 20,
   "id": "32e04f30",
   "metadata": {},
   "outputs": [
    {
     "data": {
      "text/plain": [
       "2"
      ]
     },
     "execution_count": 20,
     "metadata": {},
     "output_type": "execute_result"
    }
   ],
   "source": [
    "data.min()"
   ]
  },
  {
   "cell_type": "code",
   "execution_count": 21,
   "id": "614630aa",
   "metadata": {},
   "outputs": [
    {
     "data": {
      "text/plain": [
       "3.5"
      ]
     },
     "execution_count": 21,
     "metadata": {},
     "output_type": "execute_result"
    }
   ],
   "source": [
    "(data.min() + data.max()) / 2"
   ]
  },
  {
   "cell_type": "code",
   "execution_count": 23,
   "id": "2da6c580",
   "metadata": {},
   "outputs": [
    {
     "data": {
      "text/plain": [
       "3"
      ]
     },
     "execution_count": 23,
     "metadata": {},
     "output_type": "execute_result"
    }
   ],
   "source": [
    "# range\n",
    "data.max()-data.min()"
   ]
  },
  {
   "cell_type": "code",
   "execution_count": 24,
   "id": "bf979422",
   "metadata": {},
   "outputs": [
    {
     "data": {
      "text/plain": [
       "5.0"
      ]
     },
     "execution_count": 24,
     "metadata": {},
     "output_type": "execute_result"
    }
   ],
   "source": [
    "data.quantile(0.75)"
   ]
  },
  {
   "cell_type": "code",
   "execution_count": 26,
   "id": "c31b150a",
   "metadata": {},
   "outputs": [
    {
     "data": {
      "text/plain": [
       "2.0"
      ]
     },
     "execution_count": 26,
     "metadata": {},
     "output_type": "execute_result"
    }
   ],
   "source": [
    "# IQR\n",
    "data.quantile(0.75) - data.quantile(0.25)"
   ]
  },
  {
   "cell_type": "code",
   "execution_count": 29,
   "id": "1492bc3b",
   "metadata": {},
   "outputs": [
    {
     "data": {
      "text/plain": [
       "1.3038404810405297"
      ]
     },
     "execution_count": 29,
     "metadata": {},
     "output_type": "execute_result"
    }
   ],
   "source": [
    "data.std()  # default: ddof=1"
   ]
  },
  {
   "cell_type": "code",
   "execution_count": 30,
   "id": "6d0b7413",
   "metadata": {},
   "outputs": [
    {
     "data": {
      "text/plain": [
       "1.16619037896906"
      ]
     },
     "execution_count": 30,
     "metadata": {},
     "output_type": "execute_result"
    }
   ],
   "source": [
    "data.std(ddof=0)  # population (all possible data, not theorising about the bigger)"
   ]
  },
  {
   "cell_type": "code",
   "execution_count": 31,
   "id": "2246046c",
   "metadata": {},
   "outputs": [
    {
     "data": {
      "text/plain": [
       "6.407680962081059"
      ]
     },
     "execution_count": 31,
     "metadata": {},
     "output_type": "execute_result"
    }
   ],
   "source": [
    "mean = data.mean()\n",
    "stdev = data.std()\n",
    "\n",
    "mean + 2 * stdev"
   ]
  },
  {
   "cell_type": "code",
   "execution_count": 32,
   "id": "b2c82917",
   "metadata": {},
   "outputs": [
    {
     "data": {
      "text/plain": [
       "1.1923190379189403"
      ]
     },
     "execution_count": 32,
     "metadata": {},
     "output_type": "execute_result"
    }
   ],
   "source": [
    "mean - 2 * stdev"
   ]
  },
  {
   "cell_type": "code",
   "execution_count": 33,
   "id": "1abff0a8",
   "metadata": {},
   "outputs": [
    {
     "data": {
      "text/plain": [
       "0    2\n",
       "1    5\n",
       "2    4\n",
       "3    5\n",
       "4    3\n",
       "dtype: int64"
      ]
     },
     "execution_count": 33,
     "metadata": {},
     "output_type": "execute_result"
    }
   ],
   "source": [
    "data"
   ]
  },
  {
   "cell_type": "code",
   "execution_count": 34,
   "id": "f51485c7",
   "metadata": {},
   "outputs": [],
   "source": [
    "# IQR\n",
    "IQR = data.quantile(0.75) - data.quantile(0.25)"
   ]
  },
  {
   "cell_type": "code",
   "execution_count": 43,
   "id": "fd081f4d",
   "metadata": {},
   "outputs": [],
   "source": [
    "q3 = data.quantile(0.75)\n",
    "q1 = data.quantile(0.25)"
   ]
  },
  {
   "cell_type": "code",
   "execution_count": 36,
   "id": "a3006fa0",
   "metadata": {},
   "outputs": [
    {
     "data": {
      "text/plain": [
       "5.0"
      ]
     },
     "execution_count": 36,
     "metadata": {},
     "output_type": "execute_result"
    }
   ],
   "source": [
    "q3"
   ]
  },
  {
   "cell_type": "code",
   "execution_count": 37,
   "id": "0a29130c",
   "metadata": {},
   "outputs": [
    {
     "data": {
      "text/plain": [
       "2.0"
      ]
     },
     "execution_count": 37,
     "metadata": {},
     "output_type": "execute_result"
    }
   ],
   "source": [
    "IQR"
   ]
  },
  {
   "cell_type": "code",
   "execution_count": 41,
   "id": "f2fa99f3",
   "metadata": {},
   "outputs": [
    {
     "data": {
      "text/plain": [
       "8.0"
      ]
     },
     "execution_count": 41,
     "metadata": {},
     "output_type": "execute_result"
    }
   ],
   "source": [
    "q3 + 1.5 * IQR"
   ]
  },
  {
   "cell_type": "code",
   "execution_count": 44,
   "id": "747bc905",
   "metadata": {},
   "outputs": [
    {
     "data": {
      "text/plain": [
       "0.0"
      ]
     },
     "execution_count": 44,
     "metadata": {},
     "output_type": "execute_result"
    }
   ],
   "source": [
    "q1 - 1.5 * IQR"
   ]
  },
  {
   "cell_type": "code",
   "execution_count": null,
   "id": "0f45c95a",
   "metadata": {},
   "outputs": [],
   "source": []
  },
  {
   "cell_type": "code",
   "execution_count": null,
   "id": "6280d47e",
   "metadata": {},
   "outputs": [],
   "source": []
  },
  {
   "cell_type": "markdown",
   "id": "9ba7499e",
   "metadata": {},
   "source": [
    "### Exercise 1"
   ]
  },
  {
   "cell_type": "code",
   "execution_count": 2,
   "id": "70187209",
   "metadata": {},
   "outputs": [],
   "source": [
    "import pandas as pd"
   ]
  },
  {
   "cell_type": "code",
   "execution_count": 12,
   "id": "7462d41c",
   "metadata": {},
   "outputs": [],
   "source": [
    "data = [4,11,89,37,51,28,11,90]\n",
    "df = pd.Series(data)"
   ]
  },
  {
   "cell_type": "code",
   "execution_count": 13,
   "id": "cf29cb61",
   "metadata": {},
   "outputs": [],
   "source": [
    "mean = df.mean()\n",
    "variance = df.var()\n",
    "stdev = df.std()"
   ]
  },
  {
   "cell_type": "code",
   "execution_count": 14,
   "id": "1cb8df8b",
   "metadata": {},
   "outputs": [
    {
     "data": {
      "text/plain": [
       "40.125"
      ]
     },
     "execution_count": 14,
     "metadata": {},
     "output_type": "execute_result"
    }
   ],
   "source": [
    "mean"
   ]
  },
  {
   "cell_type": "code",
   "execution_count": 15,
   "id": "bf60c54a",
   "metadata": {},
   "outputs": [
    {
     "data": {
      "text/plain": [
       "1164.6964285714287"
      ]
     },
     "execution_count": 15,
     "metadata": {},
     "output_type": "execute_result"
    }
   ],
   "source": [
    "variance"
   ]
  },
  {
   "cell_type": "code",
   "execution_count": 16,
   "id": "88424d27",
   "metadata": {},
   "outputs": [
    {
     "data": {
      "text/plain": [
       "34.127649033758956"
      ]
     },
     "execution_count": 16,
     "metadata": {},
     "output_type": "execute_result"
    }
   ],
   "source": [
    "stdev"
   ]
  },
  {
   "cell_type": "code",
   "execution_count": 17,
   "id": "e08be097",
   "metadata": {},
   "outputs": [],
   "source": [
    "lower_bound_method1 = mean - 2 * stdev\n",
    "upper_bound_method1 = mean + 2 * stdev\n",
    "outliers_method1 = [x for x in data if x < lower_bound_method1 or x > upper_bound_method1]"
   ]
  },
  {
   "cell_type": "code",
   "execution_count": 18,
   "id": "7c769b32",
   "metadata": {},
   "outputs": [
    {
     "data": {
      "text/plain": [
       "[]"
      ]
     },
     "execution_count": 18,
     "metadata": {},
     "output_type": "execute_result"
    }
   ],
   "source": [
    "outliers_method1"
   ]
  },
  {
   "cell_type": "markdown",
   "id": "eead8474",
   "metadata": {},
   "source": [
    "### Exercise 3"
   ]
  },
  {
   "cell_type": "code",
   "execution_count": 19,
   "id": "a3b54166",
   "metadata": {},
   "outputs": [],
   "source": [
    "import pandas as pd\n",
    "import numpy as np"
   ]
  },
  {
   "cell_type": "code",
   "execution_count": 21,
   "id": "8a31df6d",
   "metadata": {},
   "outputs": [],
   "source": [
    "df = pd.read_csv('Data/investment_performance.csv')"
   ]
  },
  {
   "cell_type": "code",
   "execution_count": 22,
   "id": "e599a809",
   "metadata": {},
   "outputs": [
    {
     "data": {
      "text/html": [
       "<div>\n",
       "<style scoped>\n",
       "    .dataframe tbody tr th:only-of-type {\n",
       "        vertical-align: middle;\n",
       "    }\n",
       "\n",
       "    .dataframe tbody tr th {\n",
       "        vertical-align: top;\n",
       "    }\n",
       "\n",
       "    .dataframe thead th {\n",
       "        text-align: right;\n",
       "    }\n",
       "</style>\n",
       "<table border=\"1\" class=\"dataframe\">\n",
       "  <thead>\n",
       "    <tr style=\"text-align: right;\">\n",
       "      <th></th>\n",
       "      <th>Control Scores</th>\n",
       "      <th>Experimental Scores</th>\n",
       "    </tr>\n",
       "  </thead>\n",
       "  <tbody>\n",
       "    <tr>\n",
       "      <th>0</th>\n",
       "      <td>76.586471</td>\n",
       "      <td>74.549525</td>\n",
       "    </tr>\n",
       "    <tr>\n",
       "      <th>1</th>\n",
       "      <td>69.908703</td>\n",
       "      <td>70.700829</td>\n",
       "    </tr>\n",
       "    <tr>\n",
       "      <th>2</th>\n",
       "      <td>73.936652</td>\n",
       "      <td>88.982201</td>\n",
       "    </tr>\n",
       "    <tr>\n",
       "      <th>3</th>\n",
       "      <td>88.199987</td>\n",
       "      <td>84.108943</td>\n",
       "    </tr>\n",
       "    <tr>\n",
       "      <th>4</th>\n",
       "      <td>95.266521</td>\n",
       "      <td>97.606320</td>\n",
       "    </tr>\n",
       "    <tr>\n",
       "      <th>5</th>\n",
       "      <td>70.496647</td>\n",
       "      <td>68.163111</td>\n",
       "    </tr>\n",
       "    <tr>\n",
       "      <th>6</th>\n",
       "      <td>91.520044</td>\n",
       "      <td>74.819034</td>\n",
       "    </tr>\n",
       "    <tr>\n",
       "      <th>7</th>\n",
       "      <td>79.012866</td>\n",
       "      <td>110.625783</td>\n",
       "    </tr>\n",
       "    <tr>\n",
       "      <th>8</th>\n",
       "      <td>72.207156</td>\n",
       "      <td>83.896866</td>\n",
       "    </tr>\n",
       "    <tr>\n",
       "      <th>9</th>\n",
       "      <td>75.993636</td>\n",
       "      <td>88.813311</td>\n",
       "    </tr>\n",
       "    <tr>\n",
       "      <th>10</th>\n",
       "      <td>77.138042</td>\n",
       "      <td>78.298932</td>\n",
       "    </tr>\n",
       "    <tr>\n",
       "      <th>11</th>\n",
       "      <td>91.063205</td>\n",
       "      <td>69.522202</td>\n",
       "    </tr>\n",
       "    <tr>\n",
       "      <th>12</th>\n",
       "      <td>88.211562</td>\n",
       "      <td>79.714339</td>\n",
       "    </tr>\n",
       "    <tr>\n",
       "      <th>13</th>\n",
       "      <td>80.967952</td>\n",
       "      <td>76.124310</td>\n",
       "    </tr>\n",
       "    <tr>\n",
       "      <th>14</th>\n",
       "      <td>75.729933</td>\n",
       "      <td>68.756303</td>\n",
       "    </tr>\n",
       "    <tr>\n",
       "      <th>15</th>\n",
       "      <td>78.838592</td>\n",
       "      <td>69.492640</td>\n",
       "    </tr>\n",
       "    <tr>\n",
       "      <th>16</th>\n",
       "      <td>67.377975</td>\n",
       "      <td>66.153945</td>\n",
       "    </tr>\n",
       "    <tr>\n",
       "      <th>17</th>\n",
       "      <td>61.135907</td>\n",
       "      <td>74.987633</td>\n",
       "    </tr>\n",
       "    <tr>\n",
       "      <th>18</th>\n",
       "      <td>66.748554</td>\n",
       "      <td>75.501400</td>\n",
       "    </tr>\n",
       "    <tr>\n",
       "      <th>19</th>\n",
       "      <td>71.691325</td>\n",
       "      <td>80.612847</td>\n",
       "    </tr>\n",
       "    <tr>\n",
       "      <th>20</th>\n",
       "      <td>78.075329</td>\n",
       "      <td>94.955567</td>\n",
       "    </tr>\n",
       "    <tr>\n",
       "      <th>21</th>\n",
       "      <td>86.486662</td>\n",
       "      <td>84.515945</td>\n",
       "    </tr>\n",
       "    <tr>\n",
       "      <th>22</th>\n",
       "      <td>63.332806</td>\n",
       "      <td>73.756273</td>\n",
       "    </tr>\n",
       "    <tr>\n",
       "      <th>23</th>\n",
       "      <td>78.515258</td>\n",
       "      <td>103.201715</td>\n",
       "    </tr>\n",
       "    <tr>\n",
       "      <th>24</th>\n",
       "      <td>68.558666</td>\n",
       "      <td>97.049422</td>\n",
       "    </tr>\n",
       "    <tr>\n",
       "      <th>25</th>\n",
       "      <td>71.111738</td>\n",
       "      <td>106.337460</td>\n",
       "    </tr>\n",
       "    <tr>\n",
       "      <th>26</th>\n",
       "      <td>84.467686</td>\n",
       "      <td>94.842372</td>\n",
       "    </tr>\n",
       "    <tr>\n",
       "      <th>27</th>\n",
       "      <td>84.705059</td>\n",
       "      <td>89.313468</td>\n",
       "    </tr>\n",
       "    <tr>\n",
       "      <th>28</th>\n",
       "      <td>89.612900</td>\n",
       "      <td>77.866050</td>\n",
       "    </tr>\n",
       "    <tr>\n",
       "      <th>29</th>\n",
       "      <td>63.550510</td>\n",
       "      <td>104.792718</td>\n",
       "    </tr>\n",
       "    <tr>\n",
       "      <th>30</th>\n",
       "      <td>83.694598</td>\n",
       "      <td>93.910166</td>\n",
       "    </tr>\n",
       "    <tr>\n",
       "      <th>31</th>\n",
       "      <td>90.665962</td>\n",
       "      <td>90.087008</td>\n",
       "    </tr>\n",
       "    <tr>\n",
       "      <th>32</th>\n",
       "      <td>69.610131</td>\n",
       "      <td>90.898108</td>\n",
       "    </tr>\n",
       "    <tr>\n",
       "      <th>33</th>\n",
       "      <td>81.468131</td>\n",
       "      <td>83.027777</td>\n",
       "    </tr>\n",
       "    <tr>\n",
       "      <th>34</th>\n",
       "      <td>70.452270</td>\n",
       "      <td>95.094654</td>\n",
       "    </tr>\n",
       "    <tr>\n",
       "      <th>35</th>\n",
       "      <td>66.018695</td>\n",
       "      <td>94.054263</td>\n",
       "    </tr>\n",
       "    <tr>\n",
       "      <th>36</th>\n",
       "      <td>78.161445</td>\n",
       "      <td>91.332730</td>\n",
       "    </tr>\n",
       "    <tr>\n",
       "      <th>37</th>\n",
       "      <td>72.764544</td>\n",
       "      <td>84.227485</td>\n",
       "    </tr>\n",
       "    <tr>\n",
       "      <th>38</th>\n",
       "      <td>88.160663</td>\n",
       "      <td>84.960514</td>\n",
       "    </tr>\n",
       "    <tr>\n",
       "      <th>39</th>\n",
       "      <td>77.634266</td>\n",
       "      <td>81.800467</td>\n",
       "    </tr>\n",
       "    <tr>\n",
       "      <th>40</th>\n",
       "      <td>67.418981</td>\n",
       "      <td>91.791794</td>\n",
       "    </tr>\n",
       "    <tr>\n",
       "      <th>41</th>\n",
       "      <td>92.415059</td>\n",
       "      <td>78.824057</td>\n",
       "    </tr>\n",
       "    <tr>\n",
       "      <th>42</th>\n",
       "      <td>95.359162</td>\n",
       "      <td>76.798686</td>\n",
       "    </tr>\n",
       "    <tr>\n",
       "      <th>43</th>\n",
       "      <td>73.450657</td>\n",
       "      <td>92.336138</td>\n",
       "    </tr>\n",
       "    <tr>\n",
       "      <th>44</th>\n",
       "      <td>75.562106</td>\n",
       "      <td>98.770444</td>\n",
       "    </tr>\n",
       "    <tr>\n",
       "      <th>45</th>\n",
       "      <td>69.837469</td>\n",
       "      <td>93.408537</td>\n",
       "    </tr>\n",
       "    <tr>\n",
       "      <th>46</th>\n",
       "      <td>91.706580</td>\n",
       "      <td>78.273055</td>\n",
       "    </tr>\n",
       "    <tr>\n",
       "      <th>47</th>\n",
       "      <td>93.865076</td>\n",
       "      <td>91.997824</td>\n",
       "    </tr>\n",
       "    <tr>\n",
       "      <th>48</th>\n",
       "      <td>82.925401</td>\n",
       "      <td>70.381077</td>\n",
       "    </tr>\n",
       "    <tr>\n",
       "      <th>49</th>\n",
       "      <td>62.756291</td>\n",
       "      <td>95.916510</td>\n",
       "    </tr>\n",
       "  </tbody>\n",
       "</table>\n",
       "</div>"
      ],
      "text/plain": [
       "    Control Scores  Experimental Scores\n",
       "0        76.586471            74.549525\n",
       "1        69.908703            70.700829\n",
       "2        73.936652            88.982201\n",
       "3        88.199987            84.108943\n",
       "4        95.266521            97.606320\n",
       "5        70.496647            68.163111\n",
       "6        91.520044            74.819034\n",
       "7        79.012866           110.625783\n",
       "8        72.207156            83.896866\n",
       "9        75.993636            88.813311\n",
       "10       77.138042            78.298932\n",
       "11       91.063205            69.522202\n",
       "12       88.211562            79.714339\n",
       "13       80.967952            76.124310\n",
       "14       75.729933            68.756303\n",
       "15       78.838592            69.492640\n",
       "16       67.377975            66.153945\n",
       "17       61.135907            74.987633\n",
       "18       66.748554            75.501400\n",
       "19       71.691325            80.612847\n",
       "20       78.075329            94.955567\n",
       "21       86.486662            84.515945\n",
       "22       63.332806            73.756273\n",
       "23       78.515258           103.201715\n",
       "24       68.558666            97.049422\n",
       "25       71.111738           106.337460\n",
       "26       84.467686            94.842372\n",
       "27       84.705059            89.313468\n",
       "28       89.612900            77.866050\n",
       "29       63.550510           104.792718\n",
       "30       83.694598            93.910166\n",
       "31       90.665962            90.087008\n",
       "32       69.610131            90.898108\n",
       "33       81.468131            83.027777\n",
       "34       70.452270            95.094654\n",
       "35       66.018695            94.054263\n",
       "36       78.161445            91.332730\n",
       "37       72.764544            84.227485\n",
       "38       88.160663            84.960514\n",
       "39       77.634266            81.800467\n",
       "40       67.418981            91.791794\n",
       "41       92.415059            78.824057\n",
       "42       95.359162            76.798686\n",
       "43       73.450657            92.336138\n",
       "44       75.562106            98.770444\n",
       "45       69.837469            93.408537\n",
       "46       91.706580            78.273055\n",
       "47       93.865076            91.997824\n",
       "48       82.925401            70.381077\n",
       "49       62.756291            95.916510"
      ]
     },
     "execution_count": 22,
     "metadata": {},
     "output_type": "execute_result"
    }
   ],
   "source": [
    "df"
   ]
  },
  {
   "cell_type": "code",
   "execution_count": 27,
   "id": "51795f34",
   "metadata": {},
   "outputs": [
    {
     "data": {
      "text/plain": [
       "78.08751663789478"
      ]
     },
     "execution_count": 27,
     "metadata": {},
     "output_type": "execute_result"
    }
   ],
   "source": [
    "control_mean = df['Control Scores'].mean()\n",
    "control_mean"
   ]
  },
  {
   "cell_type": "code",
   "execution_count": 28,
   "id": "7e82e202",
   "metadata": {},
   "outputs": [
    {
     "data": {
      "text/plain": [
       "61.135907012612826"
      ]
     },
     "execution_count": 28,
     "metadata": {},
     "output_type": "execute_result"
    }
   ],
   "source": [
    "control_mode = df['Control Scores'].mode().iloc[0]\n",
    "control_mode"
   ]
  },
  {
   "cell_type": "code",
   "execution_count": 29,
   "id": "a984c13e",
   "metadata": {},
   "outputs": [
    {
     "data": {
      "text/plain": [
       "77.38615374332923"
      ]
     },
     "execution_count": 29,
     "metadata": {},
     "output_type": "execute_result"
    }
   ],
   "source": [
    "control_median = df['Control Scores'].median()\n",
    "control_median"
   ]
  },
  {
   "cell_type": "code",
   "execution_count": 30,
   "id": "75a3fd20",
   "metadata": {},
   "outputs": [
    {
     "data": {
      "text/plain": [
       "78.24753427263798"
      ]
     },
     "execution_count": 30,
     "metadata": {},
     "output_type": "execute_result"
    }
   ],
   "source": [
    "control_mid_range = (df['Control Scores'].min() + df['Control Scores'].max()) / 2\n",
    "control_mid_range"
   ]
  },
  {
   "cell_type": "markdown",
   "id": "ca3d0c49",
   "metadata": {},
   "source": [
    "# "
   ]
  }
 ],
 "metadata": {
  "kernelspec": {
   "display_name": "Python 3 (ipykernel)",
   "language": "python",
   "name": "python3"
  },
  "language_info": {
   "codemirror_mode": {
    "name": "ipython",
    "version": 3
   },
   "file_extension": ".py",
   "mimetype": "text/x-python",
   "name": "python",
   "nbconvert_exporter": "python",
   "pygments_lexer": "ipython3",
   "version": "3.10.9"
  }
 },
 "nbformat": 4,
 "nbformat_minor": 5
}
