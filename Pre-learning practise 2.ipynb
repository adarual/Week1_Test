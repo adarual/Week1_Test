{
 "cells": [
  {
   "cell_type": "code",
   "execution_count": 1,
   "id": "ffa00a5d",
   "metadata": {},
   "outputs": [
    {
     "data": {
      "text/plain": [
       "'Quote\"me'"
      ]
     },
     "execution_count": 1,
     "metadata": {},
     "output_type": "execute_result"
    }
   ],
   "source": [
    "\"Quote\\\"me\""
   ]
  },
  {
   "cell_type": "code",
   "execution_count": 2,
   "id": "edd2a940",
   "metadata": {},
   "outputs": [
    {
     "data": {
      "text/plain": [
       "'Quote\"me'"
      ]
     },
     "execution_count": 2,
     "metadata": {},
     "output_type": "execute_result"
    }
   ],
   "source": [
    "'Quote\"me'"
   ]
  },
  {
   "cell_type": "code",
   "execution_count": 3,
   "id": "c881c217",
   "metadata": {},
   "outputs": [
    {
     "data": {
      "text/plain": [
       "'Hello'"
      ]
     },
     "execution_count": 3,
     "metadata": {},
     "output_type": "execute_result"
    }
   ],
   "source": [
    "\"\"\"Hello\"\"\""
   ]
  },
  {
   "cell_type": "code",
   "execution_count": 4,
   "id": "a0ff31ab",
   "metadata": {},
   "outputs": [
    {
     "data": {
      "text/plain": [
       "'Hello\\nWorld'"
      ]
     },
     "execution_count": 4,
     "metadata": {},
     "output_type": "execute_result"
    }
   ],
   "source": [
    "\"\"\"Hello\n",
    "World\"\"\""
   ]
  },
  {
   "cell_type": "code",
   "execution_count": 5,
   "id": "02f860a3",
   "metadata": {},
   "outputs": [],
   "source": [
    "test = \"Hello\""
   ]
  },
  {
   "cell_type": "code",
   "execution_count": 6,
   "id": "730218d6",
   "metadata": {},
   "outputs": [
    {
     "data": {
      "text/plain": [
       "'Hello'"
      ]
     },
     "execution_count": 6,
     "metadata": {},
     "output_type": "execute_result"
    }
   ],
   "source": [
    "test"
   ]
  },
  {
   "cell_type": "code",
   "execution_count": 7,
   "id": "8faedadd",
   "metadata": {},
   "outputs": [
    {
     "data": {
      "text/plain": [
       "'HelloWorld'"
      ]
     },
     "execution_count": 7,
     "metadata": {},
     "output_type": "execute_result"
    }
   ],
   "source": [
    "test + \"World\""
   ]
  },
  {
   "cell_type": "code",
   "execution_count": 8,
   "id": "9b2b5b4e",
   "metadata": {},
   "outputs": [],
   "source": [
    "a = \"Hello\"\n",
    "b = a\n",
    "a = a + \"World\""
   ]
  },
  {
   "cell_type": "code",
   "execution_count": 9,
   "id": "94f9c546",
   "metadata": {},
   "outputs": [
    {
     "name": "stdout",
     "output_type": "stream",
     "text": [
      "Hello\n"
     ]
    }
   ],
   "source": [
    "print (b)"
   ]
  },
  {
   "cell_type": "code",
   "execution_count": 10,
   "id": "29e10926",
   "metadata": {},
   "outputs": [
    {
     "name": "stdout",
     "output_type": "stream",
     "text": [
      "HelloWorld\n"
     ]
    }
   ],
   "source": [
    "print (a)"
   ]
  },
  {
   "cell_type": "code",
   "execution_count": 11,
   "id": "137d55db",
   "metadata": {},
   "outputs": [
    {
     "data": {
      "text/plain": [
       "'ello'"
      ]
     },
     "execution_count": 11,
     "metadata": {},
     "output_type": "execute_result"
    }
   ],
   "source": [
    "a[1:5]"
   ]
  },
  {
   "cell_type": "code",
   "execution_count": 12,
   "id": "69edd117",
   "metadata": {},
   "outputs": [
    {
     "data": {
      "text/plain": [
       "'orld'"
      ]
     },
     "execution_count": 12,
     "metadata": {},
     "output_type": "execute_result"
    }
   ],
   "source": [
    "a[6:]"
   ]
  },
  {
   "cell_type": "code",
   "execution_count": 13,
   "id": "3472b3e5",
   "metadata": {},
   "outputs": [
    {
     "data": {
      "text/plain": [
       "'orl'"
      ]
     },
     "execution_count": 13,
     "metadata": {},
     "output_type": "execute_result"
    }
   ],
   "source": [
    "a[6:-1]"
   ]
  },
  {
   "cell_type": "code",
   "execution_count": 14,
   "id": "544e5cea",
   "metadata": {},
   "outputs": [
    {
     "data": {
      "text/plain": [
       "'Hello'"
      ]
     },
     "execution_count": 14,
     "metadata": {},
     "output_type": "execute_result"
    }
   ],
   "source": [
    "a[:5]"
   ]
  },
  {
   "cell_type": "code",
   "execution_count": 15,
   "id": "2036e58d",
   "metadata": {},
   "outputs": [
    {
     "data": {
      "text/plain": [
       "'o'"
      ]
     },
     "execution_count": 15,
     "metadata": {},
     "output_type": "execute_result"
    }
   ],
   "source": [
    "a[4]"
   ]
  },
  {
   "cell_type": "code",
   "execution_count": 16,
   "id": "97445e81",
   "metadata": {},
   "outputs": [
    {
     "data": {
      "text/plain": [
       "'HelloWor'"
      ]
     },
     "execution_count": 16,
     "metadata": {},
     "output_type": "execute_result"
    }
   ],
   "source": [
    "a[:5-7]"
   ]
  },
  {
   "cell_type": "code",
   "execution_count": null,
   "id": "5c5c2769",
   "metadata": {},
   "outputs": [],
   "source": []
  }
 ],
 "metadata": {
  "kernelspec": {
   "display_name": "Python 3 (ipykernel)",
   "language": "python",
   "name": "python3"
  },
  "language_info": {
   "codemirror_mode": {
    "name": "ipython",
    "version": 3
   },
   "file_extension": ".py",
   "mimetype": "text/x-python",
   "name": "python",
   "nbconvert_exporter": "python",
   "pygments_lexer": "ipython3",
   "version": "3.10.9"
  }
 },
 "nbformat": 4,
 "nbformat_minor": 5
}
