{
 "cells": [
  {
   "cell_type": "markdown",
   "id": "8b714fc3",
   "metadata": {},
   "source": [
    "# Introduction to distribution"
   ]
  },
  {
   "cell_type": "markdown",
   "id": "8e9e7277",
   "metadata": {},
   "source": [
    "### Practical lab activity"
   ]
  },
  {
   "cell_type": "code",
   "execution_count": 1,
   "id": "942815ac",
   "metadata": {},
   "outputs": [],
   "source": [
    "import scipy.stats as stats"
   ]
  },
  {
   "cell_type": "code",
   "execution_count": 3,
   "id": "7096bccb",
   "metadata": {},
   "outputs": [
    {
     "data": {
      "text/plain": [
       "0.5"
      ]
     },
     "execution_count": 3,
     "metadata": {},
     "output_type": "execute_result"
    }
   ],
   "source": [
    "stats.norm.cdf(0)"
   ]
  },
  {
   "cell_type": "code",
   "execution_count": 4,
   "id": "4b7a8931",
   "metadata": {},
   "outputs": [
    {
     "data": {
      "text/plain": [
       "0.9772498680518208"
      ]
     },
     "execution_count": 4,
     "metadata": {},
     "output_type": "execute_result"
    }
   ],
   "source": [
    "stats.norm.cdf(2)"
   ]
  },
  {
   "cell_type": "code",
   "execution_count": 5,
   "id": "8f2d9d96",
   "metadata": {},
   "outputs": [
    {
     "data": {
      "text/plain": [
       "0.022750131948179195"
      ]
     },
     "execution_count": 5,
     "metadata": {},
     "output_type": "execute_result"
    }
   ],
   "source": [
    "stats.norm.cdf(-2)"
   ]
  },
  {
   "cell_type": "code",
   "execution_count": null,
   "id": "698ba11b",
   "metadata": {},
   "outputs": [],
   "source": [
    "# p is the probability that a randomly selected guess from all the possible\n",
    "# guesses that you could make ever (the population) is correct!\n",
    "# X is the total number of correct guesses you get out of 20 questions\n",
    "\n",
    "# H0 (null hypothesis): you can't read my mind! p = 0.25\n",
    "# H1 (alternative hyphotesis): you can read my mind and are trying to score high\n",
    "# so... p > 0.25\n",
    "\n",
    "# X ~ B(20, p = ?) Binomial distribution\n",
    "# 1 tailed\n"
   ]
  }
 ],
 "metadata": {
  "kernelspec": {
   "display_name": "Python 3 (ipykernel)",
   "language": "python",
   "name": "python3"
  },
  "language_info": {
   "codemirror_mode": {
    "name": "ipython",
    "version": 3
   },
   "file_extension": ".py",
   "mimetype": "text/x-python",
   "name": "python",
   "nbconvert_exporter": "python",
   "pygments_lexer": "ipython3",
   "version": "3.10.9"
  }
 },
 "nbformat": 4,
 "nbformat_minor": 5
}
