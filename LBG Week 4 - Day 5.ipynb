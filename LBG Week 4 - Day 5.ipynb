{
 "cells": [
  {
   "cell_type": "markdown",
   "id": "ecd3513c",
   "metadata": {},
   "source": [
    "# Introduction to distribution"
   ]
  },
  {
   "cell_type": "markdown",
   "id": "f9f83507",
   "metadata": {},
   "source": [
    "### Practical lab activity"
   ]
  },
  {
   "cell_type": "code",
   "execution_count": 1,
   "id": "8232726d",
   "metadata": {},
   "outputs": [],
   "source": [
    "import scipy.stats as stats"
   ]
  },
  {
   "cell_type": "code",
   "execution_count": 3,
   "id": "cbcddc4a",
   "metadata": {},
   "outputs": [
    {
     "data": {
      "text/plain": [
       "0.5"
      ]
     },
     "execution_count": 3,
     "metadata": {},
     "output_type": "execute_result"
    }
   ],
   "source": [
    "stats.norm.cdf(0)"
   ]
  },
  {
   "cell_type": "code",
   "execution_count": 4,
   "id": "0deea0c0",
   "metadata": {},
   "outputs": [
    {
     "data": {
      "text/plain": [
       "0.9772498680518208"
      ]
     },
     "execution_count": 4,
     "metadata": {},
     "output_type": "execute_result"
    }
   ],
   "source": [
    "stats.norm.cdf(2)"
   ]
  },
  {
   "cell_type": "code",
   "execution_count": 5,
   "id": "32f150f5",
   "metadata": {},
   "outputs": [
    {
     "data": {
      "text/plain": [
       "0.022750131948179195"
      ]
     },
     "execution_count": 5,
     "metadata": {},
     "output_type": "execute_result"
    }
   ],
   "source": [
    "stats.norm.cdf(-2)"
   ]
  },
  {
   "cell_type": "code",
   "execution_count": 7,
   "id": "a05c18b2",
   "metadata": {},
   "outputs": [],
   "source": [
    "# p is the probability that a randomly selected guess from all the possible\n",
    "# guesses that you could make ever (the population) is correct!\n",
    "# X is the total number of correct guesses you get out of 20 questions\n",
    "\n",
    "# H0 (null hypothesis): you can't read my mind! p = 0.25\n",
    "# H1 (alternative hyphotesis): you can read my mind and are trying to score high\n",
    "# so... p > 0.25\n",
    "\n",
    "# X ~ B(20, p = ?) Binomial distribution\n",
    "# 1 tailed\n",
    "# significance level: 5% = 0.05\n",
    "\n",
    "# Assume H0 is true: X ~ B(20, p = 0.25)\n",
    "# If anything unusual or unlikely happens then perhaps our assumption is wrong\n"
   ]
  },
  {
   "cell_type": "code",
   "execution_count": 9,
   "id": "a9917067",
   "metadata": {},
   "outputs": [
    {
     "ename": "NameError",
     "evalue": "name 'binomial_dist' is not defined",
     "output_type": "error",
     "traceback": [
      "\u001b[1;31m---------------------------------------------------------------------------\u001b[0m",
      "\u001b[1;31mNameError\u001b[0m                                 Traceback (most recent call last)",
      "Cell \u001b[1;32mIn[9], line 2\u001b[0m\n\u001b[0;32m      1\u001b[0m \u001b[38;5;66;03m# Prob of getting 8 or bigger\u001b[39;00m\n\u001b[1;32m----> 2\u001b[0m \u001b[38;5;241m1\u001b[39m\u001b[38;5;241m-\u001b[39m \u001b[43mbinomial_dist\u001b[49m\u001b[38;5;241m.\u001b[39mcdf(\u001b[38;5;241m7\u001b[39m)\n",
      "\u001b[1;31mNameError\u001b[0m: name 'binomial_dist' is not defined"
     ]
    }
   ],
   "source": [
    "# Prob of getting 8 or bigger\n",
    "1 - binomial_dist.cdf(7)"
   ]
  },
  {
   "cell_type": "code",
   "execution_count": 10,
   "id": "55d33101",
   "metadata": {},
   "outputs": [],
   "source": [
    "# 0.102 (3sf) is more than 5% - it's unlikely, \n",
    "# but not enough for us to reject our assumption.\n",
    "# So we'll say for now, based on the evidence of this test, we'll stick with H0.\n",
    "# There is not enought evidence to \n",
    "# reject the assumption that you can't read my mind."
   ]
  },
  {
   "cell_type": "markdown",
   "id": "e69d1a4e",
   "metadata": {},
   "source": [
    "# Introduction to Hipothesis Testing"
   ]
  },
  {
   "cell_type": "markdown",
   "id": "e2c08125",
   "metadata": {},
   "source": [
    "### Practical Lab Activity"
   ]
  },
  {
   "cell_type": "code",
   "execution_count": 11,
   "id": "2ad2657a",
   "metadata": {},
   "outputs": [],
   "source": [
    "import pandas as pd"
   ]
  },
  {
   "cell_type": "code",
   "execution_count": 13,
   "id": "49a27f4d",
   "metadata": {},
   "outputs": [],
   "source": [
    "df = pd.read_csv('Data/investment_performance.csv')"
   ]
  },
  {
   "cell_type": "code",
   "execution_count": 14,
   "id": "a11519ef",
   "metadata": {},
   "outputs": [
    {
     "data": {
      "text/html": [
       "<div>\n",
       "<style scoped>\n",
       "    .dataframe tbody tr th:only-of-type {\n",
       "        vertical-align: middle;\n",
       "    }\n",
       "\n",
       "    .dataframe tbody tr th {\n",
       "        vertical-align: top;\n",
       "    }\n",
       "\n",
       "    .dataframe thead th {\n",
       "        text-align: right;\n",
       "    }\n",
       "</style>\n",
       "<table border=\"1\" class=\"dataframe\">\n",
       "  <thead>\n",
       "    <tr style=\"text-align: right;\">\n",
       "      <th></th>\n",
       "      <th>Control Scores</th>\n",
       "      <th>Experimental Scores</th>\n",
       "    </tr>\n",
       "  </thead>\n",
       "  <tbody>\n",
       "    <tr>\n",
       "      <th>0</th>\n",
       "      <td>76.586471</td>\n",
       "      <td>74.549525</td>\n",
       "    </tr>\n",
       "    <tr>\n",
       "      <th>1</th>\n",
       "      <td>69.908703</td>\n",
       "      <td>70.700829</td>\n",
       "    </tr>\n",
       "    <tr>\n",
       "      <th>2</th>\n",
       "      <td>73.936652</td>\n",
       "      <td>88.982201</td>\n",
       "    </tr>\n",
       "    <tr>\n",
       "      <th>3</th>\n",
       "      <td>88.199987</td>\n",
       "      <td>84.108943</td>\n",
       "    </tr>\n",
       "    <tr>\n",
       "      <th>4</th>\n",
       "      <td>95.266521</td>\n",
       "      <td>97.606320</td>\n",
       "    </tr>\n",
       "    <tr>\n",
       "      <th>5</th>\n",
       "      <td>70.496647</td>\n",
       "      <td>68.163111</td>\n",
       "    </tr>\n",
       "    <tr>\n",
       "      <th>6</th>\n",
       "      <td>91.520044</td>\n",
       "      <td>74.819034</td>\n",
       "    </tr>\n",
       "    <tr>\n",
       "      <th>7</th>\n",
       "      <td>79.012866</td>\n",
       "      <td>110.625783</td>\n",
       "    </tr>\n",
       "    <tr>\n",
       "      <th>8</th>\n",
       "      <td>72.207156</td>\n",
       "      <td>83.896866</td>\n",
       "    </tr>\n",
       "    <tr>\n",
       "      <th>9</th>\n",
       "      <td>75.993636</td>\n",
       "      <td>88.813311</td>\n",
       "    </tr>\n",
       "    <tr>\n",
       "      <th>10</th>\n",
       "      <td>77.138042</td>\n",
       "      <td>78.298932</td>\n",
       "    </tr>\n",
       "    <tr>\n",
       "      <th>11</th>\n",
       "      <td>91.063205</td>\n",
       "      <td>69.522202</td>\n",
       "    </tr>\n",
       "    <tr>\n",
       "      <th>12</th>\n",
       "      <td>88.211562</td>\n",
       "      <td>79.714339</td>\n",
       "    </tr>\n",
       "    <tr>\n",
       "      <th>13</th>\n",
       "      <td>80.967952</td>\n",
       "      <td>76.124310</td>\n",
       "    </tr>\n",
       "    <tr>\n",
       "      <th>14</th>\n",
       "      <td>75.729933</td>\n",
       "      <td>68.756303</td>\n",
       "    </tr>\n",
       "    <tr>\n",
       "      <th>15</th>\n",
       "      <td>78.838592</td>\n",
       "      <td>69.492640</td>\n",
       "    </tr>\n",
       "    <tr>\n",
       "      <th>16</th>\n",
       "      <td>67.377975</td>\n",
       "      <td>66.153945</td>\n",
       "    </tr>\n",
       "    <tr>\n",
       "      <th>17</th>\n",
       "      <td>61.135907</td>\n",
       "      <td>74.987633</td>\n",
       "    </tr>\n",
       "    <tr>\n",
       "      <th>18</th>\n",
       "      <td>66.748554</td>\n",
       "      <td>75.501400</td>\n",
       "    </tr>\n",
       "    <tr>\n",
       "      <th>19</th>\n",
       "      <td>71.691325</td>\n",
       "      <td>80.612847</td>\n",
       "    </tr>\n",
       "    <tr>\n",
       "      <th>20</th>\n",
       "      <td>78.075329</td>\n",
       "      <td>94.955567</td>\n",
       "    </tr>\n",
       "    <tr>\n",
       "      <th>21</th>\n",
       "      <td>86.486662</td>\n",
       "      <td>84.515945</td>\n",
       "    </tr>\n",
       "    <tr>\n",
       "      <th>22</th>\n",
       "      <td>63.332806</td>\n",
       "      <td>73.756273</td>\n",
       "    </tr>\n",
       "    <tr>\n",
       "      <th>23</th>\n",
       "      <td>78.515258</td>\n",
       "      <td>103.201715</td>\n",
       "    </tr>\n",
       "    <tr>\n",
       "      <th>24</th>\n",
       "      <td>68.558666</td>\n",
       "      <td>97.049422</td>\n",
       "    </tr>\n",
       "    <tr>\n",
       "      <th>25</th>\n",
       "      <td>71.111738</td>\n",
       "      <td>106.337460</td>\n",
       "    </tr>\n",
       "    <tr>\n",
       "      <th>26</th>\n",
       "      <td>84.467686</td>\n",
       "      <td>94.842372</td>\n",
       "    </tr>\n",
       "    <tr>\n",
       "      <th>27</th>\n",
       "      <td>84.705059</td>\n",
       "      <td>89.313468</td>\n",
       "    </tr>\n",
       "    <tr>\n",
       "      <th>28</th>\n",
       "      <td>89.612900</td>\n",
       "      <td>77.866050</td>\n",
       "    </tr>\n",
       "    <tr>\n",
       "      <th>29</th>\n",
       "      <td>63.550510</td>\n",
       "      <td>104.792718</td>\n",
       "    </tr>\n",
       "    <tr>\n",
       "      <th>30</th>\n",
       "      <td>83.694598</td>\n",
       "      <td>93.910166</td>\n",
       "    </tr>\n",
       "    <tr>\n",
       "      <th>31</th>\n",
       "      <td>90.665962</td>\n",
       "      <td>90.087008</td>\n",
       "    </tr>\n",
       "    <tr>\n",
       "      <th>32</th>\n",
       "      <td>69.610131</td>\n",
       "      <td>90.898108</td>\n",
       "    </tr>\n",
       "    <tr>\n",
       "      <th>33</th>\n",
       "      <td>81.468131</td>\n",
       "      <td>83.027777</td>\n",
       "    </tr>\n",
       "    <tr>\n",
       "      <th>34</th>\n",
       "      <td>70.452270</td>\n",
       "      <td>95.094654</td>\n",
       "    </tr>\n",
       "    <tr>\n",
       "      <th>35</th>\n",
       "      <td>66.018695</td>\n",
       "      <td>94.054263</td>\n",
       "    </tr>\n",
       "    <tr>\n",
       "      <th>36</th>\n",
       "      <td>78.161445</td>\n",
       "      <td>91.332730</td>\n",
       "    </tr>\n",
       "    <tr>\n",
       "      <th>37</th>\n",
       "      <td>72.764544</td>\n",
       "      <td>84.227485</td>\n",
       "    </tr>\n",
       "    <tr>\n",
       "      <th>38</th>\n",
       "      <td>88.160663</td>\n",
       "      <td>84.960514</td>\n",
       "    </tr>\n",
       "    <tr>\n",
       "      <th>39</th>\n",
       "      <td>77.634266</td>\n",
       "      <td>81.800467</td>\n",
       "    </tr>\n",
       "    <tr>\n",
       "      <th>40</th>\n",
       "      <td>67.418981</td>\n",
       "      <td>91.791794</td>\n",
       "    </tr>\n",
       "    <tr>\n",
       "      <th>41</th>\n",
       "      <td>92.415059</td>\n",
       "      <td>78.824057</td>\n",
       "    </tr>\n",
       "    <tr>\n",
       "      <th>42</th>\n",
       "      <td>95.359162</td>\n",
       "      <td>76.798686</td>\n",
       "    </tr>\n",
       "    <tr>\n",
       "      <th>43</th>\n",
       "      <td>73.450657</td>\n",
       "      <td>92.336138</td>\n",
       "    </tr>\n",
       "    <tr>\n",
       "      <th>44</th>\n",
       "      <td>75.562106</td>\n",
       "      <td>98.770444</td>\n",
       "    </tr>\n",
       "    <tr>\n",
       "      <th>45</th>\n",
       "      <td>69.837469</td>\n",
       "      <td>93.408537</td>\n",
       "    </tr>\n",
       "    <tr>\n",
       "      <th>46</th>\n",
       "      <td>91.706580</td>\n",
       "      <td>78.273055</td>\n",
       "    </tr>\n",
       "    <tr>\n",
       "      <th>47</th>\n",
       "      <td>93.865076</td>\n",
       "      <td>91.997824</td>\n",
       "    </tr>\n",
       "    <tr>\n",
       "      <th>48</th>\n",
       "      <td>82.925401</td>\n",
       "      <td>70.381077</td>\n",
       "    </tr>\n",
       "    <tr>\n",
       "      <th>49</th>\n",
       "      <td>62.756291</td>\n",
       "      <td>95.916510</td>\n",
       "    </tr>\n",
       "  </tbody>\n",
       "</table>\n",
       "</div>"
      ],
      "text/plain": [
       "    Control Scores  Experimental Scores\n",
       "0        76.586471            74.549525\n",
       "1        69.908703            70.700829\n",
       "2        73.936652            88.982201\n",
       "3        88.199987            84.108943\n",
       "4        95.266521            97.606320\n",
       "5        70.496647            68.163111\n",
       "6        91.520044            74.819034\n",
       "7        79.012866           110.625783\n",
       "8        72.207156            83.896866\n",
       "9        75.993636            88.813311\n",
       "10       77.138042            78.298932\n",
       "11       91.063205            69.522202\n",
       "12       88.211562            79.714339\n",
       "13       80.967952            76.124310\n",
       "14       75.729933            68.756303\n",
       "15       78.838592            69.492640\n",
       "16       67.377975            66.153945\n",
       "17       61.135907            74.987633\n",
       "18       66.748554            75.501400\n",
       "19       71.691325            80.612847\n",
       "20       78.075329            94.955567\n",
       "21       86.486662            84.515945\n",
       "22       63.332806            73.756273\n",
       "23       78.515258           103.201715\n",
       "24       68.558666            97.049422\n",
       "25       71.111738           106.337460\n",
       "26       84.467686            94.842372\n",
       "27       84.705059            89.313468\n",
       "28       89.612900            77.866050\n",
       "29       63.550510           104.792718\n",
       "30       83.694598            93.910166\n",
       "31       90.665962            90.087008\n",
       "32       69.610131            90.898108\n",
       "33       81.468131            83.027777\n",
       "34       70.452270            95.094654\n",
       "35       66.018695            94.054263\n",
       "36       78.161445            91.332730\n",
       "37       72.764544            84.227485\n",
       "38       88.160663            84.960514\n",
       "39       77.634266            81.800467\n",
       "40       67.418981            91.791794\n",
       "41       92.415059            78.824057\n",
       "42       95.359162            76.798686\n",
       "43       73.450657            92.336138\n",
       "44       75.562106            98.770444\n",
       "45       69.837469            93.408537\n",
       "46       91.706580            78.273055\n",
       "47       93.865076            91.997824\n",
       "48       82.925401            70.381077\n",
       "49       62.756291            95.916510"
      ]
     },
     "execution_count": 14,
     "metadata": {},
     "output_type": "execute_result"
    }
   ],
   "source": [
    "df"
   ]
  },
  {
   "cell_type": "code",
   "execution_count": 15,
   "id": "26737dab",
   "metadata": {},
   "outputs": [
    {
     "data": {
      "text/plain": [
       "Ttest_indResult(statistic=-3.496431755693144, pvalue=0.0007101500664096605)"
      ]
     },
     "execution_count": 15,
     "metadata": {},
     "output_type": "execute_result"
    }
   ],
   "source": [
    "stats.ttest_ind(df['Control Scores'], df['Experimental Scores'])"
   ]
  },
  {
   "cell_type": "code",
   "execution_count": 17,
   "id": "6f60d7d9",
   "metadata": {},
   "outputs": [],
   "source": [
    "# The p value is a LOT less than 2.5%. So we reject H0. \n",
    "# So we'll accept the alternative - there's enought evidence to suggest that \n",
    "# the experimental strategy might make a difference."
   ]
  },
  {
   "cell_type": "code",
   "execution_count": null,
   "id": "8666d48e",
   "metadata": {},
   "outputs": [],
   "source": []
  }
 ],
 "metadata": {
  "kernelspec": {
   "display_name": "Python 3 (ipykernel)",
   "language": "python",
   "name": "python3"
  },
  "language_info": {
   "codemirror_mode": {
    "name": "ipython",
    "version": 3
   },
   "file_extension": ".py",
   "mimetype": "text/x-python",
   "name": "python",
   "nbconvert_exporter": "python",
   "pygments_lexer": "ipython3",
   "version": "3.10.9"
  }
 },
 "nbformat": 4,
 "nbformat_minor": 5
}
