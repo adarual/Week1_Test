{
 "cells": [
  {
   "cell_type": "markdown",
   "id": "d788c074",
   "metadata": {},
   "source": [
    "# Introduction to distribution"
   ]
  },
  {
   "cell_type": "markdown",
   "id": "564f441a",
   "metadata": {},
   "source": [
    "### Practical lab activity"
   ]
  },
  {
   "cell_type": "code",
   "execution_count": 1,
   "id": "7b8403ed",
   "metadata": {},
   "outputs": [],
   "source": [
    "import scipy.stats as stats"
   ]
  },
  {
   "cell_type": "code",
   "execution_count": 3,
   "id": "f894958a",
   "metadata": {},
   "outputs": [
    {
     "data": {
      "text/plain": [
       "0.5"
      ]
     },
     "execution_count": 3,
     "metadata": {},
     "output_type": "execute_result"
    }
   ],
   "source": [
    "stats.norm.cdf(0)"
   ]
  },
  {
   "cell_type": "code",
   "execution_count": 4,
   "id": "7d41d1ac",
   "metadata": {},
   "outputs": [
    {
     "data": {
      "text/plain": [
       "0.9772498680518208"
      ]
     },
     "execution_count": 4,
     "metadata": {},
     "output_type": "execute_result"
    }
   ],
   "source": [
    "stats.norm.cdf(2)"
   ]
  },
  {
   "cell_type": "code",
   "execution_count": 5,
   "id": "a643b126",
   "metadata": {},
   "outputs": [
    {
     "data": {
      "text/plain": [
       "0.022750131948179195"
      ]
     },
     "execution_count": 5,
     "metadata": {},
     "output_type": "execute_result"
    }
   ],
   "source": [
    "stats.norm.cdf(-2)"
   ]
  },
  {
   "cell_type": "code",
   "execution_count": 7,
   "id": "1ea16150",
   "metadata": {},
   "outputs": [],
   "source": [
    "# p is the probability that a randomly selected guess from all the possible\n",
    "# guesses that you could make ever (the population) is correct!\n",
    "# X is the total number of correct guesses you get out of 20 questions\n",
    "\n",
    "# H0 (null hypothesis): you can't read my mind! p = 0.25\n",
    "# H1 (alternative hyphotesis): you can read my mind and are trying to score high\n",
    "# so... p > 0.25\n",
    "\n",
    "# X ~ B(20, p = ?) Binomial distribution\n",
    "# 1 tailed\n",
    "# significance level: 5% = 0.05\n",
    "\n",
    "# Assume H0 is true: X ~ B(20, p = 0.25)\n",
    "# If anything unusual or unlikely happens then perhaps our assumption is wrong\n"
   ]
  },
  {
   "cell_type": "code",
   "execution_count": 9,
   "id": "daa548ff",
   "metadata": {},
   "outputs": [
    {
     "ename": "NameError",
     "evalue": "name 'binomial_dist' is not defined",
     "output_type": "error",
     "traceback": [
      "\u001b[1;31m---------------------------------------------------------------------------\u001b[0m",
      "\u001b[1;31mNameError\u001b[0m                                 Traceback (most recent call last)",
      "Cell \u001b[1;32mIn[9], line 2\u001b[0m\n\u001b[0;32m      1\u001b[0m \u001b[38;5;66;03m# Prob of getting 8 or bigger\u001b[39;00m\n\u001b[1;32m----> 2\u001b[0m \u001b[38;5;241m1\u001b[39m\u001b[38;5;241m-\u001b[39m \u001b[43mbinomial_dist\u001b[49m\u001b[38;5;241m.\u001b[39mcdf(\u001b[38;5;241m7\u001b[39m)\n",
      "\u001b[1;31mNameError\u001b[0m: name 'binomial_dist' is not defined"
     ]
    }
   ],
   "source": [
    "# Prob of getting 8 or bigger\n",
    "1 - binomial_dist.cdf(7)"
   ]
  },
  {
   "cell_type": "code",
   "execution_count": null,
   "id": "37dfa4e1",
   "metadata": {},
   "outputs": [],
   "source": [
    "# 0.102 (3sf) is more than 5% - it's unlikely, \n",
    "# but not enough for us to reject our assumption.\n",
    "# So we'll say for now, based on the evidence of this test, we'll stick with H0.\n",
    "# There is not enought evidence to \n",
    "# reject the assumption that you can't read my mind."
   ]
  }
 ],
 "metadata": {
  "kernelspec": {
   "display_name": "Python 3 (ipykernel)",
   "language": "python",
   "name": "python3"
  },
  "language_info": {
   "codemirror_mode": {
    "name": "ipython",
    "version": 3
   },
   "file_extension": ".py",
   "mimetype": "text/x-python",
   "name": "python",
   "nbconvert_exporter": "python",
   "pygments_lexer": "ipython3",
   "version": "3.10.9"
  }
 },
 "nbformat": 4,
 "nbformat_minor": 5
}
