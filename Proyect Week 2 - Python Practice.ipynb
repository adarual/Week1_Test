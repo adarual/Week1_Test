{
 "cells": [
  {
   "cell_type": "code",
   "execution_count": 9,
   "id": "4f2e1d6e",
   "metadata": {},
   "outputs": [],
   "source": [
    "import matplotlib.pyplot as plt\n",
    "%matplotlib inline\n",
    "# %matplotlib notebook"
   ]
  },
  {
   "cell_type": "code",
   "execution_count": 10,
   "id": "9fcfd84e",
   "metadata": {},
   "outputs": [
    {
     "data": {
      "image/png": "[encoded data removed]",
      "text/plain": [
       "<Figure size 640x480 with 1 Axes>"
      ]
     },
     "metadata": {},
     "output_type": "display_data"
    }
   ],
   "source": [
    "fig, ax = plt.subplots()\n",
    "# plt.show()"
   ]
  },
  {
   "cell_type": "code",
   "execution_count": 11,
   "id": "50597379",
   "metadata": {},
   "outputs": [
    {
     "data": {
      "image/png": "[encoded data removed]",
      "text/plain": [
       "<Figure size 640x480 with 2 Axes>"
      ]
     },
     "metadata": {},
     "output_type": "display_data"
    }
   ],
   "source": [
    "fig, ax = plt.subplots(nrows=2,ncols=1)\n"
   ]
  },
  {
   "cell_type": "code",
   "execution_count": 12,
   "id": "27eb2cc5",
   "metadata": {},
   "outputs": [],
   "source": [
    "import pandas as pd"
   ]
  },
  {
   "cell_type": "code",
   "execution_count": 17,
   "id": "4db8d0d6",
   "metadata": {},
   "outputs": [
    {
     "name": "stdout",
     "output_type": "stream",
     "text": [
      "<class 'pandas.core.frame.DataFrame'>\n",
      "RangeIndex: 856 entries, 0 to 855\n",
      "Data columns (total 7 columns):\n",
      " #   Column   Non-Null Count  Dtype  \n",
      "---  ------   --------------  -----  \n",
      " 0   ID       856 non-null    int64  \n",
      " 1   Income   856 non-null    int64  \n",
      " 2   Term     856 non-null    object \n",
      " 3   Balance  856 non-null    int64  \n",
      " 4   Debt     856 non-null    int64  \n",
      " 5   Score    836 non-null    float64\n",
      " 6   Default  856 non-null    bool   \n",
      "dtypes: bool(1), float64(1), int64(4), object(1)\n",
      "memory usage: 41.1+ KB\n"
     ]
    }
   ],
   "source": [
    "df = pd.read_csv('Data/loan_data.csv')\n",
    "df.info()"
   ]
  },
  {
   "cell_type": "code",
   "execution_count": 18,
   "id": "cb50a5e1",
   "metadata": {},
   "outputs": [
    {
     "data": {
      "text/html": [
       "<div>\n",
       "<style scoped>\n",
       "    .dataframe tbody tr th:only-of-type {\n",
       "        vertical-align: middle;\n",
       "    }\n",
       "\n",
       "    .dataframe tbody tr th {\n",
       "        vertical-align: top;\n",
       "    }\n",
       "\n",
       "    .dataframe thead th {\n",
       "        text-align: right;\n",
       "    }\n",
       "</style>\n",
       "<table border=\"1\" class=\"dataframe\">\n",
       "  <thead>\n",
       "    <tr style=\"text-align: right;\">\n",
       "      <th></th>\n",
       "      <th>ID</th>\n",
       "      <th>Income</th>\n",
       "      <th>Balance</th>\n",
       "      <th>Debt</th>\n",
       "      <th>Score</th>\n",
       "    </tr>\n",
       "  </thead>\n",
       "  <tbody>\n",
       "    <tr>\n",
       "      <th>count</th>\n",
       "      <td>856.000000</td>\n",
       "      <td>856.000000</td>\n",
       "      <td>856.000000</td>\n",
       "      <td>856.000000</td>\n",
       "      <td>836.000000</td>\n",
       "    </tr>\n",
       "    <tr>\n",
       "      <th>mean</th>\n",
       "      <td>496.807243</td>\n",
       "      <td>29882.009346</td>\n",
       "      <td>1214.334112</td>\n",
       "      <td>643.785047</td>\n",
       "      <td>450.922249</td>\n",
       "    </tr>\n",
       "    <tr>\n",
       "      <th>std</th>\n",
       "      <td>288.488814</td>\n",
       "      <td>13976.264882</td>\n",
       "      <td>587.764941</td>\n",
       "      <td>1150.286509</td>\n",
       "      <td>269.207175</td>\n",
       "    </tr>\n",
       "    <tr>\n",
       "      <th>min</th>\n",
       "      <td>1.000000</td>\n",
       "      <td>11800.000000</td>\n",
       "      <td>140.000000</td>\n",
       "      <td>0.000000</td>\n",
       "      <td>0.000000</td>\n",
       "    </tr>\n",
       "    <tr>\n",
       "      <th>25%</th>\n",
       "      <td>245.500000</td>\n",
       "      <td>19800.000000</td>\n",
       "      <td>910.000000</td>\n",
       "      <td>0.000000</td>\n",
       "      <td>242.750000</td>\n",
       "    </tr>\n",
       "    <tr>\n",
       "      <th>50%</th>\n",
       "      <td>494.500000</td>\n",
       "      <td>22900.000000</td>\n",
       "      <td>1120.000000</td>\n",
       "      <td>65.000000</td>\n",
       "      <td>376.500000</td>\n",
       "    </tr>\n",
       "    <tr>\n",
       "      <th>75%</th>\n",
       "      <td>747.250000</td>\n",
       "      <td>39025.000000</td>\n",
       "      <td>1370.000000</td>\n",
       "      <td>958.750000</td>\n",
       "      <td>647.250000</td>\n",
       "    </tr>\n",
       "    <tr>\n",
       "      <th>max</th>\n",
       "      <td>1000.000000</td>\n",
       "      <td>86000.000000</td>\n",
       "      <td>6020.000000</td>\n",
       "      <td>12891.000000</td>\n",
       "      <td>1000.000000</td>\n",
       "    </tr>\n",
       "  </tbody>\n",
       "</table>\n",
       "</div>"
      ],
      "text/plain": [
       "                ID        Income      Balance          Debt        Score\n",
       "count   856.000000    856.000000   856.000000    856.000000   836.000000\n",
       "mean    496.807243  29882.009346  1214.334112    643.785047   450.922249\n",
       "std     288.488814  13976.264882   587.764941   1150.286509   269.207175\n",
       "min       1.000000  11800.000000   140.000000      0.000000     0.000000\n",
       "25%     245.500000  19800.000000   910.000000      0.000000   242.750000\n",
       "50%     494.500000  22900.000000  1120.000000     65.000000   376.500000\n",
       "75%     747.250000  39025.000000  1370.000000    958.750000   647.250000\n",
       "max    1000.000000  86000.000000  6020.000000  12891.000000  1000.000000"
      ]
     },
     "execution_count": 18,
     "metadata": {},
     "output_type": "execute_result"
    }
   ],
   "source": [
    "df.describe()"
   ]
  },
  {
   "cell_type": "code",
   "execution_count": 21,
   "id": "30f4465d",
   "metadata": {},
   "outputs": [],
   "source": [
    "import warnings\n",
    "warnings.filterwarnings('ignore', category = UserWarning)"
   ]
  },
  {
   "cell_type": "code",
   "execution_count": 22,
   "id": "fd6338ba",
   "metadata": {},
   "outputs": [],
   "source": [
    "import pandas as pd"
   ]
  },
  {
   "cell_type": "code",
   "execution_count": null,
   "id": "3e480912",
   "metadata": {},
   "outputs": [],
   "source": [
    "aaple_df = pd.read_csv('data/AAPL.csv')"
   ]
  },
  {
   "cell_type": "code",
   "execution_count": null,
   "id": "62ab2289",
   "metadata": {},
   "outputs": [],
   "source": []
  },
  {
   "cell_type": "code",
   "execution_count": null,
   "id": "d8bae449",
   "metadata": {},
   "outputs": [],
   "source": []
  }
 ],
 "metadata": {
  "kernelspec": {
   "display_name": "Python 3 (ipykernel)",
   "language": "python",
   "name": "python3"
  },
  "language_info": {
   "codemirror_mode": {
    "name": "ipython",
    "version": 3
   },
   "file_extension": ".py",
   "mimetype": "text/x-python",
   "name": "python",
   "nbconvert_exporter": "python",
   "pygments_lexer": "ipython3",
   "version": "3.10.9"
  }
 },
 "nbformat": 4,
 "nbformat_minor": 5
}
